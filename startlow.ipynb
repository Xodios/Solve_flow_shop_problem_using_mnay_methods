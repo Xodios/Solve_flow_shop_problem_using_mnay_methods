{
 "cells": [
  {
   "cell_type": "code",
   "execution_count": 2,
   "metadata": {},
   "outputs": [],
   "source": [
    "from tqdm.notebook import tqdm\n",
    "import numpy as np\n",
    "import time\n",
    "from itertools import permutations,combinations"
   ]
  },
  {
   "attachments": {},
   "cell_type": "markdown",
   "metadata": {},
   "source": [
    "Testing tqdm"
   ]
  },
  {
   "cell_type": "code",
   "execution_count": 3,
   "metadata": {},
   "outputs": [
    {
     "data": {
      "application/vnd.jupyter.widget-view+json": {
       "model_id": "d3e3524d75eb43faac9ce1f02e5e2250",
       "version_major": 2,
       "version_minor": 0
      },
      "text/plain": [
       "  0%|          | 0/10 [00:00<?, ?it/s]"
      ]
     },
     "metadata": {},
     "output_type": "display_data"
    },
    {
     "name": "stdout",
     "output_type": "stream",
     "text": [
      "hi\n",
      "hi\n",
      "hi\n",
      "hi\n",
      "hi\n",
      "hi\n",
      "hi\n",
      "hi\n",
      "hi\n",
      "hi\n"
     ]
    }
   ],
   "source": [
    "for i in tqdm(range(10)):\n",
    "    time.sleep(1)\n",
    "    print(\"hi\")"
   ]
  },
  {
   "attachments": {},
   "cell_type": "markdown",
   "metadata": {},
   "source": [
    "Let's start with something simple "
   ]
  },
  {
   "cell_type": "code",
   "execution_count": 4,
   "metadata": {},
   "outputs": [],
   "source": [
    "def do_the_job(job):\n",
    "    work_time =0\n",
    "    for i in job:\n",
    "        work_time = work_time+i\n",
    "    return work_time"
   ]
  },
  {
   "attachments": {},
   "cell_type": "markdown",
   "metadata": {},
   "source": [
    "For now it can only do one multiple machnes but 1 job so yeah it's stupid but we will improve it"
   ]
  },
  {
   "attachments": {},
   "cell_type": "markdown",
   "metadata": {},
   "source": [
    "We need to make each machine "
   ]
  },
  {
   "cell_type": "code",
   "execution_count": 5,
   "metadata": {},
   "outputs": [],
   "source": [
    "start_work_time =[[]]\n",
    "cmp = 0\n",
    "job = [[3, 4, 5],[0,2,5]]\n",
    "j =0\n",
    "for i in job[0]:\n",
    "    cmp += i\n",
    "    start_work_time[0].append(cmp-i)"
   ]
  },
  {
   "cell_type": "code",
   "execution_count": 6,
   "metadata": {},
   "outputs": [
    {
     "name": "stdout",
     "output_type": "stream",
     "text": [
      "[[0, 3, 7]]\n"
     ]
    }
   ],
   "source": [
    "print(start_work_time)"
   ]
  },
  {
   "cell_type": "code",
   "execution_count": 7,
   "metadata": {},
   "outputs": [],
   "source": [
    "def do_the_job(job):\n",
    "    start_work_time =[[]]\n",
    "    end_work_time = [[]]\n",
    "    cmp = 0\n",
    "    # intilialisation of the thingy (this it just the first one when he starts / finishes)\n",
    "    for i in job[0]:\n",
    "        cmp += i\n",
    "        start_work_time[0].append(cmp-i)\n",
    "        end_work_time[0].append(cmp)\n",
    "    # The real thing   \n",
    "    for i,j in enumerate(job):#tqdm(enumerate(job)):\n",
    "        if i != 0:\n",
    "            start_work_time.append([])\n",
    "            end_work_time.append([])\n",
    "            for k,l in enumerate(j):\n",
    "                if k == 0:\n",
    "                    start_work_time[i].append(end_work_time[i-1][k])\n",
    "                else:\n",
    "                    start_work_time[i].append(max(end_work_time[i-1][k],end_work_time[i][k-1]))\n",
    "                end_work_time[i].append(start_work_time[i][k]+l)\n",
    "    #     print(\"Start work time of \",i+1,\"is\",start_work_time[i])\n",
    "    #     print(\"End work time of\",i+1,\"is\",end_work_time[i])\n",
    "    # print(\"time of order n°\",i,\"is\",end_work_time[len(end_work_time)-1][len(end_work_time[0])-1])\n",
    "    return(end_work_time[len(end_work_time)-1][len(end_work_time[0])-1])"
   ]
  },
  {
   "cell_type": "code",
   "execution_count": 8,
   "metadata": {},
   "outputs": [
    {
     "data": {
      "text/plain": [
       "99"
      ]
     },
     "execution_count": 8,
     "metadata": {},
     "output_type": "execute_result"
    }
   ],
   "source": [
    "processing_times = [[4, 5, 6, 4, 5],\n",
    "                    [3, 4, 3, 4, 3],\n",
    "                    [2, 2, 2, 2, 2],\n",
    "                    [5, 5, 6, 5, 6],\n",
    "                    [3, 3, 3, 3, 3],\n",
    "                    [4, 5, 6, 5, 6],\n",
    "                    [2, 2, 2, 2, 2],\n",
    "                    [3, 3, 3, 3, 3],\n",
    "                    [4, 5, 6, 5, 6],\n",
    "                    [3, 4, 3, 4, 3],\n",
    "                    [2, 2, 2, 2, 2],\n",
    "                    [5, 5, 6, 5, 6],\n",
    "                    [4, 5, 6, 4, 5],\n",
    "                    [3, 4, 3, 4, 3],\n",
    "                    [2, 2, 2, 2, 2],\n",
    "                    [5, 5, 6, 5, 6],\n",
    "                    [3, 3, 3, 3, 3],\n",
    "                    [4, 5, 6, 5, 6],\n",
    "                    [2, 2, 2, 2, 2],\n",
    "                    [3, 3, 3, 3, 3]]\n",
    "do_the_job(processing_times)"
   ]
  },
  {
   "attachments": {},
   "cell_type": "markdown",
   "metadata": {},
   "source": [
    "Seems like it's working\n",
    "Though lists are hard to work with "
   ]
  },
  {
   "attachments": {},
   "cell_type": "markdown",
   "metadata": {},
   "source": [
    "Now we add a function that reads our list"
   ]
  },
  {
   "cell_type": "code",
   "execution_count": 9,
   "metadata": {},
   "outputs": [],
   "source": [
    "numbers_list = []\n",
    "\n",
    "with open('tai20_5.txt', 'r') as file:\n",
    "    for line in file:\n",
    "        numbers = line.strip().split()\n",
    "        if numbers:\n",
    "            try:\n",
    "                numbers = [float(num) for num in numbers]\n",
    "                numbers_list.extend(numbers)\n",
    "            except ValueError:\n",
    "                pass\n",
    "# Here we delete the stupid informations about branch and bound and stuff, for now I won't be suing them\n",
    "for i in range(0, 1050, 100):\n",
    "    del numbers_list[i:i+5]\n",
    "# now we split\n",
    "split = [numbers_list[i:i+100] for i in range(0, 1000, 100)]\n",
    "# decoupe en 10 lists of 5 lists of 20\n",
    "divided_lists = [[sublist[i:i+20] for i in range(0, 100, 20)] for sublist in split]"
   ]
  },
  {
   "cell_type": "code",
   "execution_count": 10,
   "metadata": {},
   "outputs": [],
   "source": [
    "job_1 = [[row[i] for row in divided_lists[0]] for i in range(len(divided_lists[0][0]))]"
   ]
  },
  {
   "cell_type": "code",
   "execution_count": 11,
   "metadata": {},
   "outputs": [
    {
     "data": {
      "text/plain": [
       "[[54.0, 79.0, 16.0, 66.0, 58.0],\n",
       " [83.0, 3.0, 89.0, 58.0, 56.0],\n",
       " [15.0, 11.0, 49.0, 31.0, 20.0],\n",
       " [71.0, 99.0, 15.0, 68.0, 85.0],\n",
       " [77.0, 56.0, 89.0, 78.0, 53.0],\n",
       " [36.0, 70.0, 45.0, 91.0, 35.0],\n",
       " [53.0, 99.0, 60.0, 13.0, 53.0],\n",
       " [38.0, 60.0, 23.0, 59.0, 41.0],\n",
       " [27.0, 5.0, 57.0, 49.0, 69.0],\n",
       " [87.0, 56.0, 64.0, 85.0, 13.0],\n",
       " [76.0, 3.0, 7.0, 85.0, 86.0],\n",
       " [91.0, 61.0, 1.0, 9.0, 72.0],\n",
       " [14.0, 73.0, 63.0, 39.0, 8.0],\n",
       " [29.0, 75.0, 41.0, 41.0, 49.0],\n",
       " [12.0, 47.0, 63.0, 56.0, 47.0],\n",
       " [77.0, 14.0, 47.0, 40.0, 87.0],\n",
       " [32.0, 21.0, 26.0, 54.0, 58.0],\n",
       " [87.0, 86.0, 75.0, 77.0, 18.0],\n",
       " [68.0, 5.0, 77.0, 51.0, 68.0],\n",
       " [94.0, 77.0, 40.0, 31.0, 28.0]]"
      ]
     },
     "execution_count": 11,
     "metadata": {},
     "output_type": "execute_result"
    }
   ],
   "source": [
    "job_1"
   ]
  },
  {
   "cell_type": "code",
   "execution_count": 12,
   "metadata": {},
   "outputs": [
    {
     "data": {
      "text/plain": [
       "1448.0"
      ]
     },
     "execution_count": 12,
     "metadata": {},
     "output_type": "execute_result"
    }
   ],
   "source": [
    "do_the_job(job_1)"
   ]
  },
  {
   "attachments": {},
   "cell_type": "markdown",
   "metadata": {},
   "source": [
    "Change time limit"
   ]
  },
  {
   "cell_type": "code",
   "execution_count": 13,
   "metadata": {},
   "outputs": [],
   "source": [
    "def do_the_job_all_possibilities(list,time_limit):\n",
    "    minimum = 100000\n",
    "    start_time = time.time()\n",
    "    for index,job in tqdm(enumerate(permutations(list,20))):\n",
    "        if time.time() - start_time > time_limit:\n",
    "            print(\"Time limit exceeded\")\n",
    "            break\n",
    "        start_work_time =[[]]\n",
    "        end_work_time = [[]]\n",
    "        cmp = 0\n",
    "        # intilialisation of the thingy (this it just the first one when he starts / finishes)\n",
    "        for i in job[0]:\n",
    "            cmp += i\n",
    "            start_work_time[0].append(cmp-i)\n",
    "            end_work_time[0].append(cmp)\n",
    "        # The real thing   \n",
    "        for i,j in enumerate(job):#tqdm(enumerate(job)):\n",
    "            if i != 0:\n",
    "                start_work_time.append([])\n",
    "                end_work_time.append([])\n",
    "                for k,l in enumerate(j):\n",
    "                    if k == 0:\n",
    "                        start_work_time[i].append(end_work_time[i-1][k])\n",
    "                    else:\n",
    "                        start_work_time[i].append(max(end_work_time[i-1][k],end_work_time[i][k-1]))\n",
    "                    end_work_time[i].append(start_work_time[i][k]+l)\n",
    "            #print(\"Start work time of \",i+1,\"is\",start_work_time[i])\n",
    "            #print(\"End work time of\",i+1,\"is\",end_work_time[i])\n",
    "        minimum = min(minimum,end_work_time[len(end_work_time)-1][len(end_work_time[0])-1])\n",
    "        if minimum == end_work_time[len(end_work_time)-1][len(end_work_time[0])-1]:\n",
    "            min_job = job\n",
    "            order = index\n",
    "    print(\"the minimum is: \",minimum,min_job)#order,min_job)"
   ]
  },
  {
   "attachments": {},
   "cell_type": "markdown",
   "metadata": {},
   "source": [
    "Change the time limit"
   ]
  },
  {
   "cell_type": "code",
   "execution_count": 12,
   "metadata": {},
   "outputs": [
    {
     "data": {
      "application/vnd.jupyter.widget-view+json": {
       "model_id": "0ebd5c7b0299420eb2fef909eaae5196",
       "version_major": 2,
       "version_minor": 0
      },
      "text/plain": [
       "0it [00:00, ?it/s]"
      ]
     },
     "metadata": {},
     "output_type": "display_data"
    },
    {
     "name": "stdout",
     "output_type": "stream",
     "text": [
      "Time limit exceeded\n",
      "the minimum is:  1376.0 ([54.0, 79.0, 16.0, 66.0, 58.0], [83.0, 3.0, 89.0, 58.0, 56.0], [15.0, 11.0, 49.0, 31.0, 20.0], [71.0, 99.0, 15.0, 68.0, 85.0], [77.0, 56.0, 89.0, 78.0, 53.0], [36.0, 70.0, 45.0, 91.0, 35.0], [53.0, 99.0, 60.0, 13.0, 53.0], [38.0, 60.0, 23.0, 59.0, 41.0], [27.0, 5.0, 57.0, 49.0, 69.0], [87.0, 56.0, 64.0, 85.0, 13.0], [91.0, 61.0, 1.0, 9.0, 72.0], [68.0, 5.0, 77.0, 51.0, 68.0], [32.0, 21.0, 26.0, 54.0, 58.0], [77.0, 14.0, 47.0, 40.0, 87.0], [12.0, 47.0, 63.0, 56.0, 47.0], [29.0, 75.0, 41.0, 41.0, 49.0], [14.0, 73.0, 63.0, 39.0, 8.0], [76.0, 3.0, 7.0, 85.0, 86.0], [87.0, 86.0, 75.0, 77.0, 18.0], [94.0, 77.0, 40.0, 31.0, 28.0])\n"
     ]
    }
   ],
   "source": [
    "do_the_job_all_possibilities(job_1,60)"
   ]
  },
  {
   "cell_type": "code",
   "execution_count": 55,
   "metadata": {},
   "outputs": [
    {
     "data": {
      "application/vnd.jupyter.widget-view+json": {
       "model_id": "90c5ce05372241f8929600b0ecb6b3bc",
       "version_major": 2,
       "version_minor": 0
      },
      "text/plain": [
       "0it [00:00, ?it/s]"
      ]
     },
     "metadata": {},
     "output_type": "display_data"
    },
    {
     "name": "stdout",
     "output_type": "stream",
     "text": [
      "Time limit exceeded\n",
      "the minimum is:  1376.0 673614 ([54.0, 79.0, 16.0, 66.0, 58.0], [83.0, 3.0, 89.0, 58.0, 56.0], [15.0, 11.0, 49.0, 31.0, 20.0], [71.0, 99.0, 15.0, 68.0, 85.0], [77.0, 56.0, 89.0, 78.0, 53.0], [36.0, 70.0, 45.0, 91.0, 35.0], [53.0, 99.0, 60.0, 13.0, 53.0], [38.0, 60.0, 23.0, 59.0, 41.0], [27.0, 5.0, 57.0, 49.0, 69.0], [87.0, 56.0, 64.0, 85.0, 13.0], [91.0, 61.0, 1.0, 9.0, 72.0], [68.0, 5.0, 77.0, 51.0, 68.0], [32.0, 21.0, 26.0, 54.0, 58.0], [77.0, 14.0, 47.0, 40.0, 87.0], [12.0, 47.0, 63.0, 56.0, 47.0], [29.0, 75.0, 41.0, 41.0, 49.0], [14.0, 73.0, 63.0, 39.0, 8.0], [76.0, 3.0, 7.0, 85.0, 86.0], [87.0, 86.0, 75.0, 77.0, 18.0], [94.0, 77.0, 40.0, 31.0, 28.0])\n"
     ]
    }
   ],
   "source": [
    "do_the_job_all_possibilities(job_1,120)"
   ]
  },
  {
   "cell_type": "code",
   "execution_count": 56,
   "metadata": {},
   "outputs": [
    {
     "data": {
      "application/vnd.jupyter.widget-view+json": {
       "model_id": "e25fa0f73aba40a0934a07d4608ba01f",
       "version_major": 2,
       "version_minor": 0
      },
      "text/plain": [
       "0it [00:00, ?it/s]"
      ]
     },
     "metadata": {},
     "output_type": "display_data"
    },
    {
     "name": "stdout",
     "output_type": "stream",
     "text": [
      "Time limit exceeded\n",
      "the minimum is:  1376.0 4556015 ([54.0, 79.0, 16.0, 66.0, 58.0], [83.0, 3.0, 89.0, 58.0, 56.0], [15.0, 11.0, 49.0, 31.0, 20.0], [71.0, 99.0, 15.0, 68.0, 85.0], [77.0, 56.0, 89.0, 78.0, 53.0], [36.0, 70.0, 45.0, 91.0, 35.0], [53.0, 99.0, 60.0, 13.0, 53.0], [38.0, 60.0, 23.0, 59.0, 41.0], [27.0, 5.0, 57.0, 49.0, 69.0], [76.0, 3.0, 7.0, 85.0, 86.0], [14.0, 73.0, 63.0, 39.0, 8.0], [77.0, 14.0, 47.0, 40.0, 87.0], [94.0, 77.0, 40.0, 31.0, 28.0], [68.0, 5.0, 77.0, 51.0, 68.0], [32.0, 21.0, 26.0, 54.0, 58.0], [12.0, 47.0, 63.0, 56.0, 47.0], [87.0, 86.0, 75.0, 77.0, 18.0], [29.0, 75.0, 41.0, 41.0, 49.0], [91.0, 61.0, 1.0, 9.0, 72.0], [87.0, 56.0, 64.0, 85.0, 13.0])\n"
     ]
    }
   ],
   "source": [
    "do_the_job_all_possibilities(job_1,180)"
   ]
  },
  {
   "cell_type": "code",
   "execution_count": 79,
   "metadata": {},
   "outputs": [
    {
     "data": {
      "application/vnd.jupyter.widget-view+json": {
       "model_id": "0e41690f8f0a4a27b5247e0c3a9eba07",
       "version_major": 2,
       "version_minor": 0
      },
      "text/plain": [
       "0it [00:00, ?it/s]"
      ]
     },
     "metadata": {},
     "output_type": "display_data"
    },
    {
     "name": "stdout",
     "output_type": "stream",
     "text": [
      "Time limit exceeded\n",
      "the minimum is:  1376.0 6248878 ([54.0, 79.0, 16.0, 66.0, 58.0], [83.0, 3.0, 89.0, 58.0, 56.0], [15.0, 11.0, 49.0, 31.0, 20.0], [71.0, 99.0, 15.0, 68.0, 85.0], [77.0, 56.0, 89.0, 78.0, 53.0], [36.0, 70.0, 45.0, 91.0, 35.0], [53.0, 99.0, 60.0, 13.0, 53.0], [38.0, 60.0, 23.0, 59.0, 41.0], [27.0, 5.0, 57.0, 49.0, 69.0], [76.0, 3.0, 7.0, 85.0, 86.0], [87.0, 86.0, 75.0, 77.0, 18.0], [91.0, 61.0, 1.0, 9.0, 72.0], [94.0, 77.0, 40.0, 31.0, 28.0], [32.0, 21.0, 26.0, 54.0, 58.0], [68.0, 5.0, 77.0, 51.0, 68.0], [77.0, 14.0, 47.0, 40.0, 87.0], [12.0, 47.0, 63.0, 56.0, 47.0], [29.0, 75.0, 41.0, 41.0, 49.0], [87.0, 56.0, 64.0, 85.0, 13.0], [14.0, 73.0, 63.0, 39.0, 8.0])\n"
     ]
    }
   ],
   "source": [
    "do_the_job_all_possibilities(job_1,240)"
   ]
  },
  {
   "cell_type": "code",
   "execution_count": 80,
   "metadata": {},
   "outputs": [
    {
     "data": {
      "application/vnd.jupyter.widget-view+json": {
       "model_id": "49c5beab7c0f4e749f4788acac0d8893",
       "version_major": 2,
       "version_minor": 0
      },
      "text/plain": [
       "0it [00:00, ?it/s]"
      ]
     },
     "metadata": {},
     "output_type": "display_data"
    },
    {
     "name": "stdout",
     "output_type": "stream",
     "text": [
      "Time limit exceeded\n",
      "the minimum is:  1368.0 9307316 ([54.0, 79.0, 16.0, 66.0, 58.0], [83.0, 3.0, 89.0, 58.0, 56.0], [15.0, 11.0, 49.0, 31.0, 20.0], [71.0, 99.0, 15.0, 68.0, 85.0], [77.0, 56.0, 89.0, 78.0, 53.0], [36.0, 70.0, 45.0, 91.0, 35.0], [53.0, 99.0, 60.0, 13.0, 53.0], [38.0, 60.0, 23.0, 59.0, 41.0], [27.0, 5.0, 57.0, 49.0, 69.0], [91.0, 61.0, 1.0, 9.0, 72.0], [77.0, 14.0, 47.0, 40.0, 87.0], [32.0, 21.0, 26.0, 54.0, 58.0], [68.0, 5.0, 77.0, 51.0, 68.0], [12.0, 47.0, 63.0, 56.0, 47.0], [87.0, 86.0, 75.0, 77.0, 18.0], [94.0, 77.0, 40.0, 31.0, 28.0], [29.0, 75.0, 41.0, 41.0, 49.0], [76.0, 3.0, 7.0, 85.0, 86.0], [87.0, 56.0, 64.0, 85.0, 13.0], [14.0, 73.0, 63.0, 39.0, 8.0])\n"
     ]
    }
   ],
   "source": [
    "do_the_job_all_possibilities(job_1,360)"
   ]
  },
  {
   "cell_type": "code",
   "execution_count": null,
   "metadata": {},
   "outputs": [],
   "source": [
    "do_the_job_all_possibilities(job_1,360)"
   ]
  },
  {
   "cell_type": "code",
   "execution_count": 14,
   "metadata": {},
   "outputs": [],
   "source": [
    "def do_the_job_with_min(job):\n",
    "    start_work_time =[[]]\n",
    "    end_work_time = [[]]\n",
    "    cmp = 0\n",
    "    # The shortest job first \n",
    "    minimum = [0,100000]\n",
    "    for i,j in enumerate(job): \n",
    "        minimum = [i,sum(j)] if minimum[1]>sum(j) else minimum\n",
    "    print(minimum)\n",
    "    # To evaluate\n",
    "    for i,j in tqdm(enumerate(job)):\n",
    "        if i != 0:\n",
    "            start_work_time.append([])\n",
    "            end_work_time.append([])\n",
    "            for k,l in enumerate(j):\n",
    "                if k == 0:\n",
    "                    start_work_time[i].append(end_work_time[i-1][k])\n",
    "                else:\n",
    "                    start_work_time[i].append(max(end_work_time[i-1][k],end_work_time[i][k-1]))\n",
    "                end_work_time[i].append(start_work_time[i][k]+l)\n",
    "        print(\"Start work time of \",i+1,\"is\",start_work_time[i])\n",
    "        print(\"End work time of\",i+1,\"is\",end_work_time[i])\n",
    "    print(\"time of order n°\",i,\"is\",end_work_time[len(end_work_time)-1][len(end_work_time[0])-1])"
   ]
  },
  {
   "cell_type": "code",
   "execution_count": 15,
   "metadata": {},
   "outputs": [],
   "source": [
    "def evaluate_job(job):\n",
    "    start_work_time =[[]]\n",
    "    end_work_time = [[]]\n",
    "    for i,j in tqdm(enumerate(job)):\n",
    "        if i != 0:\n",
    "            start_work_time.append([])\n",
    "            end_work_time.append([])\n",
    "            for k,l in enumerate(j):\n",
    "                if k == 0:\n",
    "                    start_work_time[i].append(end_work_time[i-1][k])\n",
    "                else:\n",
    "                    start_work_time[i].append(max(end_work_time[i-1][k],end_work_time[i][k-1]))\n",
    "                end_work_time[i].append(start_work_time[i][k]+l)\n",
    "        print(\"Start work time of \",i+1,\"is\",start_work_time[i])\n",
    "        print(\"End work time of\",i+1,\"is\",end_work_time[i])\n",
    "    print(\"time of order n°\",i,\"is\",end_work_time[len(end_work_time)-1][len(end_work_time[0])-1])"
   ]
  },
  {
   "attachments": {},
   "cell_type": "markdown",
   "metadata": {},
   "source": [
    "We take the job and calculate how much it will take\n",
    "    then we add another one and calculate how much it will take \n",
    "\n",
    "Combinations give us all the combinations of 3"
   ]
  },
  {
   "cell_type": "code",
   "execution_count": 42,
   "metadata": {},
   "outputs": [],
   "source": [
    "def do_the_job_limited(list,time_limit,number):\n",
    "    minimum = 100000\n",
    "    start_time = time.time()\n",
    "    for index,job in tqdm(enumerate(permutations(list,number))):\n",
    "        if time.time() - start_time > time_limit:\n",
    "            print(\"Time limit exceeded\")\n",
    "            break\n",
    "        start_work_time =[[]]\n",
    "        end_work_time = [[]]\n",
    "        cmp = 0\n",
    "        # intilialisation of the thingy (this it just the first one when he starts / finishes)\n",
    "        for i in job[0]:\n",
    "            cmp += i\n",
    "            start_work_time[0].append(cmp-i)\n",
    "            end_work_time[0].append(cmp)\n",
    "        # The real thing   \n",
    "        for i,j in enumerate(job):#tqdm(enumerate(job)):\n",
    "            if i != 0:\n",
    "                start_work_time.append([])\n",
    "                end_work_time.append([])\n",
    "                for k,l in enumerate(j):\n",
    "                    if k == 0:\n",
    "                        start_work_time[i].append(end_work_time[i-1][k])\n",
    "                    else:\n",
    "                        start_work_time[i].append(max(end_work_time[i-1][k],end_work_time[i][k-1]))\n",
    "                    end_work_time[i].append(start_work_time[i][k]+l)\n",
    "            #print(\"Start work time of \",i+1,\"is\",start_work_time[i])fdfa   \n",
    "            #print(\"End work time of\",i+1,\"is\",end_work_time[i])\n",
    "        minimum = min(minimum,end_work_time[len(end_work_time)-1][len(end_work_time[0])-1])\n",
    "        if minimum == end_work_time[len(end_work_time)-1][len(end_work_time[0])-1]:\n",
    "            min_job = job\n",
    "    print(\"the minimum is: \",minimum,min_job)\n",
    "    return(min_job)"
   ]
  },
  {
   "cell_type": "code",
   "execution_count": 104,
   "metadata": {},
   "outputs": [
    {
     "data": {
      "application/vnd.jupyter.widget-view+json": {
       "model_id": "41c53a5ab7b04444be410d0fb71fde47",
       "version_major": 2,
       "version_minor": 0
      },
      "text/plain": [
       "0it [00:00, ?it/s]"
      ]
     },
     "metadata": {},
     "output_type": "display_data"
    },
    {
     "name": "stdout",
     "output_type": "stream",
     "text": [
      "Time limit exceeded\n",
      "the minimum is:  440.0 ([27.0, 5.0, 57.0, 49.0, 69.0], [12.0, 47.0, 63.0, 56.0, 47.0], [32.0, 21.0, 26.0, 54.0, 58.0], [29.0, 75.0, 41.0, 41.0, 49.0], [38.0, 60.0, 23.0, 59.0, 41.0], [15.0, 11.0, 49.0, 31.0, 20.0], [14.0, 73.0, 63.0, 39.0, 8.0])\n"
     ]
    }
   ],
   "source": [
    "do_the_job_limited(job_1,4500,7)"
   ]
  },
  {
   "cell_type": "code",
   "execution_count": 109,
   "metadata": {},
   "outputs": [
    {
     "data": {
      "application/vnd.jupyter.widget-view+json": {
       "model_id": "544544ec3293409bb341a613a114b3db",
       "version_major": 2,
       "version_minor": 0
      },
      "text/plain": [
       "0it [00:00, ?it/s]"
      ]
     },
     "metadata": {},
     "output_type": "display_data"
    },
    {
     "name": "stdout",
     "output_type": "stream",
     "text": [
      "the minimum is:  340.0 ([27.0, 5.0, 57.0, 49.0, 69.0], [32.0, 21.0, 26.0, 54.0, 58.0], [15.0, 11.0, 49.0, 31.0, 20.0], [12.0, 47.0, 63.0, 56.0, 47.0], [14.0, 73.0, 63.0, 39.0, 8.0])\n"
     ]
    }
   ],
   "source": [
    "do_the_job_limited(job_1,4500,5)"
   ]
  },
  {
   "cell_type": "code",
   "execution_count": 110,
   "metadata": {},
   "outputs": [
    {
     "data": {
      "application/vnd.jupyter.widget-view+json": {
       "model_id": "4110da61fee943cf81c48de73c681826",
       "version_major": 2,
       "version_minor": 0
      },
      "text/plain": [
       "0it [00:00, ?it/s]"
      ]
     },
     "metadata": {},
     "output_type": "display_data"
    },
    {
     "name": "stdout",
     "output_type": "stream",
     "text": [
      "the minimum is:  383.0 ([15.0, 11.0, 49.0, 31.0, 20.0], [32.0, 21.0, 26.0, 54.0, 58.0], [27.0, 5.0, 57.0, 49.0, 69.0], [12.0, 47.0, 63.0, 56.0, 47.0], [14.0, 73.0, 63.0, 39.0, 8.0], [94.0, 77.0, 40.0, 31.0, 28.0])\n"
     ]
    }
   ],
   "source": [
    "do_the_job_limited(job_1,4500,6)"
   ]
  },
  {
   "cell_type": "code",
   "execution_count": 111,
   "metadata": {},
   "outputs": [
    {
     "data": {
      "application/vnd.jupyter.widget-view+json": {
       "model_id": "6654690cdecd4f8c8e508f8e7416ae23",
       "version_major": 2,
       "version_minor": 0
      },
      "text/plain": [
       "0it [00:00, ?it/s]"
      ]
     },
     "metadata": {},
     "output_type": "display_data"
    },
    {
     "name": "stdout",
     "output_type": "stream",
     "text": [
      "the minimum is:  440.0 ([27.0, 5.0, 57.0, 49.0, 69.0], [12.0, 47.0, 63.0, 56.0, 47.0], [32.0, 21.0, 26.0, 54.0, 58.0], [29.0, 75.0, 41.0, 41.0, 49.0], [38.0, 60.0, 23.0, 59.0, 41.0], [15.0, 11.0, 49.0, 31.0, 20.0], [14.0, 73.0, 63.0, 39.0, 8.0])\n"
     ]
    }
   ],
   "source": [
    "do_the_job_limited(job_1,10000,7)"
   ]
  },
  {
   "cell_type": "code",
   "execution_count": 12,
   "metadata": {},
   "outputs": [
    {
     "data": {
      "application/vnd.jupyter.widget-view+json": {
       "model_id": "e32ba0eb18254a589e998fab71627029",
       "version_major": 2,
       "version_minor": 0
      },
      "text/plain": [
       "0it [00:00, ?it/s]"
      ]
     },
     "metadata": {},
     "output_type": "display_data"
    },
    {
     "name": "stdout",
     "output_type": "stream",
     "text": [
      "Time limit exceeded\n",
      "the minimum is:  506.0 ([54.0, 79.0, 16.0, 66.0, 58.0], [15.0, 11.0, 49.0, 31.0, 20.0], [32.0, 21.0, 26.0, 54.0, 58.0], [27.0, 5.0, 57.0, 49.0, 69.0], [38.0, 60.0, 23.0, 59.0, 41.0], [14.0, 73.0, 63.0, 39.0, 8.0], [94.0, 77.0, 40.0, 31.0, 28.0])\n"
     ]
    }
   ],
   "source": [
    "do_the_job_limited(job_1,60,7)"
   ]
  },
  {
   "attachments": {},
   "cell_type": "markdown",
   "metadata": {},
   "source": [
    "# Tests to validate the resuls from ines"
   ]
  },
  {
   "cell_type": "code",
   "execution_count": 66,
   "metadata": {},
   "outputs": [],
   "source": [
    "numbers_list_test = []\n",
    "\n",
    "with open('random_instance.txt', 'r') as file:\n",
    "    for line in file:\n",
    "        numbers = line.strip().split()\n",
    "        if numbers:\n",
    "            try:\n",
    "                numbers = [float(num) for num in numbers]\n",
    "                numbers_list_test.extend(numbers)\n",
    "            except ValueError:\n",
    "                pass\n",
    "# # Here we delete the stupid informations about branch and bound and stuff, for now I won't be suing them\n",
    "# for i in range(0, 1050, 100):\n",
    "#     del numbers_list_test[i:i+5]"
   ]
  },
  {
   "cell_type": "code",
   "execution_count": 67,
   "metadata": {},
   "outputs": [
    {
     "data": {
      "text/plain": [
       "[[71.0, 79.0, 85.0, 82.0, 83.0],\n",
       " [84.0, 71.0, 66.0, 68.0, 81.0],\n",
       " [78.0, 81.0, 75.0, 72.0, 87.0],\n",
       " [78.0, 75.0, 66.0, 72.0, 88.0],\n",
       " [72.0, 88.0, 83.0, 85.0, 88.0],\n",
       " [86.0, 88.0, 79.0, 82.0, 78.0],\n",
       " [75.0, 66.0, 86.0, 78.0, 78.0],\n",
       " [80.0, 79.0, 66.0, 83.0, 78.0],\n",
       " [73.0, 73.0, 67.0, 77.0, 71.0],\n",
       " [80.0, 77.0, 83.0, 78.0, 67.0]]"
      ]
     },
     "execution_count": 67,
     "metadata": {},
     "output_type": "execute_result"
    }
   ],
   "source": [
    "sublists = [numbers_list_test[i:i+5] for i in range(0, len(numbers_list_test), 5)]\n",
    "sublists"
   ]
  },
  {
   "cell_type": "code",
   "execution_count": 69,
   "metadata": {},
   "outputs": [
    {
     "data": {
      "application/vnd.jupyter.widget-view+json": {
       "model_id": "a0e6839ebe2d454084467cc501808914",
       "version_major": 2,
       "version_minor": 0
      },
      "text/plain": [
       "0it [00:00, ?it/s]"
      ]
     },
     "metadata": {},
     "output_type": "display_data"
    },
    {
     "name": "stdout",
     "output_type": "stream",
     "text": [
      "the minimum is:  1102.0 ([78.0, 75.0, 66.0, 72.0, 88.0], [78.0, 81.0, 75.0, 72.0, 87.0], [80.0, 79.0, 66.0, 83.0, 78.0], [75.0, 66.0, 86.0, 78.0, 78.0], [73.0, 73.0, 67.0, 77.0, 71.0], [71.0, 79.0, 85.0, 82.0, 83.0], [84.0, 71.0, 66.0, 68.0, 81.0], [72.0, 88.0, 83.0, 85.0, 88.0], [86.0, 88.0, 79.0, 82.0, 78.0], [80.0, 77.0, 83.0, 78.0, 67.0])\n"
     ]
    },
    {
     "data": {
      "text/plain": [
       "([78.0, 75.0, 66.0, 72.0, 88.0],\n",
       " [78.0, 81.0, 75.0, 72.0, 87.0],\n",
       " [80.0, 79.0, 66.0, 83.0, 78.0],\n",
       " [75.0, 66.0, 86.0, 78.0, 78.0],\n",
       " [73.0, 73.0, 67.0, 77.0, 71.0],\n",
       " [71.0, 79.0, 85.0, 82.0, 83.0],\n",
       " [84.0, 71.0, 66.0, 68.0, 81.0],\n",
       " [72.0, 88.0, 83.0, 85.0, 88.0],\n",
       " [86.0, 88.0, 79.0, 82.0, 78.0],\n",
       " [80.0, 77.0, 83.0, 78.0, 67.0])"
      ]
     },
     "execution_count": 69,
     "metadata": {},
     "output_type": "execute_result"
    }
   ],
   "source": [
    "do_the_job_limited(sublists,1000,10)"
   ]
  },
  {
   "cell_type": "code",
   "execution_count": 20,
   "metadata": {},
   "outputs": [
    {
     "data": {
      "text/plain": [
       "[[61.0, 61.0, 61.0],\n",
       " [63.0, 63.0, 59.0],\n",
       " [63.0, 60.0, 63.0],\n",
       " [58.0, 60.0, 61.0],\n",
       " [60.0, 59.0, 56.0],\n",
       " [57.0, 62.0, 57.0],\n",
       " [63.0, 58.0, 59.0],\n",
       " [62.0, 62.0, 63.0]]"
      ]
     },
     "execution_count": 20,
     "metadata": {},
     "output_type": "execute_result"
    }
   ],
   "source": [
    "numbers_list_test_83 = []\n",
    "\n",
    "with open('random_8_3.txt', 'r') as file:\n",
    "    for line in file:\n",
    "        numbers = line.strip().split()\n",
    "        if numbers:\n",
    "            try:\n",
    "                numbers = [float(num) for num in numbers]\n",
    "                numbers_list_test_83.extend(numbers)\n",
    "            except ValueError:\n",
    "                pass\n",
    "\n",
    "sublists_83 = [numbers_list_test_83[i:i+3] for i in range(0, len(numbers_list_test_83), 3)]\n",
    "sublists_83"
   ]
  },
  {
   "cell_type": "code",
   "execution_count": 162,
   "metadata": {},
   "outputs": [
    {
     "data": {
      "application/vnd.jupyter.widget-view+json": {
       "model_id": "4229b797620941209bab7cfe2250ae9e",
       "version_major": 2,
       "version_minor": 0
      },
      "text/plain": [
       "0it [00:00, ?it/s]"
      ]
     },
     "metadata": {},
     "output_type": "display_data"
    },
    {
     "name": "stdout",
     "output_type": "stream",
     "text": [
      "the minimum is:  602.0 ([57.0, 62.0, 57.0], [58.0, 60.0, 61.0], [62.0, 62.0, 63.0], [63.0, 60.0, 63.0], [61.0, 61.0, 61.0], [63.0, 63.0, 59.0], [63.0, 58.0, 59.0], [60.0, 59.0, 56.0])\n"
     ]
    }
   ],
   "source": [
    "do_the_job_limited(sublists_83,1000,8)"
   ]
  },
  {
   "attachments": {},
   "cell_type": "markdown",
   "metadata": {},
   "source": [
    "# Palmar Heuristic\n",
    "\n",
    "we add weights to different machines and calculate the P of each job then order them by descending order\n",
    "\n",
    "what if they are equals ? well let's make them randomly then\n",
    "\n",
    "I'll go with -2 -1 0 1 2 as weights \n",
    "\n",
    "Let's impliment it:"
   ]
  },
  {
   "cell_type": "code",
   "execution_count": 72,
   "metadata": {},
   "outputs": [],
   "source": [
    "job_1 = [[row[i] for row in divided_lists[0]] for i in range(len(divided_lists[0][0]))]"
   ]
  },
  {
   "cell_type": "code",
   "execution_count": 22,
   "metadata": {},
   "outputs": [],
   "source": [
    "Weight = [-2,-1,0,1,2]\n",
    "weighted_job_1 = job_1[:]"
   ]
  },
  {
   "attachments": {},
   "cell_type": "markdown",
   "metadata": {},
   "source": [
    "Now we calculate the weights of each job:"
   ]
  },
  {
   "cell_type": "code",
   "execution_count": 23,
   "metadata": {},
   "outputs": [],
   "source": [
    "for i in range(len(weighted_job_1)):\n",
    "    for j in range(len(weighted_job_1[i])):\n",
    "        weighted_job_1[i][j] *= Weight[j]"
   ]
  },
  {
   "cell_type": "code",
   "execution_count": 24,
   "metadata": {},
   "outputs": [],
   "source": [
    "finale_weights = []\n",
    "for j in weighted_job_1:\n",
    "    sum_weight = sum(j)\n",
    "    finale_weights.append(sum_weight)"
   ]
  },
  {
   "cell_type": "code",
   "execution_count": 25,
   "metadata": {},
   "outputs": [],
   "source": [
    "sorted_with_indices = sorted(enumerate(finale_weights), key=lambda x: x[1], reverse=True)\n",
    "sorted_list = [x[1] for x in sorted_with_indices]\n",
    "sorted_indices = [x[0] for x in sorted_with_indices]"
   ]
  },
  {
   "cell_type": "code",
   "execution_count": 26,
   "metadata": {},
   "outputs": [],
   "source": [
    "job_1 = [[row[i] for row in divided_lists[0]] for i in range(len(divided_lists[0][0]))]"
   ]
  },
  {
   "cell_type": "code",
   "execution_count": 74,
   "metadata": {},
   "outputs": [
    {
     "name": "stdout",
     "output_type": "stream",
     "text": [
      "[[38.0, 60.0, 23.0, 59.0, 41.0], [83.0, 3.0, 89.0, 58.0, 56.0], [36.0, 70.0, 45.0, 91.0, 35.0], [15.0, 11.0, 49.0, 31.0, 20.0], [27.0, 5.0, 57.0, 49.0, 69.0], [87.0, 56.0, 64.0, 85.0, 13.0], [71.0, 99.0, 15.0, 68.0, 85.0], [77.0, 56.0, 89.0, 78.0, 53.0], [54.0, 79.0, 16.0, 66.0, 58.0], [53.0, 99.0, 60.0, 13.0, 53.0]]\n"
     ]
    }
   ],
   "source": [
    "combined = zip(job_1, sorted_indices)\n",
    "sorted_combined = sorted(combined, key=lambda x: x[1])\n",
    "sorted_list = [x[0] for x in sorted_combined]\n",
    "print(sorted_list)"
   ]
  },
  {
   "cell_type": "code",
   "execution_count": 28,
   "metadata": {},
   "outputs": [
    {
     "data": {
      "text/plain": [
       "1455.0"
      ]
     },
     "execution_count": 28,
     "metadata": {},
     "output_type": "execute_result"
    }
   ],
   "source": [
    "do_the_job(sorted_list)"
   ]
  },
  {
   "cell_type": "code",
   "execution_count": 29,
   "metadata": {},
   "outputs": [
    {
     "data": {
      "text/plain": [
       "1597.0"
      ]
     },
     "execution_count": 29,
     "metadata": {},
     "output_type": "execute_result"
    }
   ],
   "source": [
    "job_1 = [[row[i] for row in divided_lists[0]] for i in range(len(divided_lists[0][0]))]\n",
    "Weight = [1,2,3,4,5]\n",
    "weighted_job_1 = job_1[:]\n",
    "for i in range(len(weighted_job_1)):\n",
    "    for j in range(len(weighted_job_1[i])):\n",
    "        weighted_job_1[i][j] *= Weight[j]\n",
    "finale_weights = []\n",
    "for j in weighted_job_1:\n",
    "    sum_weight = sum(j)\n",
    "    finale_weights.append(sum_weight)\n",
    "sorted_with_indices = sorted(enumerate(finale_weights), key=lambda x: x[1], reverse=True)\n",
    "sorted_list = [x[1] for x in sorted_with_indices]\n",
    "sorted_indices = [x[0] for x in sorted_with_indices]\n",
    "job_1 = [[row[i] for row in divided_lists[0]] for i in range(len(divided_lists[0][0]))]\n",
    "combined = zip(job_1, sorted_indices)\n",
    "sorted_combined = sorted(combined, key=lambda x: x[1])\n",
    "\n",
    "sorted_list = [x[0] for x in sorted_combined]\n",
    "\n",
    "do_the_job(sorted_list)"
   ]
  },
  {
   "cell_type": "code",
   "execution_count": 30,
   "metadata": {},
   "outputs": [
    {
     "data": {
      "text/plain": [
       "1376.0"
      ]
     },
     "execution_count": 30,
     "metadata": {},
     "output_type": "execute_result"
    }
   ],
   "source": [
    "job_1 = [[row[i] for row in divided_lists[0]] for i in range(len(divided_lists[0][0]))]\n",
    "Weight = [-5,-4,-3,-2,-1]\n",
    "weighted_job_1 = job_1[:]\n",
    "for i in range(len(weighted_job_1)):\n",
    "    for j in range(len(weighted_job_1[i])):\n",
    "        weighted_job_1[i][j] *= Weight[j]\n",
    "finale_weights = []\n",
    "for j in weighted_job_1:\n",
    "    sum_weight = sum(j)\n",
    "    finale_weights.append(sum_weight)\n",
    "sorted_with_indices = sorted(enumerate(finale_weights), key=lambda x: x[1], reverse=True)\n",
    "sorted_list = [x[1] for x in sorted_with_indices]\n",
    "sorted_indices = [x[0] for x in sorted_with_indices]\n",
    "job_1 = [[row[i] for row in divided_lists[0]] for i in range(len(divided_lists[0][0]))]\n",
    "combined = zip(job_1, sorted_indices)\n",
    "sorted_combined = sorted(combined, key=lambda x: x[1])\n",
    "\n",
    "sorted_list = [x[0] for x in sorted_combined]\n",
    "\n",
    "do_the_job(sorted_list)"
   ]
  },
  {
   "attachments": {},
   "cell_type": "markdown",
   "metadata": {},
   "source": [
    "Note: Weights have a big influence on the resulst and we notice that the bigger the wieght on the first one the better the results"
   ]
  },
  {
   "attachments": {},
   "cell_type": "markdown",
   "metadata": {},
   "source": [
    "Avant de passer à une autre heuristique, je vais essaier plusieurs poids"
   ]
  },
  {
   "cell_type": "code",
   "execution_count": 31,
   "metadata": {},
   "outputs": [],
   "source": [
    "wj1 = [-10,-9,-8,-7,-6]\n",
    "wj2 = [-9 ,-8,-7,-6,-5]\n",
    "wj3 = [-8 ,-7,-6,-5,-4]\n",
    "wj4 = [-7 ,-6,-5,-4,-3]\n",
    "wj5 = [-6 ,-5,-4,-3,-2]"
   ]
  },
  {
   "cell_type": "code",
   "execution_count": 37,
   "metadata": {},
   "outputs": [
    {
     "data": {
      "application/vnd.jupyter.widget-view+json": {
       "model_id": "a77772d312b14e1082f4e8348ccfad4f",
       "version_major": 2,
       "version_minor": 0
      },
      "text/plain": [
       "  0%|          | 0/5 [00:00<?, ?it/s]"
      ]
     },
     "metadata": {},
     "output_type": "display_data"
    },
    {
     "name": "stdout",
     "output_type": "stream",
     "text": [
      "1362.0\n"
     ]
    }
   ],
   "source": [
    "min_time = 100000\n",
    "job_1 = [[row[i] for row in divided_lists[0]] for i in range(len(divided_lists[0][0]))]\n",
    "for weight_1 in tqdm(wj1):\n",
    "    for weight_2 in wj2:\n",
    "        for weight_3 in wj3:\n",
    "            for weight_4 in wj4:\n",
    "                for weight_5 in wj5:\n",
    "                    Weight = [weight_1,weight_2,weight_3,weight_4,weight_5]\n",
    "                    weighted_job_1 = job_1[:]\n",
    "                    for i in range(len(weighted_job_1)):\n",
    "                        for j in range(len(weighted_job_1[i])):\n",
    "                            weighted_job_1[i][j] *= Weight[j]\n",
    "                    finale_weights = []\n",
    "                    for j in weighted_job_1:\n",
    "                        sum_weight = sum(j)\n",
    "                        finale_weights.append(sum_weight)\n",
    "                    sorted_with_indices = sorted(enumerate(finale_weights), key=lambda x: x[1], reverse=True)\n",
    "                    sorted_list = [x[1] for x in sorted_with_indices]\n",
    "                    sorted_indices = [x[0] for x in sorted_with_indices]\n",
    "                    job_1 = [[row[i] for row in divided_lists[0]] for i in range(len(divided_lists[0][0]))]\n",
    "                    combined = zip(job_1, sorted_indices)\n",
    "                    sorted_combined = sorted(combined, key=lambda x: x[1])\n",
    "\n",
    "                    sorted_list = [x[0] for x in sorted_combined]\n",
    "\n",
    "                    time_of_work = do_the_job(sorted_list)\n",
    "                    min_time = time_of_work if time_of_work<min_time else min_time\n",
    "print(min_time)\n"
   ]
  },
  {
   "cell_type": "code",
   "execution_count": 33,
   "metadata": {},
   "outputs": [
    {
     "data": {
      "text/plain": [
       "1362.0"
      ]
     },
     "execution_count": 33,
     "metadata": {},
     "output_type": "execute_result"
    }
   ],
   "source": [
    "min_time"
   ]
  },
  {
   "attachments": {},
   "cell_type": "markdown",
   "metadata": {},
   "source": [
    "Le min time est mieulleur avec un le premier poid superieur au autres w1>Wi i=/=1"
   ]
  },
  {
   "attachments": {},
   "cell_type": "markdown",
   "metadata": {},
   "source": [
    "Let's try on akram's thingy"
   ]
  },
  {
   "cell_type": "code",
   "execution_count": 70,
   "metadata": {},
   "outputs": [
    {
     "data": {
      "text/plain": [
       "[[71.0, 79.0, 85.0, 82.0, 83.0],\n",
       " [84.0, 71.0, 66.0, 68.0, 81.0],\n",
       " [78.0, 81.0, 75.0, 72.0, 87.0],\n",
       " [78.0, 75.0, 66.0, 72.0, 88.0],\n",
       " [72.0, 88.0, 83.0, 85.0, 88.0],\n",
       " [86.0, 88.0, 79.0, 82.0, 78.0],\n",
       " [75.0, 66.0, 86.0, 78.0, 78.0],\n",
       " [80.0, 79.0, 66.0, 83.0, 78.0],\n",
       " [73.0, 73.0, 67.0, 77.0, 71.0],\n",
       " [80.0, 77.0, 83.0, 78.0, 67.0]]"
      ]
     },
     "execution_count": 70,
     "metadata": {},
     "output_type": "execute_result"
    }
   ],
   "source": [
    "sublists"
   ]
  },
  {
   "cell_type": "code",
   "execution_count": 77,
   "metadata": {},
   "outputs": [
    {
     "data": {
      "application/vnd.jupyter.widget-view+json": {
       "model_id": "6ff92e3ffb2d49d69360589a001e7c57",
       "version_major": 2,
       "version_minor": 0
      },
      "text/plain": [
       "  0%|          | 0/5 [00:00<?, ?it/s]"
      ]
     },
     "metadata": {},
     "output_type": "display_data"
    },
    {
     "name": "stdout",
     "output_type": "stream",
     "text": [
      "[[71.0, 79.0, 85.0, 82.0, 83.0], [84.0, 71.0, 66.0, 68.0, 81.0], [78.0, 81.0, 75.0, 72.0, 87.0], [78.0, 75.0, 66.0, 72.0, 88.0], [72.0, 88.0, 83.0, 85.0, 88.0], [86.0, 88.0, 79.0, 82.0, 78.0], [75.0, 66.0, 86.0, 78.0, 78.0], [80.0, 79.0, 66.0, 83.0, 78.0], [73.0, 73.0, 67.0, 77.0, 71.0], [80.0, 77.0, 83.0, 78.0, 67.0]]\n",
      "[[71.0, 79.0, 85.0, 82.0, 83.0], [84.0, 71.0, 66.0, 68.0, 81.0], [78.0, 81.0, 75.0, 72.0, 87.0], [78.0, 75.0, 66.0, 72.0, 88.0], [72.0, 88.0, 83.0, 85.0, 88.0], [86.0, 88.0, 79.0, 82.0, 78.0], [75.0, 66.0, 86.0, 78.0, 78.0], [80.0, 79.0, 66.0, 83.0, 78.0], [73.0, 73.0, 67.0, 77.0, 71.0], [80.0, 77.0, 83.0, 78.0, 67.0]]\n",
      "[[71.0, 79.0, 85.0, 82.0, 83.0], [84.0, 71.0, 66.0, 68.0, 81.0], [78.0, 81.0, 75.0, 72.0, 87.0], [78.0, 75.0, 66.0, 72.0, 88.0], [72.0, 88.0, 83.0, 85.0, 88.0], [86.0, 88.0, 79.0, 82.0, 78.0], [75.0, 66.0, 86.0, 78.0, 78.0], [80.0, 79.0, 66.0, 83.0, 78.0], [73.0, 73.0, 67.0, 77.0, 71.0], [80.0, 77.0, 83.0, 78.0, 67.0]]\n",
      "[[71.0, 79.0, 85.0, 82.0, 83.0], [84.0, 71.0, 66.0, 68.0, 81.0], [78.0, 81.0, 75.0, 72.0, 87.0], [78.0, 75.0, 66.0, 72.0, 88.0], [72.0, 88.0, 83.0, 85.0, 88.0], [86.0, 88.0, 79.0, 82.0, 78.0], [75.0, 66.0, 86.0, 78.0, 78.0], [80.0, 79.0, 66.0, 83.0, 78.0], [73.0, 73.0, 67.0, 77.0, 71.0], [80.0, 77.0, 83.0, 78.0, 67.0]]\n",
      "[[71.0, 79.0, 85.0, 82.0, 83.0], [84.0, 71.0, 66.0, 68.0, 81.0], [78.0, 81.0, 75.0, 72.0, 87.0], [78.0, 75.0, 66.0, 72.0, 88.0], [72.0, 88.0, 83.0, 85.0, 88.0], [86.0, 88.0, 79.0, 82.0, 78.0], [75.0, 66.0, 86.0, 78.0, 78.0], [80.0, 79.0, 66.0, 83.0, 78.0], [73.0, 73.0, 67.0, 77.0, 71.0], [80.0, 77.0, 83.0, 78.0, 67.0]]\n",
      "1124.0\n"
     ]
    }
   ],
   "source": [
    "min_time = 100000\n",
    "sublists = [numbers_list_test[i:i+5] for i in range(0, len(numbers_list_test), 5)]\n",
    "for weight_1 in tqdm(wj1):\n",
    "    for weight_2 in wj2:\n",
    "        for weight_3 in wj3:\n",
    "            for weight_4 in wj4:\n",
    "                for weight_5 in wj5:\n",
    "                    Weight = [weight_1,weight_2,weight_3,weight_4,weight_5]\n",
    "                    weighted_job_1 = sublists[:]\n",
    "                    for i in range(len(weighted_job_1)):\n",
    "                        for j in range(len(weighted_job_1[i])):\n",
    "                            weighted_job_1[i][j] *= Weight[j]\n",
    "                    finale_weights = []\n",
    "                    for j in weighted_job_1:\n",
    "                        sum_weight = sum(j)\n",
    "                        finale_weights.append(sum_weight)\n",
    "                    sorted_with_indices = sorted(enumerate(finale_weights), key=lambda x: x[1], reverse=True)\n",
    "                    sorted_list = [x[1] for x in sorted_with_indices]\n",
    "                    sorted_indices = [x[0] for x in sorted_with_indices]\n",
    "                    sublists = [numbers_list_test[i:i+5] for i in range(0, len(numbers_list_test), 5)]\n",
    "                    combined = zip(sublists, sorted_indices)\n",
    "                    sorted_combined = sorted(combined, key=lambda x: x[1])\n",
    "                    sorted_list = [x[0] for x in sorted_combined]\n",
    "                    time_of_work = do_the_job(sorted_list)\n",
    "                    min_time = time_of_work if time_of_work<min_time else min_time\n",
    "    print(sublists)\n",
    "print(min_time)"
   ]
  },
  {
   "cell_type": "code",
   "execution_count": 76,
   "metadata": {},
   "outputs": [
    {
     "data": {
      "text/plain": [
       "[[38.0, 60.0, 23.0, 59.0, 41.0],\n",
       " [83.0, 3.0, 89.0, 58.0, 56.0],\n",
       " [36.0, 70.0, 45.0, 91.0, 35.0],\n",
       " [15.0, 11.0, 49.0, 31.0, 20.0],\n",
       " [27.0, 5.0, 57.0, 49.0, 69.0],\n",
       " [87.0, 56.0, 64.0, 85.0, 13.0],\n",
       " [71.0, 99.0, 15.0, 68.0, 85.0],\n",
       " [77.0, 56.0, 89.0, 78.0, 53.0],\n",
       " [54.0, 79.0, 16.0, 66.0, 58.0],\n",
       " [53.0, 99.0, 60.0, 13.0, 53.0]]"
      ]
     },
     "execution_count": 76,
     "metadata": {},
     "output_type": "execute_result"
    }
   ],
   "source": [
    "sorted_list"
   ]
  },
  {
   "attachments": {},
   "cell_type": "markdown",
   "metadata": {},
   "source": [
    "Essayont une autre\n",
    "une de ma tête:"
   ]
  },
  {
   "cell_type": "code",
   "execution_count": 40,
   "metadata": {},
   "outputs": [],
   "source": [
    "list_des_jobs = job_1\n",
    "liste_des_jobs_finale = []"
   ]
  },
  {
   "cell_type": "code",
   "execution_count": 58,
   "metadata": {},
   "outputs": [],
   "source": [
    "while len(liste_des_jobs_finale)<20:\n",
    "    le_min = do_the_job_limited(list_des_jobs,1000,1)\n",
    "    liste_des_jobs_finale.append(le_min[0])\n",
    "    list_des_jobs.remove(le_min[0])"
   ]
  },
  {
   "cell_type": "code",
   "execution_count": 60,
   "metadata": {},
   "outputs": [],
   "source": [
    "liste_des_jobs_finale[0] = liste_des_jobs_finale[0][0]"
   ]
  },
  {
   "cell_type": "code",
   "execution_count": 62,
   "metadata": {},
   "outputs": [
    {
     "data": {
      "text/plain": [
       "1382.0"
      ]
     },
     "execution_count": 62,
     "metadata": {},
     "output_type": "execute_result"
    }
   ],
   "source": [
    "do_the_job(liste_des_jobs_finale)"
   ]
  },
  {
   "attachments": {},
   "cell_type": "markdown",
   "metadata": {},
   "source": [
    "Tailalrd 2"
   ]
  },
  {
   "cell_type": "code",
   "execution_count": 65,
   "metadata": {},
   "outputs": [
    {
     "data": {
      "application/vnd.jupyter.widget-view+json": {
       "model_id": "60089ca3d8034865b17049563fdd9d19",
       "version_major": 2,
       "version_minor": 0
      },
      "text/plain": [
       "  0%|          | 0/5 [00:00<?, ?it/s]"
      ]
     },
     "metadata": {},
     "output_type": "display_data"
    },
    {
     "name": "stdout",
     "output_type": "stream",
     "text": [
      "1403.0\n"
     ]
    }
   ],
   "source": [
    "min_time = 100000\n",
    "job_2 = [[row[i] for row in divided_lists[1]] for i in range(len(divided_lists[0][0]))]\n",
    "for weight_1 in tqdm(wj1):\n",
    "    for weight_2 in wj2:\n",
    "        for weight_3 in wj3:\n",
    "            for weight_4 in wj4:\n",
    "                for weight_5 in wj5:\n",
    "                    Weight = [weight_1,weight_2,weight_3,weight_4,weight_5]\n",
    "                    weighted_job_2 = job_2[:]\n",
    "                    for i in range(len(weighted_job_2)):\n",
    "                        for j in range(len(weighted_job_2[i])):\n",
    "                            weighted_job_2[i][j] *= Weight[j]\n",
    "                    finale_weights = []\n",
    "                    for j in weighted_job_2:\n",
    "                        sum_weight = sum(j)\n",
    "                        finale_weights.append(sum_weight)\n",
    "                    sorted_with_indices = sorted(enumerate(finale_weights), key=lambda x: x[1], reverse=True)\n",
    "                    sorted_list = [x[1] for x in sorted_with_indices]\n",
    "                    sorted_indices = [x[0] for x in sorted_with_indices]\n",
    "                    job_2 = [[row[i] for row in divided_lists[1]] for i in range(len(divided_lists[0][0]))]\n",
    "                    combined = zip(job_2, sorted_indices)\n",
    "                    sorted_combined = sorted(combined, key=lambda x: x[1])\n",
    "\n",
    "                    sorted_list = [x[0] for x in sorted_combined]\n",
    "\n",
    "                    time_of_work = do_the_job(sorted_list)\n",
    "                    min_time = time_of_work if time_of_work<min_time else min_time\n",
    "print(min_time)\n"
   ]
  },
  {
   "cell_type": "code",
   "execution_count": 64,
   "metadata": {},
   "outputs": [
    {
     "data": {
      "text/plain": [
       "[[54.0, 79.0, 16.0, 66.0, 58.0],\n",
       " [83.0, 3.0, 89.0, 58.0, 56.0],\n",
       " [15.0, 11.0, 49.0, 31.0, 20.0],\n",
       " [71.0, 99.0, 15.0, 68.0, 85.0],\n",
       " [77.0, 56.0, 89.0, 78.0, 53.0],\n",
       " [36.0, 70.0, 45.0, 91.0, 35.0],\n",
       " [53.0, 99.0, 60.0, 13.0, 53.0],\n",
       " [38.0, 60.0, 23.0, 59.0, 41.0],\n",
       " [27.0, 5.0, 57.0, 49.0, 69.0],\n",
       " [87.0, 56.0, 64.0, 85.0, 13.0],\n",
       " [76.0, 3.0, 7.0, 85.0, 86.0],\n",
       " [91.0, 61.0, 1.0, 9.0, 72.0],\n",
       " [14.0, 73.0, 63.0, 39.0, 8.0],\n",
       " [29.0, 75.0, 41.0, 41.0, 49.0],\n",
       " [12.0, 47.0, 63.0, 56.0, 47.0],\n",
       " [77.0, 14.0, 47.0, 40.0, 87.0],\n",
       " [32.0, 21.0, 26.0, 54.0, 58.0],\n",
       " [87.0, 86.0, 75.0, 77.0, 18.0],\n",
       " [68.0, 5.0, 77.0, 51.0, 68.0],\n",
       " [94.0, 77.0, 40.0, 31.0, 28.0]]"
      ]
     },
     "execution_count": 64,
     "metadata": {},
     "output_type": "execute_result"
    }
   ],
   "source": [
    "job_2"
   ]
  },
  {
   "attachments": {},
   "cell_type": "markdown",
   "metadata": {},
   "source": [
    "I'll finish implimenting the first method I was working on"
   ]
  },
  {
   "cell_type": "code",
   "execution_count": 79,
   "metadata": {},
   "outputs": [],
   "source": [
    "best_7 = [[27.0, 5.0, 57.0, 49.0, 69.0], [12.0, 47.0, 63.0, 56.0, 47.0], [32.0, 21.0, 26.0, 54.0, 58.0], [29.0, 75.0, 41.0, 41.0, 49.0], [38.0, 60.0, 23.0, 59.0, 41.0], [15.0, 11.0, 49.0, 31.0, 20.0], [14.0, 73.0, 63.0, 39.0, 8.0]]"
   ]
  },
  {
   "cell_type": "code",
   "execution_count": 81,
   "metadata": {},
   "outputs": [],
   "source": [
    "job_1_thingy = job_1[:].copy()"
   ]
  },
  {
   "cell_type": "code",
   "execution_count": 82,
   "metadata": {},
   "outputs": [],
   "source": [
    "for i in best_7:\n",
    "    job_1_thingy.remove(i)"
   ]
  },
  {
   "cell_type": "code",
   "execution_count": 87,
   "metadata": {},
   "outputs": [
    {
     "data": {
      "application/vnd.jupyter.widget-view+json": {
       "model_id": "b2d8a51d8960441ebc34d297cbe52632",
       "version_major": 2,
       "version_minor": 0
      },
      "text/plain": [
       "0it [00:00, ?it/s]"
      ]
     },
     "metadata": {},
     "output_type": "display_data"
    },
    {
     "name": "stdout",
     "output_type": "stream",
     "text": [
      "the minimum is:  641.0 ([36.0, 70.0, 45.0, 91.0, 35.0], [68.0, 5.0, 77.0, 51.0, 68.0], [54.0, 79.0, 16.0, 66.0, 58.0], [83.0, 3.0, 89.0, 58.0, 56.0], [53.0, 99.0, 60.0, 13.0, 53.0], [94.0, 77.0, 40.0, 31.0, 28.0], [91.0, 61.0, 1.0, 9.0, 72.0])\n"
     ]
    },
    {
     "data": {
      "text/plain": [
       "([36.0, 70.0, 45.0, 91.0, 35.0],\n",
       " [68.0, 5.0, 77.0, 51.0, 68.0],\n",
       " [54.0, 79.0, 16.0, 66.0, 58.0],\n",
       " [83.0, 3.0, 89.0, 58.0, 56.0],\n",
       " [53.0, 99.0, 60.0, 13.0, 53.0],\n",
       " [94.0, 77.0, 40.0, 31.0, 28.0],\n",
       " [91.0, 61.0, 1.0, 9.0, 72.0])"
      ]
     },
     "execution_count": 87,
     "metadata": {},
     "output_type": "execute_result"
    }
   ],
   "source": [
    "do_the_job_limited(job_1_thingy,10000,7)"
   ]
  }
 ],
 "metadata": {
  "kernelspec": {
   "display_name": "Python 3",
   "language": "python",
   "name": "python3"
  },
  "language_info": {
   "codemirror_mode": {
    "name": "ipython",
    "version": 3
   },
   "file_extension": ".py",
   "mimetype": "text/x-python",
   "name": "python",
   "nbconvert_exporter": "python",
   "pygments_lexer": "ipython3",
   "version": "3.11.1"
  },
  "orig_nbformat": 4
 },
 "nbformat": 4,
 "nbformat_minor": 2
}
