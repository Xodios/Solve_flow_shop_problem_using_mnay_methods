{
 "cells": [
  {
   "cell_type": "code",
   "execution_count": 1,
   "metadata": {},
   "outputs": [],
   "source": [
    "import numpy as np\n",
    "\n",
    "def read_taillard_instance(file_path):\n",
    "    \"\"\"\n",
    "    Read a Taillard instance from a file.\n",
    "\n",
    "    Parameters:\n",
    "    file_path (str): The path to the file containing the instance data.\n",
    "\n",
    "    Returns:\n",
    "    numpy.ndarray: A numpy array of shape (jobs, machines) containing the processing times\n",
    "                   of each job on each machine.\n",
    "    \"\"\"\n",
    "\n",
    "    with open(file_path, 'r') as f:\n",
    "        # Read the number of jobs and machines\n",
    "        line = f.readline().strip().split()\n",
    "        jobs, machines = int(line[0]), int(line[1])\n",
    "\n",
    "        # Read the processing times\n",
    "        processing_time = np.zeros((jobs, machines))\n",
    "        for j in range(jobs):\n",
    "            line = f.readline().strip().split()\n",
    "            for m in range(machines):\n",
    "                processing_time[j, m] = int(line[m])\n",
    "\n",
    "    return processing_time\n"
   ]
  },
  {
   "cell_type": "code",
   "execution_count": 2,
   "metadata": {},
   "outputs": [],
   "source": [
    "class Node:\n",
    "    def __init__(self, jobs, remaining_jobs, parent=None, lower_bound=None):\n",
    "        self.jobs = jobs\n",
    "        self.remaining_jobs = remaining_jobs\n",
    "        self.parent = parent\n",
    "        self.lower_bound = lower_bound"
   ]
  },
  {
   "attachments": {},
   "cell_type": "markdown",
   "metadata": {},
   "source": [
    "# Branch and Bound for FSP"
   ]
  },
  {
   "cell_type": "code",
   "execution_count": 3,
   "metadata": {},
   "outputs": [],
   "source": [
    "def lower_bound(sequence, remaining_jobs, processing_times): \n",
    "    lower_bound = processing_times[sequence, 1:].max() + processing_times[list(remaining_jobs),:].sum(axis=0).max()\n",
    "    return lower_bound\n",
    "#sequence : assigned jobs\n",
    "#Find the maximum processing time for the machines qui on des jobs\n"
   ]
  },
  {
   "cell_type": "code",
   "execution_count": 4,
   "metadata": {},
   "outputs": [],
   "source": [
    "def evaluate_sequence(sequence, processing_times):\n",
    "    machines = processing_times.shape[1]\n",
    "    machine_times = np.zeros(machines)\n",
    "    for job in sequence:\n",
    "        machine_times[0] += processing_times[job][0]\n",
    "        for i in range(1, machines):\n",
    "            machine_times[i] = max(machine_times[i-1], machine_times[i]) + processing_times[job][i]\n",
    "    return machine_times[-1]"
   ]
  },
  {
   "cell_type": "code",
   "execution_count": 15,
   "metadata": {},
   "outputs": [],
   "source": [
    "import time\n",
    "def branch_and_bound(processing_time,initial_sol,initial_cost): \n",
    "    time_limit = 30*60\n",
    "    start_time = time.time()\n",
    "    jobs,machines = processing_time.shape\n",
    "    #init node list to the root_node\n",
    "    root_node= Node([], set(range(jobs)))\n",
    "    best_solution = initial_sol.copy()\n",
    "    best_sol_cost = int(initial_cost)\n",
    "    nodes = [root_node]\n",
    "    #initial the best solution to range(jobs) and init best solution cost to it's cost\n",
    "    i=1\n",
    "    exec_time = 0\n",
    "    while nodes and exec_time<time_limit: \n",
    "        \n",
    "        node = nodes.pop()\n",
    "        #explore neighbours\n",
    "        for job in node.remaining_jobs:\n",
    "            # ---- \n",
    "            \n",
    "            child_jobs = node.jobs +[job]\n",
    "            child_remaining_jobs = node.remaining_jobs - {job}\n",
    "            # if child node is a leaf: calculate its cost \n",
    "            if not child_remaining_jobs : \n",
    "                child_lower_bound = evaluate_sequence(child_jobs,processing_time)\n",
    "                if child_lower_bound < best_sol_cost : \n",
    "                    best_solution = child_jobs\n",
    "                    best_sol_cost = child_lower_bound\n",
    "                    continue\n",
    "            else: \n",
    "                #if child node is not a leaf then calculate it's lower bound and compare it to the current best_sol_cost\n",
    "                child_lower_bound = lower_bound(child_jobs, child_remaining_jobs, processing_time)\n",
    "\n",
    "                if child_lower_bound< best_sol_cost : # Bound\n",
    "                    \n",
    "                    child_node = Node(child_jobs, child_remaining_jobs,parent = node , lower_bound=child_lower_bound)\n",
    "                    nodes.append(child_node)\n",
    "\n",
    "        i+=1\n",
    "        time2 = time.time()\n",
    "        exec_time = time2 - start_time\n",
    "\n",
    "    return best_solution, best_sol_cost,i\n",
    "    \n"
   ]
  },
  {
   "attachments": {},
   "cell_type": "markdown",
   "metadata": {},
   "source": [
    "## Read the Taillard instance"
   ]
  },
  {
   "cell_type": "code",
   "execution_count": 16,
   "metadata": {},
   "outputs": [],
   "source": [
    "def processing_time(input_str):\n",
    "    input_lines = input_str.strip().split('\\n')\n",
    "    n, m, seed, ub, lb = map(int, input_lines[0].strip().split())\n",
    "    processing_times = []\n",
    "    for line in input_lines[1:]:\n",
    "        row = list(map(int, line.strip().split()))\n",
    "        processing_times.append(row)\n",
    "    return np.array(processing_times).transpose( )\n"
   ]
  },
  {
   "cell_type": "code",
   "execution_count": 42,
   "metadata": {},
   "outputs": [
    {
     "name": "stdout",
     "output_type": "stream",
     "text": [
      "[[62 76 89]\n",
      " [90 68 69]\n",
      " [89 83 62]\n",
      " [73 67 81]\n",
      " [53 69 82]\n",
      " [73 53 68]\n",
      " [72 64 87]\n",
      " [52 52 58]]\n"
     ]
    }
   ],
   "source": [
    "input_str = '''\\\n",
    "8 3 379008056 1359 1290\n",
    " 62 90 89 73 53 73 72 52 \n",
    " 76 68 83 67 69 53 64 52\n",
    " 89 69 62 81 82 68 87 58\n",
    "'''\n",
    "processing_times = processing_time(input_str)\n",
    "print(processing_times)\n"
   ]
  },
  {
   "cell_type": "code",
   "execution_count": 43,
   "metadata": {},
   "outputs": [
    {
     "data": {
      "text/plain": [
       "(8, 3)"
      ]
     },
     "execution_count": 43,
     "metadata": {},
     "output_type": "execute_result"
    }
   ],
   "source": [
    "processing_times.shape"
   ]
  },
  {
   "cell_type": "code",
   "execution_count": 44,
   "metadata": {},
   "outputs": [],
   "source": [
    "#from the file\n",
    "UB = 1278\n",
    "LB = 1232"
   ]
  },
  {
   "attachments": {},
   "cell_type": "markdown",
   "metadata": {},
   "source": [
    "# Test"
   ]
  },
  {
   "cell_type": "code",
   "execution_count": 45,
   "metadata": {},
   "outputs": [
    {
     "name": "stdout",
     "output_type": "stream",
     "text": [
      "init_cost is  734.0\n"
     ]
    }
   ],
   "source": [
    "# Generate a random initial solution and calculate its cost\n",
    "jobs = 8\n",
    "initial_sol = list(np.random.permutation(jobs))\n",
    "initial_cost = evaluate_sequence(initial_sol, processing_times)\n",
    "print('init_cost is ', initial_cost)"
   ]
  },
  {
   "cell_type": "code",
   "execution_count": 46,
   "metadata": {},
   "outputs": [],
   "source": [
    "best_solution, best_sol_cost,i = branch_and_bound(processing_times,initial_sol,initial_cost)\n"
   ]
  },
  {
   "cell_type": "code",
   "execution_count": 51,
   "metadata": {},
   "outputs": [
    {
     "name": "stdout",
     "output_type": "stream",
     "text": [
      "Soluton best cost for the random instance  712.0\n",
      "Best solution : [7, 4, 6, 5, 3, 1, 0, 2]\n",
      "iteration number 69282\n"
     ]
    }
   ],
   "source": [
    "print(\"Soluton best cost for the random instance \",best_sol_cost)\n",
    "print(\"Best solution :\",best_solution)\n",
    "print(\"iteration number\",i)"
   ]
  },
  {
   "attachments": {},
   "cell_type": "markdown",
   "metadata": {},
   "source": [
    "# Small test\n"
   ]
  },
  {
   "cell_type": "code",
   "execution_count": 103,
   "metadata": {},
   "outputs": [
    {
     "name": "stdout",
     "output_type": "stream",
     "text": [
      "[[54 79 16]\n",
      " [83  3 89]\n",
      " [15 11 49]\n",
      " [71 99 15]\n",
      " [77 56 89]]\n"
     ]
    }
   ],
   "source": [
    "input_str2 = '''\\\n",
    "20 5 873654221 1278 1232\n",
    "54 83 15 71 77\n",
    "79  3 11 99 56\n",
    "16 89 49 15 89\n",
    "'''\n",
    "processing_times2 = processing_time(input_str2)\n",
    "print(processing_times2)"
   ]
  },
  {
   "cell_type": "code",
   "execution_count": 110,
   "metadata": {},
   "outputs": [
    {
     "name": "stdout",
     "output_type": "stream",
     "text": [
      "init_cost is  431.0\n"
     ]
    }
   ],
   "source": [
    "# Generate a random initial solution and calculate its cost\n",
    "jobs2 = 5\n",
    "initial_sol2 = list(np.random.permutation(jobs2))\n",
    "initial_cost2 = evaluate_sequence(initial_sol2, processing_times2)\n",
    "print('init_cost is ', initial_cost2)"
   ]
  },
  {
   "cell_type": "code",
   "execution_count": 24,
   "metadata": {},
   "outputs": [
    {
     "ename": "NameError",
     "evalue": "name 'processing_times2' is not defined",
     "output_type": "error",
     "traceback": [
      "\u001b[1;31m---------------------------------------------------------------------------\u001b[0m",
      "\u001b[1;31mNameError\u001b[0m                                 Traceback (most recent call last)",
      "Cell \u001b[1;32mIn[24], line 1\u001b[0m\n\u001b[1;32m----> 1\u001b[0m best_solution2, best_sol_cost2,i2 \u001b[39m=\u001b[39m branch_and_bound(processing_times2,initial_sol2,initial_cost2)\n",
      "\u001b[1;31mNameError\u001b[0m: name 'processing_times2' is not defined"
     ]
    }
   ],
   "source": [
    "best_solution2, best_sol_cost2,i2 = branch_and_bound(processing_times2,initial_sol2,initial_cost2)\n",
    "\n"
   ]
  },
  {
   "cell_type": "code",
   "execution_count": 23,
   "metadata": {},
   "outputs": [
    {
     "ename": "NameError",
     "evalue": "name 'i2' is not defined",
     "output_type": "error",
     "traceback": [
      "\u001b[1;31m---------------------------------------------------------------------------\u001b[0m",
      "\u001b[1;31mNameError\u001b[0m                                 Traceback (most recent call last)",
      "Cell \u001b[1;32mIn[23], line 1\u001b[0m\n\u001b[1;32m----> 1\u001b[0m \u001b[39mprint\u001b[39m(i2)\n\u001b[0;32m      2\u001b[0m \u001b[39mprint\u001b[39m(best_sol_cost2)\n",
      "\u001b[1;31mNameError\u001b[0m: name 'i2' is not defined"
     ]
    }
   ],
   "source": [
    "print(i2)\n",
    "print(best_sol_cost2)"
   ]
  },
  {
   "cell_type": "code",
   "execution_count": null,
   "metadata": {},
   "outputs": [],
   "source": []
  }
 ],
 "metadata": {
  "kernelspec": {
   "display_name": "base",
   "language": "python",
   "name": "python3"
  },
  "language_info": {
   "codemirror_mode": {
    "name": "ipython",
    "version": 3
   },
   "file_extension": ".py",
   "mimetype": "text/x-python",
   "name": "python",
   "nbconvert_exporter": "python",
   "pygments_lexer": "ipython3",
   "version": "3.11.1"
  },
  "orig_nbformat": 4
 },
 "nbformat": 4,
 "nbformat_minor": 2
}
