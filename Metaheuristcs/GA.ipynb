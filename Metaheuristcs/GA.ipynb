{
 "cells": [
  {
   "cell_type": "code",
   "execution_count": 1,
   "metadata": {},
   "outputs": [],
   "source": [
    "from tqdm.notebook import tqdm\n",
    "import numpy as np\n",
    "import time\n",
    "from itertools import permutations,combinations"
   ]
  },
  {
   "attachments": {},
   "cell_type": "markdown",
   "metadata": {},
   "source": [
    "Testing tqdm"
   ]
  },
  {
   "cell_type": "code",
   "execution_count": 2,
   "metadata": {},
   "outputs": [
    {
     "data": {
      "application/vnd.jupyter.widget-view+json": {
       "model_id": "da9bebc666ba4f599473ee2c60f2e7f2",
       "version_major": 2,
       "version_minor": 0
      },
      "text/plain": [
       "  0%|          | 0/10 [00:00<?, ?it/s]"
      ]
     },
     "metadata": {},
     "output_type": "display_data"
    },
    {
     "name": "stdout",
     "output_type": "stream",
     "text": [
      "hi\n",
      "hi\n",
      "hi\n",
      "hi\n",
      "hi\n",
      "hi\n",
      "hi\n",
      "hi\n",
      "hi\n",
      "hi\n"
     ]
    }
   ],
   "source": [
    "for i in tqdm(range(10)):\n",
    "    time.sleep(1)\n",
    "    print(\"hi\")"
   ]
  },
  {
   "cell_type": "code",
   "execution_count": 3,
   "metadata": {},
   "outputs": [],
   "source": [
    "def do_the_job(job):\n",
    "    start_work_time =[[]]\n",
    "    end_work_time = [[]]\n",
    "    cmp = 0\n",
    "    # intilialisation of the thingy (this it just the first one when he starts / finishes)\n",
    "    for i in job[0]:\n",
    "        cmp += i\n",
    "        start_work_time[0].append(cmp-i)\n",
    "        end_work_time[0].append(cmp)\n",
    "    # The real thing   \n",
    "    for i,j in enumerate(job):#tqdm(enumerate(job)):\n",
    "        if i != 0:\n",
    "            start_work_time.append([])\n",
    "            end_work_time.append([])\n",
    "            for k,l in enumerate(j):\n",
    "                if k == 0:\n",
    "                    start_work_time[i].append(end_work_time[i-1][k])\n",
    "                else:\n",
    "                    start_work_time[i].append(max(end_work_time[i-1][k],end_work_time[i][k-1]))\n",
    "                end_work_time[i].append(start_work_time[i][k]+l)\n",
    "    #     print(\"Start work time of \",i+1,\"is\",start_work_time[i])\n",
    "    #     print(\"End work time of\",i+1,\"is\",end_work_time[i])\n",
    "    # print(\"time of order n°\",i,\"is\",end_work_time[len(end_work_time)-1][len(end_work_time[0])-1])\n",
    "    return(end_work_time[len(end_work_time)-1][len(end_work_time[0])-1])"
   ]
  },
  {
   "cell_type": "code",
   "execution_count": 4,
   "metadata": {},
   "outputs": [
    {
     "data": {
      "text/plain": [
       "99"
      ]
     },
     "execution_count": 4,
     "metadata": {},
     "output_type": "execute_result"
    }
   ],
   "source": [
    "processing_times = [[4, 5, 6, 4, 5],\n",
    "                    [3, 4, 3, 4, 3],\n",
    "                    [2, 2, 2, 2, 2],\n",
    "                    [5, 5, 6, 5, 6],\n",
    "                    [3, 3, 3, 3, 3],\n",
    "                    [4, 5, 6, 5, 6],\n",
    "                    [2, 2, 2, 2, 2],\n",
    "                    [3, 3, 3, 3, 3],\n",
    "                    [4, 5, 6, 5, 6],\n",
    "                    [3, 4, 3, 4, 3],\n",
    "                    [2, 2, 2, 2, 2],\n",
    "                    [5, 5, 6, 5, 6],\n",
    "                    [4, 5, 6, 4, 5],\n",
    "                    [3, 4, 3, 4, 3],\n",
    "                    [2, 2, 2, 2, 2],\n",
    "                    [5, 5, 6, 5, 6],\n",
    "                    [3, 3, 3, 3, 3],\n",
    "                    [4, 5, 6, 5, 6],\n",
    "                    [2, 2, 2, 2, 2],\n",
    "                    [3, 3, 3, 3, 3]]\n",
    "do_the_job(processing_times)"
   ]
  },
  {
   "cell_type": "code",
   "execution_count": 22,
   "metadata": {},
   "outputs": [
    {
     "name": "stdout",
     "output_type": "stream",
     "text": [
      "1681780557.1264837\n",
      "0.0009920597076416016\n",
      "the time is 1681780557.1274757 yep:))\n"
     ]
    }
   ],
   "source": [
    "from time import time \n",
    "a = time()\n",
    "do_the_job(processing_times)\n",
    "print(a)\n",
    "print(time()-a)\n",
    "print(f\"the time is {time()} yep:))\")"
   ]
  },
  {
   "attachments": {},
   "cell_type": "markdown",
   "metadata": {},
   "source": [
    "Now we add a function that reads our list"
   ]
  },
  {
   "cell_type": "code",
   "execution_count": 7,
   "metadata": {},
   "outputs": [],
   "source": [
    "numbers_list = []\n",
    "\n",
    "with open('tai20_5.txt', 'r') as file:\n",
    "    for line in file:\n",
    "        numbers = line.strip().split()\n",
    "        if numbers:\n",
    "            try:\n",
    "                numbers = [float(num) for num in numbers]\n",
    "                numbers_list.extend(numbers)\n",
    "            except ValueError:\n",
    "                pass\n",
    "# Here we delete the stupid informations about branch and bound and stuff, for now I won't be suing them\n",
    "for i in range(0, 1050, 100):\n",
    "    del numbers_list[i:i+5]\n",
    "# now we split\n",
    "split = [numbers_list[i:i+100] for i in range(0, 1000, 100)]\n",
    "# decoupe en 10 lists of 5 lists of 20\n",
    "divided_lists = [[sublist[i:i+20] for i in range(0, 100, 20)] for sublist in split]"
   ]
  },
  {
   "cell_type": "code",
   "execution_count": 8,
   "metadata": {},
   "outputs": [],
   "source": [
    "job_1 = [[row[i] for row in divided_lists[0]] for i in range(len(divided_lists[0][0]))]"
   ]
  },
  {
   "cell_type": "code",
   "execution_count": 9,
   "metadata": {},
   "outputs": [
    {
     "data": {
      "text/plain": [
       "[[54.0, 79.0, 16.0, 66.0, 58.0],\n",
       " [83.0, 3.0, 89.0, 58.0, 56.0],\n",
       " [15.0, 11.0, 49.0, 31.0, 20.0],\n",
       " [71.0, 99.0, 15.0, 68.0, 85.0],\n",
       " [77.0, 56.0, 89.0, 78.0, 53.0],\n",
       " [36.0, 70.0, 45.0, 91.0, 35.0],\n",
       " [53.0, 99.0, 60.0, 13.0, 53.0],\n",
       " [38.0, 60.0, 23.0, 59.0, 41.0],\n",
       " [27.0, 5.0, 57.0, 49.0, 69.0],\n",
       " [87.0, 56.0, 64.0, 85.0, 13.0],\n",
       " [76.0, 3.0, 7.0, 85.0, 86.0],\n",
       " [91.0, 61.0, 1.0, 9.0, 72.0],\n",
       " [14.0, 73.0, 63.0, 39.0, 8.0],\n",
       " [29.0, 75.0, 41.0, 41.0, 49.0],\n",
       " [12.0, 47.0, 63.0, 56.0, 47.0],\n",
       " [77.0, 14.0, 47.0, 40.0, 87.0],\n",
       " [32.0, 21.0, 26.0, 54.0, 58.0],\n",
       " [87.0, 86.0, 75.0, 77.0, 18.0],\n",
       " [68.0, 5.0, 77.0, 51.0, 68.0],\n",
       " [94.0, 77.0, 40.0, 31.0, 28.0]]"
      ]
     },
     "execution_count": 9,
     "metadata": {},
     "output_type": "execute_result"
    }
   ],
   "source": [
    "job_1"
   ]
  },
  {
   "cell_type": "code",
   "execution_count": 12,
   "metadata": {},
   "outputs": [
    {
     "data": {
      "text/plain": [
       "1448.0"
      ]
     },
     "execution_count": 12,
     "metadata": {},
     "output_type": "execute_result"
    }
   ],
   "source": [
    "do_the_job(job_1)"
   ]
  },
  {
   "attachments": {},
   "cell_type": "markdown",
   "metadata": {},
   "source": [
    "Change time limit"
   ]
  },
  {
   "cell_type": "code",
   "execution_count": 10,
   "metadata": {},
   "outputs": [],
   "source": [
    "def do_the_job_all_possibilities(list,time_limit):\n",
    "    minimum = 100000\n",
    "    start_time = time.time()\n",
    "    for index,job in tqdm(enumerate(permutations(list,20))):\n",
    "        if time.time() - start_time > time_limit:\n",
    "            print(\"Time limit exceeded\")\n",
    "            break\n",
    "        start_work_time =[[]]\n",
    "        end_work_time = [[]]\n",
    "        cmp = 0\n",
    "        # intilialisation of the thingy (this it just the first one when he starts / finishes)\n",
    "        for i in job[0]:\n",
    "            cmp += i\n",
    "            start_work_time[0].append(cmp-i)\n",
    "            end_work_time[0].append(cmp)\n",
    "        # The real thing   \n",
    "        for i,j in enumerate(job):#tqdm(enumerate(job)):\n",
    "            if i != 0:\n",
    "                start_work_time.append([])\n",
    "                end_work_time.append([])\n",
    "                for k,l in enumerate(j):\n",
    "                    if k == 0:\n",
    "                        start_work_time[i].append(end_work_time[i-1][k])\n",
    "                    else:\n",
    "                        start_work_time[i].append(max(end_work_time[i-1][k],end_work_time[i][k-1]))\n",
    "                    end_work_time[i].append(start_work_time[i][k]+l)\n",
    "            #print(\"Start work time of \",i+1,\"is\",start_work_time[i])\n",
    "            #print(\"End work time of\",i+1,\"is\",end_work_time[i])\n",
    "        minimum = min(minimum,end_work_time[len(end_work_time)-1][len(end_work_time[0])-1])\n",
    "        if minimum == end_work_time[len(end_work_time)-1][len(end_work_time[0])-1]:\n",
    "            min_job = job\n",
    "            order = index\n",
    "    print(\"the minimum is: \",minimum,min_job)#order,min_job)"
   ]
  },
  {
   "attachments": {},
   "cell_type": "markdown",
   "metadata": {},
   "source": [
    "Change the time limit"
   ]
  },
  {
   "cell_type": "code",
   "execution_count": 12,
   "metadata": {},
   "outputs": [
    {
     "data": {
      "application/vnd.jupyter.widget-view+json": {
       "model_id": "0ebd5c7b0299420eb2fef909eaae5196",
       "version_major": 2,
       "version_minor": 0
      },
      "text/plain": [
       "0it [00:00, ?it/s]"
      ]
     },
     "metadata": {},
     "output_type": "display_data"
    },
    {
     "name": "stdout",
     "output_type": "stream",
     "text": [
      "Time limit exceeded\n",
      "the minimum is:  1376.0 ([54.0, 79.0, 16.0, 66.0, 58.0], [83.0, 3.0, 89.0, 58.0, 56.0], [15.0, 11.0, 49.0, 31.0, 20.0], [71.0, 99.0, 15.0, 68.0, 85.0], [77.0, 56.0, 89.0, 78.0, 53.0], [36.0, 70.0, 45.0, 91.0, 35.0], [53.0, 99.0, 60.0, 13.0, 53.0], [38.0, 60.0, 23.0, 59.0, 41.0], [27.0, 5.0, 57.0, 49.0, 69.0], [87.0, 56.0, 64.0, 85.0, 13.0], [91.0, 61.0, 1.0, 9.0, 72.0], [68.0, 5.0, 77.0, 51.0, 68.0], [32.0, 21.0, 26.0, 54.0, 58.0], [77.0, 14.0, 47.0, 40.0, 87.0], [12.0, 47.0, 63.0, 56.0, 47.0], [29.0, 75.0, 41.0, 41.0, 49.0], [14.0, 73.0, 63.0, 39.0, 8.0], [76.0, 3.0, 7.0, 85.0, 86.0], [87.0, 86.0, 75.0, 77.0, 18.0], [94.0, 77.0, 40.0, 31.0, 28.0])\n"
     ]
    }
   ],
   "source": [
    "do_the_job_all_possibilities(job_1,60)"
   ]
  },
  {
   "cell_type": "code",
   "execution_count": 55,
   "metadata": {},
   "outputs": [
    {
     "data": {
      "application/vnd.jupyter.widget-view+json": {
       "model_id": "90c5ce05372241f8929600b0ecb6b3bc",
       "version_major": 2,
       "version_minor": 0
      },
      "text/plain": [
       "0it [00:00, ?it/s]"
      ]
     },
     "metadata": {},
     "output_type": "display_data"
    },
    {
     "name": "stdout",
     "output_type": "stream",
     "text": [
      "Time limit exceeded\n",
      "the minimum is:  1376.0 673614 ([54.0, 79.0, 16.0, 66.0, 58.0], [83.0, 3.0, 89.0, 58.0, 56.0], [15.0, 11.0, 49.0, 31.0, 20.0], [71.0, 99.0, 15.0, 68.0, 85.0], [77.0, 56.0, 89.0, 78.0, 53.0], [36.0, 70.0, 45.0, 91.0, 35.0], [53.0, 99.0, 60.0, 13.0, 53.0], [38.0, 60.0, 23.0, 59.0, 41.0], [27.0, 5.0, 57.0, 49.0, 69.0], [87.0, 56.0, 64.0, 85.0, 13.0], [91.0, 61.0, 1.0, 9.0, 72.0], [68.0, 5.0, 77.0, 51.0, 68.0], [32.0, 21.0, 26.0, 54.0, 58.0], [77.0, 14.0, 47.0, 40.0, 87.0], [12.0, 47.0, 63.0, 56.0, 47.0], [29.0, 75.0, 41.0, 41.0, 49.0], [14.0, 73.0, 63.0, 39.0, 8.0], [76.0, 3.0, 7.0, 85.0, 86.0], [87.0, 86.0, 75.0, 77.0, 18.0], [94.0, 77.0, 40.0, 31.0, 28.0])\n"
     ]
    }
   ],
   "source": [
    "do_the_job_all_possibilities(job_1,120)"
   ]
  },
  {
   "cell_type": "code",
   "execution_count": 56,
   "metadata": {},
   "outputs": [
    {
     "data": {
      "application/vnd.jupyter.widget-view+json": {
       "model_id": "e25fa0f73aba40a0934a07d4608ba01f",
       "version_major": 2,
       "version_minor": 0
      },
      "text/plain": [
       "0it [00:00, ?it/s]"
      ]
     },
     "metadata": {},
     "output_type": "display_data"
    },
    {
     "name": "stdout",
     "output_type": "stream",
     "text": [
      "Time limit exceeded\n",
      "the minimum is:  1376.0 4556015 ([54.0, 79.0, 16.0, 66.0, 58.0], [83.0, 3.0, 89.0, 58.0, 56.0], [15.0, 11.0, 49.0, 31.0, 20.0], [71.0, 99.0, 15.0, 68.0, 85.0], [77.0, 56.0, 89.0, 78.0, 53.0], [36.0, 70.0, 45.0, 91.0, 35.0], [53.0, 99.0, 60.0, 13.0, 53.0], [38.0, 60.0, 23.0, 59.0, 41.0], [27.0, 5.0, 57.0, 49.0, 69.0], [76.0, 3.0, 7.0, 85.0, 86.0], [14.0, 73.0, 63.0, 39.0, 8.0], [77.0, 14.0, 47.0, 40.0, 87.0], [94.0, 77.0, 40.0, 31.0, 28.0], [68.0, 5.0, 77.0, 51.0, 68.0], [32.0, 21.0, 26.0, 54.0, 58.0], [12.0, 47.0, 63.0, 56.0, 47.0], [87.0, 86.0, 75.0, 77.0, 18.0], [29.0, 75.0, 41.0, 41.0, 49.0], [91.0, 61.0, 1.0, 9.0, 72.0], [87.0, 56.0, 64.0, 85.0, 13.0])\n"
     ]
    }
   ],
   "source": [
    "do_the_job_all_possibilities(job_1,180)"
   ]
  },
  {
   "cell_type": "code",
   "execution_count": 79,
   "metadata": {},
   "outputs": [
    {
     "data": {
      "application/vnd.jupyter.widget-view+json": {
       "model_id": "0e41690f8f0a4a27b5247e0c3a9eba07",
       "version_major": 2,
       "version_minor": 0
      },
      "text/plain": [
       "0it [00:00, ?it/s]"
      ]
     },
     "metadata": {},
     "output_type": "display_data"
    },
    {
     "name": "stdout",
     "output_type": "stream",
     "text": [
      "Time limit exceeded\n",
      "the minimum is:  1376.0 6248878 ([54.0, 79.0, 16.0, 66.0, 58.0], [83.0, 3.0, 89.0, 58.0, 56.0], [15.0, 11.0, 49.0, 31.0, 20.0], [71.0, 99.0, 15.0, 68.0, 85.0], [77.0, 56.0, 89.0, 78.0, 53.0], [36.0, 70.0, 45.0, 91.0, 35.0], [53.0, 99.0, 60.0, 13.0, 53.0], [38.0, 60.0, 23.0, 59.0, 41.0], [27.0, 5.0, 57.0, 49.0, 69.0], [76.0, 3.0, 7.0, 85.0, 86.0], [87.0, 86.0, 75.0, 77.0, 18.0], [91.0, 61.0, 1.0, 9.0, 72.0], [94.0, 77.0, 40.0, 31.0, 28.0], [32.0, 21.0, 26.0, 54.0, 58.0], [68.0, 5.0, 77.0, 51.0, 68.0], [77.0, 14.0, 47.0, 40.0, 87.0], [12.0, 47.0, 63.0, 56.0, 47.0], [29.0, 75.0, 41.0, 41.0, 49.0], [87.0, 56.0, 64.0, 85.0, 13.0], [14.0, 73.0, 63.0, 39.0, 8.0])\n"
     ]
    }
   ],
   "source": [
    "do_the_job_all_possibilities(job_1,240)"
   ]
  },
  {
   "cell_type": "code",
   "execution_count": 80,
   "metadata": {},
   "outputs": [
    {
     "data": {
      "application/vnd.jupyter.widget-view+json": {
       "model_id": "49c5beab7c0f4e749f4788acac0d8893",
       "version_major": 2,
       "version_minor": 0
      },
      "text/plain": [
       "0it [00:00, ?it/s]"
      ]
     },
     "metadata": {},
     "output_type": "display_data"
    },
    {
     "name": "stdout",
     "output_type": "stream",
     "text": [
      "Time limit exceeded\n",
      "the minimum is:  1368.0 9307316 ([54.0, 79.0, 16.0, 66.0, 58.0], [83.0, 3.0, 89.0, 58.0, 56.0], [15.0, 11.0, 49.0, 31.0, 20.0], [71.0, 99.0, 15.0, 68.0, 85.0], [77.0, 56.0, 89.0, 78.0, 53.0], [36.0, 70.0, 45.0, 91.0, 35.0], [53.0, 99.0, 60.0, 13.0, 53.0], [38.0, 60.0, 23.0, 59.0, 41.0], [27.0, 5.0, 57.0, 49.0, 69.0], [91.0, 61.0, 1.0, 9.0, 72.0], [77.0, 14.0, 47.0, 40.0, 87.0], [32.0, 21.0, 26.0, 54.0, 58.0], [68.0, 5.0, 77.0, 51.0, 68.0], [12.0, 47.0, 63.0, 56.0, 47.0], [87.0, 86.0, 75.0, 77.0, 18.0], [94.0, 77.0, 40.0, 31.0, 28.0], [29.0, 75.0, 41.0, 41.0, 49.0], [76.0, 3.0, 7.0, 85.0, 86.0], [87.0, 56.0, 64.0, 85.0, 13.0], [14.0, 73.0, 63.0, 39.0, 8.0])\n"
     ]
    }
   ],
   "source": [
    "do_the_job_all_possibilities(job_1,360)"
   ]
  },
  {
   "cell_type": "code",
   "execution_count": null,
   "metadata": {},
   "outputs": [],
   "source": [
    "do_the_job_all_possibilities(job_1,360)"
   ]
  },
  {
   "cell_type": "code",
   "execution_count": 11,
   "metadata": {},
   "outputs": [],
   "source": [
    "def do_the_job_with_min(job):\n",
    "    start_work_time =[[]]\n",
    "    end_work_time = [[]]\n",
    "    cmp = 0\n",
    "    # The shortest job first \n",
    "    minimum = [0,100000]\n",
    "    for i,j in enumerate(job): \n",
    "        minimum = [i,sum(j)] if minimum[1]>sum(j) else minimum\n",
    "    print(minimum)\n",
    "    # To evaluate\n",
    "    for i,j in tqdm(enumerate(job)):\n",
    "        if i != 0:\n",
    "            start_work_time.append([])\n",
    "            end_work_time.append([])\n",
    "            for k,l in enumerate(j):\n",
    "                if k == 0:\n",
    "                    start_work_time[i].append(end_work_time[i-1][k])\n",
    "                else:\n",
    "                    start_work_time[i].append(max(end_work_time[i-1][k],end_work_time[i][k-1]))\n",
    "                end_work_time[i].append(start_work_time[i][k]+l)\n",
    "        print(\"Start work time of \",i+1,\"is\",start_work_time[i])\n",
    "        print(\"End work time of\",i+1,\"is\",end_work_time[i])\n",
    "    print(\"time of order n°\",i,\"is\",end_work_time[len(end_work_time)-1][len(end_work_time[0])-1])"
   ]
  },
  {
   "cell_type": "code",
   "execution_count": 12,
   "metadata": {},
   "outputs": [],
   "source": [
    "def evaluate_job(job):\n",
    "    start_work_time =[[]]\n",
    "    end_work_time = [[]]\n",
    "    for i,j in tqdm(enumerate(job)):\n",
    "        if i != 0:\n",
    "            start_work_time.append([])\n",
    "            end_work_time.append([])\n",
    "            for k,l in enumerate(j):\n",
    "                if k == 0:\n",
    "                    start_work_time[i].append(end_work_time[i-1][k])\n",
    "                else:\n",
    "                    start_work_time[i].append(max(end_work_time[i-1][k],end_work_time[i][k-1]))\n",
    "                end_work_time[i].append(start_work_time[i][k]+l)\n",
    "        print(\"Start work time of \",i+1,\"is\",start_work_time[i])\n",
    "        print(\"End work time of\",i+1,\"is\",end_work_time[i])\n",
    "    print(\"time of order n°\",i,\"is\",end_work_time[len(end_work_time)-1][len(end_work_time[0])-1])"
   ]
  },
  {
   "attachments": {},
   "cell_type": "markdown",
   "metadata": {},
   "source": [
    "We take the job and calculate how much it will take\n",
    "    then we add another one and calculate how much it will take \n",
    "\n",
    "Combinations give us all the combinations of 3"
   ]
  },
  {
   "cell_type": "code",
   "execution_count": 13,
   "metadata": {},
   "outputs": [],
   "source": [
    "def do_the_job_limited(list,time_limit,number):\n",
    "    minimum = 100000\n",
    "    start_time = time.time()\n",
    "    for index,job in tqdm(enumerate(permutations(list,number))):\n",
    "        if time.time() - start_time > time_limit:\n",
    "            print(\"Time limit exceeded\")\n",
    "            break\n",
    "        start_work_time =[[]]\n",
    "        end_work_time = [[]]\n",
    "        cmp = 0\n",
    "        # intilialisation of the thingy (this it just the first one when he starts / finishes)\n",
    "        for i in job[0]:\n",
    "            cmp += i\n",
    "            start_work_time[0].append(cmp-i)\n",
    "            end_work_time[0].append(cmp)\n",
    "        # The real thing   \n",
    "        for i,j in enumerate(job):#tqdm(enumerate(job)):\n",
    "            if i != 0:\n",
    "                start_work_time.append([])\n",
    "                end_work_time.append([])\n",
    "                for k,l in enumerate(j):\n",
    "                    if k == 0:\n",
    "                        start_work_time[i].append(end_work_time[i-1][k])\n",
    "                    else:\n",
    "                        start_work_time[i].append(max(end_work_time[i-1][k],end_work_time[i][k-1]))\n",
    "                    end_work_time[i].append(start_work_time[i][k]+l)\n",
    "            #print(\"Start work time of \",i+1,\"is\",start_work_time[i])fdfa   \n",
    "            #print(\"End work time of\",i+1,\"is\",end_work_time[i])\n",
    "        minimum = min(minimum,end_work_time[len(end_work_time)-1][len(end_work_time[0])-1])\n",
    "        if minimum == end_work_time[len(end_work_time)-1][len(end_work_time[0])-1]:\n",
    "            min_job = job\n",
    "    print(\"the minimum is: \",minimum,min_job)\n",
    "    return(min_job)"
   ]
  },
  {
   "cell_type": "code",
   "execution_count": 104,
   "metadata": {},
   "outputs": [
    {
     "data": {
      "application/vnd.jupyter.widget-view+json": {
       "model_id": "41c53a5ab7b04444be410d0fb71fde47",
       "version_major": 2,
       "version_minor": 0
      },
      "text/plain": [
       "0it [00:00, ?it/s]"
      ]
     },
     "metadata": {},
     "output_type": "display_data"
    },
    {
     "name": "stdout",
     "output_type": "stream",
     "text": [
      "Time limit exceeded\n",
      "the minimum is:  440.0 ([27.0, 5.0, 57.0, 49.0, 69.0], [12.0, 47.0, 63.0, 56.0, 47.0], [32.0, 21.0, 26.0, 54.0, 58.0], [29.0, 75.0, 41.0, 41.0, 49.0], [38.0, 60.0, 23.0, 59.0, 41.0], [15.0, 11.0, 49.0, 31.0, 20.0], [14.0, 73.0, 63.0, 39.0, 8.0])\n"
     ]
    }
   ],
   "source": [
    "do_the_job_limited(job_1,4500,7)"
   ]
  },
  {
   "cell_type": "code",
   "execution_count": 109,
   "metadata": {},
   "outputs": [
    {
     "data": {
      "application/vnd.jupyter.widget-view+json": {
       "model_id": "544544ec3293409bb341a613a114b3db",
       "version_major": 2,
       "version_minor": 0
      },
      "text/plain": [
       "0it [00:00, ?it/s]"
      ]
     },
     "metadata": {},
     "output_type": "display_data"
    },
    {
     "name": "stdout",
     "output_type": "stream",
     "text": [
      "the minimum is:  340.0 ([27.0, 5.0, 57.0, 49.0, 69.0], [32.0, 21.0, 26.0, 54.0, 58.0], [15.0, 11.0, 49.0, 31.0, 20.0], [12.0, 47.0, 63.0, 56.0, 47.0], [14.0, 73.0, 63.0, 39.0, 8.0])\n"
     ]
    }
   ],
   "source": [
    "do_the_job_limited(job_1,4500,5)"
   ]
  },
  {
   "cell_type": "code",
   "execution_count": 110,
   "metadata": {},
   "outputs": [
    {
     "data": {
      "application/vnd.jupyter.widget-view+json": {
       "model_id": "4110da61fee943cf81c48de73c681826",
       "version_major": 2,
       "version_minor": 0
      },
      "text/plain": [
       "0it [00:00, ?it/s]"
      ]
     },
     "metadata": {},
     "output_type": "display_data"
    },
    {
     "name": "stdout",
     "output_type": "stream",
     "text": [
      "the minimum is:  383.0 ([15.0, 11.0, 49.0, 31.0, 20.0], [32.0, 21.0, 26.0, 54.0, 58.0], [27.0, 5.0, 57.0, 49.0, 69.0], [12.0, 47.0, 63.0, 56.0, 47.0], [14.0, 73.0, 63.0, 39.0, 8.0], [94.0, 77.0, 40.0, 31.0, 28.0])\n"
     ]
    }
   ],
   "source": [
    "do_the_job_limited(job_1,4500,6)"
   ]
  },
  {
   "cell_type": "code",
   "execution_count": 111,
   "metadata": {},
   "outputs": [
    {
     "data": {
      "application/vnd.jupyter.widget-view+json": {
       "model_id": "6654690cdecd4f8c8e508f8e7416ae23",
       "version_major": 2,
       "version_minor": 0
      },
      "text/plain": [
       "0it [00:00, ?it/s]"
      ]
     },
     "metadata": {},
     "output_type": "display_data"
    },
    {
     "name": "stdout",
     "output_type": "stream",
     "text": [
      "the minimum is:  440.0 ([27.0, 5.0, 57.0, 49.0, 69.0], [12.0, 47.0, 63.0, 56.0, 47.0], [32.0, 21.0, 26.0, 54.0, 58.0], [29.0, 75.0, 41.0, 41.0, 49.0], [38.0, 60.0, 23.0, 59.0, 41.0], [15.0, 11.0, 49.0, 31.0, 20.0], [14.0, 73.0, 63.0, 39.0, 8.0])\n"
     ]
    }
   ],
   "source": [
    "do_the_job_limited(job_1,10000,7)"
   ]
  },
  {
   "cell_type": "code",
   "execution_count": 12,
   "metadata": {},
   "outputs": [
    {
     "data": {
      "application/vnd.jupyter.widget-view+json": {
       "model_id": "e32ba0eb18254a589e998fab71627029",
       "version_major": 2,
       "version_minor": 0
      },
      "text/plain": [
       "0it [00:00, ?it/s]"
      ]
     },
     "metadata": {},
     "output_type": "display_data"
    },
    {
     "name": "stdout",
     "output_type": "stream",
     "text": [
      "Time limit exceeded\n",
      "the minimum is:  506.0 ([54.0, 79.0, 16.0, 66.0, 58.0], [15.0, 11.0, 49.0, 31.0, 20.0], [32.0, 21.0, 26.0, 54.0, 58.0], [27.0, 5.0, 57.0, 49.0, 69.0], [38.0, 60.0, 23.0, 59.0, 41.0], [14.0, 73.0, 63.0, 39.0, 8.0], [94.0, 77.0, 40.0, 31.0, 28.0])\n"
     ]
    }
   ],
   "source": [
    "do_the_job_limited(job_1,60,7)"
   ]
  },
  {
   "attachments": {},
   "cell_type": "markdown",
   "metadata": {},
   "source": [
    "# Tests to validate the resuls from ines"
   ]
  },
  {
   "cell_type": "code",
   "execution_count": 19,
   "metadata": {},
   "outputs": [],
   "source": [
    "numbers_list_test = []\n",
    "\n",
    "with open('random_instance.txt', 'r') as file:\n",
    "    for line in file:\n",
    "        numbers = line.strip().split()\n",
    "        if numbers:\n",
    "            try:\n",
    "                numbers = [float(num) for num in numbers]\n",
    "                numbers_list_test.extend(numbers)\n",
    "            except ValueError:\n",
    "                pass\n",
    "# # Here we delete the stupid informations about branch and bound and stuff, for now I won't be suing them\n",
    "# for i in range(0, 1050, 100):\n",
    "#     del numbers_list_test[i:i+5]"
   ]
  },
  {
   "cell_type": "code",
   "execution_count": 20,
   "metadata": {},
   "outputs": [
    {
     "data": {
      "text/plain": [
       "[[71.0, 79.0, 85.0, 82.0, 83.0],\n",
       " [84.0, 71.0, 66.0, 68.0, 81.0],\n",
       " [78.0, 81.0, 75.0, 72.0, 87.0],\n",
       " [78.0, 75.0, 66.0, 72.0, 88.0],\n",
       " [72.0, 88.0, 83.0, 85.0, 88.0],\n",
       " [86.0, 88.0, 79.0, 82.0, 78.0],\n",
       " [75.0, 66.0, 86.0, 78.0, 78.0],\n",
       " [80.0, 79.0, 66.0, 83.0, 78.0],\n",
       " [73.0, 73.0, 67.0, 77.0, 71.0],\n",
       " [80.0, 77.0, 83.0, 78.0, 67.0]]"
      ]
     },
     "execution_count": 20,
     "metadata": {},
     "output_type": "execute_result"
    }
   ],
   "source": [
    "sublists = [numbers_list_test[i:i+5] for i in range(0, len(numbers_list_test), 5)]\n",
    "sublists"
   ]
  },
  {
   "cell_type": "code",
   "execution_count": 69,
   "metadata": {},
   "outputs": [
    {
     "data": {
      "application/vnd.jupyter.widget-view+json": {
       "model_id": "a0e6839ebe2d454084467cc501808914",
       "version_major": 2,
       "version_minor": 0
      },
      "text/plain": [
       "0it [00:00, ?it/s]"
      ]
     },
     "metadata": {},
     "output_type": "display_data"
    },
    {
     "name": "stdout",
     "output_type": "stream",
     "text": [
      "the minimum is:  1102.0 ([78.0, 75.0, 66.0, 72.0, 88.0], [78.0, 81.0, 75.0, 72.0, 87.0], [80.0, 79.0, 66.0, 83.0, 78.0], [75.0, 66.0, 86.0, 78.0, 78.0], [73.0, 73.0, 67.0, 77.0, 71.0], [71.0, 79.0, 85.0, 82.0, 83.0], [84.0, 71.0, 66.0, 68.0, 81.0], [72.0, 88.0, 83.0, 85.0, 88.0], [86.0, 88.0, 79.0, 82.0, 78.0], [80.0, 77.0, 83.0, 78.0, 67.0])\n"
     ]
    },
    {
     "data": {
      "text/plain": [
       "([78.0, 75.0, 66.0, 72.0, 88.0],\n",
       " [78.0, 81.0, 75.0, 72.0, 87.0],\n",
       " [80.0, 79.0, 66.0, 83.0, 78.0],\n",
       " [75.0, 66.0, 86.0, 78.0, 78.0],\n",
       " [73.0, 73.0, 67.0, 77.0, 71.0],\n",
       " [71.0, 79.0, 85.0, 82.0, 83.0],\n",
       " [84.0, 71.0, 66.0, 68.0, 81.0],\n",
       " [72.0, 88.0, 83.0, 85.0, 88.0],\n",
       " [86.0, 88.0, 79.0, 82.0, 78.0],\n",
       " [80.0, 77.0, 83.0, 78.0, 67.0])"
      ]
     },
     "execution_count": 69,
     "metadata": {},
     "output_type": "execute_result"
    }
   ],
   "source": [
    "do_the_job_limited(sublists,1000,10)"
   ]
  },
  {
   "cell_type": "code",
   "execution_count": 20,
   "metadata": {},
   "outputs": [
    {
     "data": {
      "text/plain": [
       "[[61.0, 61.0, 61.0],\n",
       " [63.0, 63.0, 59.0],\n",
       " [63.0, 60.0, 63.0],\n",
       " [58.0, 60.0, 61.0],\n",
       " [60.0, 59.0, 56.0],\n",
       " [57.0, 62.0, 57.0],\n",
       " [63.0, 58.0, 59.0],\n",
       " [62.0, 62.0, 63.0]]"
      ]
     },
     "execution_count": 20,
     "metadata": {},
     "output_type": "execute_result"
    }
   ],
   "source": [
    "numbers_list_test_83 = []\n",
    "\n",
    "with open('random_8_3.txt', 'r') as file:\n",
    "    for line in file:\n",
    "        numbers = line.strip().split()\n",
    "        if numbers:\n",
    "            try:\n",
    "                numbers = [float(num) for num in numbers]\n",
    "                numbers_list_test_83.extend(numbers)\n",
    "            except ValueError:\n",
    "                pass\n",
    "\n",
    "sublists_83 = [numbers_list_test_83[i:i+3] for i in range(0, len(numbers_list_test_83), 3)]\n",
    "sublists_83"
   ]
  },
  {
   "cell_type": "code",
   "execution_count": 162,
   "metadata": {},
   "outputs": [
    {
     "data": {
      "application/vnd.jupyter.widget-view+json": {
       "model_id": "4229b797620941209bab7cfe2250ae9e",
       "version_major": 2,
       "version_minor": 0
      },
      "text/plain": [
       "0it [00:00, ?it/s]"
      ]
     },
     "metadata": {},
     "output_type": "display_data"
    },
    {
     "name": "stdout",
     "output_type": "stream",
     "text": [
      "the minimum is:  602.0 ([57.0, 62.0, 57.0], [58.0, 60.0, 61.0], [62.0, 62.0, 63.0], [63.0, 60.0, 63.0], [61.0, 61.0, 61.0], [63.0, 63.0, 59.0], [63.0, 58.0, 59.0], [60.0, 59.0, 56.0])\n"
     ]
    }
   ],
   "source": [
    "do_the_job_limited(sublists_83,1000,8)"
   ]
  },
  {
   "attachments": {},
   "cell_type": "markdown",
   "metadata": {},
   "source": [
    "# Palmar Heuristic\n",
    "\n",
    "we add weights to different machines and calculate the P of each job then order them by descending order\n",
    "\n",
    "what if they are equals ? well let's make them randomly then\n",
    "\n",
    "I'll go with -2 -1 0 1 2 as weights \n",
    "\n",
    "Let's impliment it:"
   ]
  },
  {
   "cell_type": "code",
   "execution_count": 72,
   "metadata": {},
   "outputs": [],
   "source": [
    "job_1 = [[row[i] for row in divided_lists[0]] for i in range(len(divided_lists[0][0]))]"
   ]
  },
  {
   "cell_type": "code",
   "execution_count": 22,
   "metadata": {},
   "outputs": [],
   "source": [
    "Weight = [-2,-1,0,1,2]\n",
    "weighted_job_1 = job_1[:]"
   ]
  },
  {
   "attachments": {},
   "cell_type": "markdown",
   "metadata": {},
   "source": [
    "Now we calculate the weights of each job:"
   ]
  },
  {
   "cell_type": "code",
   "execution_count": 23,
   "metadata": {},
   "outputs": [],
   "source": [
    "for i in range(len(weighted_job_1)):\n",
    "    for j in range(len(weighted_job_1[i])):\n",
    "        weighted_job_1[i][j] *= Weight[j]"
   ]
  },
  {
   "cell_type": "code",
   "execution_count": 24,
   "metadata": {},
   "outputs": [],
   "source": [
    "finale_weights = []\n",
    "for j in weighted_job_1:\n",
    "    sum_weight = sum(j)\n",
    "    finale_weights.append(sum_weight)"
   ]
  },
  {
   "cell_type": "code",
   "execution_count": 25,
   "metadata": {},
   "outputs": [],
   "source": [
    "sorted_with_indices = sorted(enumerate(finale_weights), key=lambda x: x[1], reverse=True)\n",
    "sorted_list = [x[1] for x in sorted_with_indices]\n",
    "sorted_indices = [x[0] for x in sorted_with_indices]"
   ]
  },
  {
   "cell_type": "code",
   "execution_count": 26,
   "metadata": {},
   "outputs": [],
   "source": [
    "job_1 = [[row[i] for row in divided_lists[0]] for i in range(len(divided_lists[0][0]))]"
   ]
  },
  {
   "cell_type": "code",
   "execution_count": 74,
   "metadata": {},
   "outputs": [
    {
     "name": "stdout",
     "output_type": "stream",
     "text": [
      "[[38.0, 60.0, 23.0, 59.0, 41.0], [83.0, 3.0, 89.0, 58.0, 56.0], [36.0, 70.0, 45.0, 91.0, 35.0], [15.0, 11.0, 49.0, 31.0, 20.0], [27.0, 5.0, 57.0, 49.0, 69.0], [87.0, 56.0, 64.0, 85.0, 13.0], [71.0, 99.0, 15.0, 68.0, 85.0], [77.0, 56.0, 89.0, 78.0, 53.0], [54.0, 79.0, 16.0, 66.0, 58.0], [53.0, 99.0, 60.0, 13.0, 53.0]]\n"
     ]
    }
   ],
   "source": [
    "combined = zip(job_1, sorted_indices)\n",
    "sorted_combined = sorted(combined, key=lambda x: x[1])\n",
    "sorted_list = [x[0] for x in sorted_combined]\n",
    "print(sorted_list)"
   ]
  },
  {
   "cell_type": "code",
   "execution_count": 28,
   "metadata": {},
   "outputs": [
    {
     "data": {
      "text/plain": [
       "1455.0"
      ]
     },
     "execution_count": 28,
     "metadata": {},
     "output_type": "execute_result"
    }
   ],
   "source": [
    "do_the_job(sorted_list)"
   ]
  },
  {
   "cell_type": "code",
   "execution_count": 29,
   "metadata": {},
   "outputs": [
    {
     "data": {
      "text/plain": [
       "1597.0"
      ]
     },
     "execution_count": 29,
     "metadata": {},
     "output_type": "execute_result"
    }
   ],
   "source": [
    "job_1 = [[row[i] for row in divided_lists[0]] for i in range(len(divided_lists[0][0]))]\n",
    "Weight = [1,2,3,4,5]\n",
    "weighted_job_1 = job_1[:]\n",
    "for i in range(len(weighted_job_1)):\n",
    "    for j in range(len(weighted_job_1[i])):\n",
    "        weighted_job_1[i][j] *= Weight[j]\n",
    "finale_weights = []\n",
    "for j in weighted_job_1:\n",
    "    sum_weight = sum(j)\n",
    "    finale_weights.append(sum_weight)\n",
    "sorted_with_indices = sorted(enumerate(finale_weights), key=lambda x: x[1], reverse=True)\n",
    "sorted_list = [x[1] for x in sorted_with_indices]\n",
    "sorted_indices = [x[0] for x in sorted_with_indices]\n",
    "job_1 = [[row[i] for row in divided_lists[0]] for i in range(len(divided_lists[0][0]))]\n",
    "combined = zip(job_1, sorted_indices)\n",
    "sorted_combined = sorted(combined, key=lambda x: x[1])\n",
    "\n",
    "sorted_list = [x[0] for x in sorted_combined]\n",
    "\n",
    "do_the_job(sorted_list)"
   ]
  },
  {
   "cell_type": "code",
   "execution_count": 30,
   "metadata": {},
   "outputs": [
    {
     "data": {
      "text/plain": [
       "1376.0"
      ]
     },
     "execution_count": 30,
     "metadata": {},
     "output_type": "execute_result"
    }
   ],
   "source": [
    "job_1 = [[row[i] for row in divided_lists[0]] for i in range(len(divided_lists[0][0]))]\n",
    "Weight = [-5,-4,-3,-2,-1]\n",
    "weighted_job_1 = job_1[:]\n",
    "for i in range(len(weighted_job_1)):\n",
    "    for j in range(len(weighted_job_1[i])):\n",
    "        weighted_job_1[i][j] *= Weight[j]\n",
    "finale_weights = []\n",
    "for j in weighted_job_1:\n",
    "    sum_weight = sum(j)\n",
    "    finale_weights.append(sum_weight)\n",
    "sorted_with_indices = sorted(enumerate(finale_weights), key=lambda x: x[1], reverse=True)\n",
    "sorted_list = [x[1] for x in sorted_with_indices]\n",
    "sorted_indices = [x[0] for x in sorted_with_indices]\n",
    "job_1 = [[row[i] for row in divided_lists[0]] for i in range(len(divided_lists[0][0]))]\n",
    "combined = zip(job_1, sorted_indices)\n",
    "sorted_combined = sorted(combined, key=lambda x: x[1])\n",
    "\n",
    "sorted_list = [x[0] for x in sorted_combined]\n",
    "\n",
    "do_the_job(sorted_list)"
   ]
  },
  {
   "attachments": {},
   "cell_type": "markdown",
   "metadata": {},
   "source": [
    "Note: Weights have a big influence on the resulst and we notice that the bigger the wieght on the first one the better the results"
   ]
  },
  {
   "attachments": {},
   "cell_type": "markdown",
   "metadata": {},
   "source": [
    "Avant de passer à une autre heuristique, je vais essaier plusieurs poids"
   ]
  },
  {
   "cell_type": "code",
   "execution_count": 14,
   "metadata": {},
   "outputs": [],
   "source": [
    "wj1 = [5, 6, 7, 8, 9,10]\n",
    "wj2 = [4, 5, 6, 7, 8, 9]\n",
    "wj3 = [3, 4, 5, 6, 7, 8]\n",
    "wj4 = [2, 3, 4, 5, 6, 7]\n",
    "wj5 = [1, 2, 3, 4, 5, 6]"
   ]
  },
  {
   "cell_type": "code",
   "execution_count": 15,
   "metadata": {},
   "outputs": [
    {
     "data": {
      "application/vnd.jupyter.widget-view+json": {
       "model_id": "19b41f77fdf44f9dbbeb695f09d59abc",
       "version_major": 2,
       "version_minor": 0
      },
      "text/plain": [
       "  0%|          | 0/6 [00:00<?, ?it/s]"
      ]
     },
     "metadata": {},
     "output_type": "display_data"
    },
    {
     "name": "stdout",
     "output_type": "stream",
     "text": [
      "1349.0\n"
     ]
    }
   ],
   "source": [
    "min_time = 100000\n",
    "job_1 = [[row[i] for row in divided_lists[0]] for i in range(len(divided_lists[0][0]))]\n",
    "for weight_1 in tqdm(wj1):\n",
    "    for weight_2 in wj2:\n",
    "        for weight_3 in wj3:\n",
    "            for weight_4 in wj4:\n",
    "                for weight_5 in wj5:\n",
    "                    Weight = [weight_1,weight_2,weight_3,weight_4,weight_5]\n",
    "                    weighted_job_1 = job_1[:]\n",
    "                    for i in range(len(weighted_job_1)):\n",
    "                        for j in range(len(weighted_job_1[i])):\n",
    "                            weighted_job_1[i][j] *= Weight[j]\n",
    "                    finale_weights = []\n",
    "                    for j in weighted_job_1:\n",
    "                        sum_weight = sum(j)\n",
    "                        finale_weights.append(sum_weight)\n",
    "                    sorted_with_indices = sorted(enumerate(finale_weights), key=lambda x: x[1], reverse=True)\n",
    "                    sorted_list = [x[1] for x in sorted_with_indices]\n",
    "                    sorted_indices = [x[0] for x in sorted_with_indices]\n",
    "                    job_1 = [[row[i] for row in divided_lists[0]] for i in range(len(divided_lists[0][0]))]\n",
    "                    combined = zip(job_1, sorted_indices)\n",
    "                    sorted_combined = sorted(combined, key=lambda x: x[1])\n",
    "\n",
    "                    sorted_list = [x[0] for x in sorted_combined]\n",
    "\n",
    "                    time_of_work = do_the_job(sorted_list)\n",
    "                    min_time = time_of_work if time_of_work<min_time else min_time\n",
    "print(min_time)\n"
   ]
  },
  {
   "cell_type": "code",
   "execution_count": 16,
   "metadata": {},
   "outputs": [
    {
     "data": {
      "text/plain": [
       "1349.0"
      ]
     },
     "execution_count": 16,
     "metadata": {},
     "output_type": "execute_result"
    }
   ],
   "source": [
    "min_time"
   ]
  },
  {
   "attachments": {},
   "cell_type": "markdown",
   "metadata": {},
   "source": [
    "Le min time est mieulleur avec un le premier poid superieur au autres w1>Wi i=/=1"
   ]
  },
  {
   "attachments": {},
   "cell_type": "markdown",
   "metadata": {},
   "source": [
    "Let's try on akram's thingy"
   ]
  },
  {
   "cell_type": "code",
   "execution_count": 21,
   "metadata": {},
   "outputs": [
    {
     "data": {
      "text/plain": [
       "[[71.0, 79.0, 85.0, 82.0, 83.0],\n",
       " [84.0, 71.0, 66.0, 68.0, 81.0],\n",
       " [78.0, 81.0, 75.0, 72.0, 87.0],\n",
       " [78.0, 75.0, 66.0, 72.0, 88.0],\n",
       " [72.0, 88.0, 83.0, 85.0, 88.0],\n",
       " [86.0, 88.0, 79.0, 82.0, 78.0],\n",
       " [75.0, 66.0, 86.0, 78.0, 78.0],\n",
       " [80.0, 79.0, 66.0, 83.0, 78.0],\n",
       " [73.0, 73.0, 67.0, 77.0, 71.0],\n",
       " [80.0, 77.0, 83.0, 78.0, 67.0]]"
      ]
     },
     "execution_count": 21,
     "metadata": {},
     "output_type": "execute_result"
    }
   ],
   "source": [
    "sublists"
   ]
  },
  {
   "cell_type": "code",
   "execution_count": 22,
   "metadata": {},
   "outputs": [
    {
     "data": {
      "application/vnd.jupyter.widget-view+json": {
       "model_id": "45290f1daa8e457e8bd180619f7e3c4e",
       "version_major": 2,
       "version_minor": 0
      },
      "text/plain": [
       "  0%|          | 0/6 [00:00<?, ?it/s]"
      ]
     },
     "metadata": {},
     "output_type": "display_data"
    },
    {
     "name": "stdout",
     "output_type": "stream",
     "text": [
      "[[71.0, 79.0, 85.0, 82.0, 83.0], [84.0, 71.0, 66.0, 68.0, 81.0], [78.0, 81.0, 75.0, 72.0, 87.0], [78.0, 75.0, 66.0, 72.0, 88.0], [72.0, 88.0, 83.0, 85.0, 88.0], [86.0, 88.0, 79.0, 82.0, 78.0], [75.0, 66.0, 86.0, 78.0, 78.0], [80.0, 79.0, 66.0, 83.0, 78.0], [73.0, 73.0, 67.0, 77.0, 71.0], [80.0, 77.0, 83.0, 78.0, 67.0]]\n",
      "[[71.0, 79.0, 85.0, 82.0, 83.0], [84.0, 71.0, 66.0, 68.0, 81.0], [78.0, 81.0, 75.0, 72.0, 87.0], [78.0, 75.0, 66.0, 72.0, 88.0], [72.0, 88.0, 83.0, 85.0, 88.0], [86.0, 88.0, 79.0, 82.0, 78.0], [75.0, 66.0, 86.0, 78.0, 78.0], [80.0, 79.0, 66.0, 83.0, 78.0], [73.0, 73.0, 67.0, 77.0, 71.0], [80.0, 77.0, 83.0, 78.0, 67.0]]\n",
      "[[71.0, 79.0, 85.0, 82.0, 83.0], [84.0, 71.0, 66.0, 68.0, 81.0], [78.0, 81.0, 75.0, 72.0, 87.0], [78.0, 75.0, 66.0, 72.0, 88.0], [72.0, 88.0, 83.0, 85.0, 88.0], [86.0, 88.0, 79.0, 82.0, 78.0], [75.0, 66.0, 86.0, 78.0, 78.0], [80.0, 79.0, 66.0, 83.0, 78.0], [73.0, 73.0, 67.0, 77.0, 71.0], [80.0, 77.0, 83.0, 78.0, 67.0]]\n",
      "[[71.0, 79.0, 85.0, 82.0, 83.0], [84.0, 71.0, 66.0, 68.0, 81.0], [78.0, 81.0, 75.0, 72.0, 87.0], [78.0, 75.0, 66.0, 72.0, 88.0], [72.0, 88.0, 83.0, 85.0, 88.0], [86.0, 88.0, 79.0, 82.0, 78.0], [75.0, 66.0, 86.0, 78.0, 78.0], [80.0, 79.0, 66.0, 83.0, 78.0], [73.0, 73.0, 67.0, 77.0, 71.0], [80.0, 77.0, 83.0, 78.0, 67.0]]\n",
      "[[71.0, 79.0, 85.0, 82.0, 83.0], [84.0, 71.0, 66.0, 68.0, 81.0], [78.0, 81.0, 75.0, 72.0, 87.0], [78.0, 75.0, 66.0, 72.0, 88.0], [72.0, 88.0, 83.0, 85.0, 88.0], [86.0, 88.0, 79.0, 82.0, 78.0], [75.0, 66.0, 86.0, 78.0, 78.0], [80.0, 79.0, 66.0, 83.0, 78.0], [73.0, 73.0, 67.0, 77.0, 71.0], [80.0, 77.0, 83.0, 78.0, 67.0]]\n",
      "[[71.0, 79.0, 85.0, 82.0, 83.0], [84.0, 71.0, 66.0, 68.0, 81.0], [78.0, 81.0, 75.0, 72.0, 87.0], [78.0, 75.0, 66.0, 72.0, 88.0], [72.0, 88.0, 83.0, 85.0, 88.0], [86.0, 88.0, 79.0, 82.0, 78.0], [75.0, 66.0, 86.0, 78.0, 78.0], [80.0, 79.0, 66.0, 83.0, 78.0], [73.0, 73.0, 67.0, 77.0, 71.0], [80.0, 77.0, 83.0, 78.0, 67.0]]\n",
      "1108.0\n"
     ]
    }
   ],
   "source": [
    "min_time = 100000\n",
    "sublists = [numbers_list_test[i:i+5] for i in range(0, len(numbers_list_test), 5)]\n",
    "for weight_1 in tqdm(wj1):\n",
    "    for weight_2 in wj2:\n",
    "        for weight_3 in wj3:\n",
    "            for weight_4 in wj4:\n",
    "                for weight_5 in wj5:\n",
    "                    Weight = [weight_1,weight_2,weight_3,weight_4,weight_5]\n",
    "                    weighted_job_1 = sublists[:]\n",
    "                    for i in range(len(weighted_job_1)):\n",
    "                        for j in range(len(weighted_job_1[i])):\n",
    "                            weighted_job_1[i][j] *= Weight[j]\n",
    "                    finale_weights = []\n",
    "                    for j in weighted_job_1:\n",
    "                        sum_weight = sum(j)\n",
    "                        finale_weights.append(sum_weight)\n",
    "                    sorted_with_indices = sorted(enumerate(finale_weights), key=lambda x: x[1], reverse=True)\n",
    "                    sorted_list = [x[1] for x in sorted_with_indices]\n",
    "                    sorted_indices = [x[0] for x in sorted_with_indices]\n",
    "                    sublists = [numbers_list_test[i:i+5] for i in range(0, len(numbers_list_test), 5)]\n",
    "                    combined = zip(sublists, sorted_indices)\n",
    "                    sorted_combined = sorted(combined, key=lambda x: x[1])\n",
    "                    sorted_list = [x[0] for x in sorted_combined]\n",
    "                    time_of_work = do_the_job(sorted_list)\n",
    "                    min_time = time_of_work if time_of_work<min_time else min_time\n",
    "    print(sublists)\n",
    "print(min_time)"
   ]
  },
  {
   "cell_type": "code",
   "execution_count": 23,
   "metadata": {},
   "outputs": [
    {
     "data": {
      "text/plain": [
       "[[78.0, 81.0, 75.0, 72.0, 87.0],\n",
       " [73.0, 73.0, 67.0, 77.0, 71.0],\n",
       " [78.0, 75.0, 66.0, 72.0, 88.0],\n",
       " [80.0, 79.0, 66.0, 83.0, 78.0],\n",
       " [84.0, 71.0, 66.0, 68.0, 81.0],\n",
       " [71.0, 79.0, 85.0, 82.0, 83.0],\n",
       " [75.0, 66.0, 86.0, 78.0, 78.0],\n",
       " [86.0, 88.0, 79.0, 82.0, 78.0],\n",
       " [80.0, 77.0, 83.0, 78.0, 67.0],\n",
       " [72.0, 88.0, 83.0, 85.0, 88.0]]"
      ]
     },
     "execution_count": 23,
     "metadata": {},
     "output_type": "execute_result"
    }
   ],
   "source": [
    "sorted_list"
   ]
  },
  {
   "attachments": {},
   "cell_type": "markdown",
   "metadata": {},
   "source": [
    "Essayont une autre\n",
    "une de ma tête:"
   ]
  },
  {
   "cell_type": "code",
   "execution_count": 24,
   "metadata": {},
   "outputs": [],
   "source": [
    "list_des_jobs = job_1\n",
    "liste_des_jobs_finale = []"
   ]
  },
  {
   "cell_type": "code",
   "execution_count": 25,
   "metadata": {},
   "outputs": [
    {
     "data": {
      "application/vnd.jupyter.widget-view+json": {
       "model_id": "83e2fb83e76043928085810ef13830eb",
       "version_major": 2,
       "version_minor": 0
      },
      "text/plain": [
       "0it [00:00, ?it/s]"
      ]
     },
     "metadata": {},
     "output_type": "display_data"
    },
    {
     "name": "stdout",
     "output_type": "stream",
     "text": [
      "the minimum is:  126.0 ([15.0, 11.0, 49.0, 31.0, 20.0],)\n"
     ]
    },
    {
     "data": {
      "application/vnd.jupyter.widget-view+json": {
       "model_id": "2936ebf866dc42f6bab001bc571482f4",
       "version_major": 2,
       "version_minor": 0
      },
      "text/plain": [
       "0it [00:00, ?it/s]"
      ]
     },
     "metadata": {},
     "output_type": "display_data"
    },
    {
     "name": "stdout",
     "output_type": "stream",
     "text": [
      "the minimum is:  191.0 ([32.0, 21.0, 26.0, 54.0, 58.0],)\n"
     ]
    },
    {
     "data": {
      "application/vnd.jupyter.widget-view+json": {
       "model_id": "723e40692ce44156b586bb6437892004",
       "version_major": 2,
       "version_minor": 0
      },
      "text/plain": [
       "0it [00:00, ?it/s]"
      ]
     },
     "metadata": {},
     "output_type": "display_data"
    },
    {
     "name": "stdout",
     "output_type": "stream",
     "text": [
      "the minimum is:  197.0 ([14.0, 73.0, 63.0, 39.0, 8.0],)\n"
     ]
    },
    {
     "data": {
      "application/vnd.jupyter.widget-view+json": {
       "model_id": "6fd71ea53be94db7a27037a5caf989cc",
       "version_major": 2,
       "version_minor": 0
      },
      "text/plain": [
       "0it [00:00, ?it/s]"
      ]
     },
     "metadata": {},
     "output_type": "display_data"
    },
    {
     "name": "stdout",
     "output_type": "stream",
     "text": [
      "the minimum is:  207.0 ([27.0, 5.0, 57.0, 49.0, 69.0],)\n"
     ]
    },
    {
     "data": {
      "application/vnd.jupyter.widget-view+json": {
       "model_id": "7f56053cc0834714a94bd9383c68bf8f",
       "version_major": 2,
       "version_minor": 0
      },
      "text/plain": [
       "0it [00:00, ?it/s]"
      ]
     },
     "metadata": {},
     "output_type": "display_data"
    },
    {
     "name": "stdout",
     "output_type": "stream",
     "text": [
      "the minimum is:  221.0 ([38.0, 60.0, 23.0, 59.0, 41.0],)\n"
     ]
    },
    {
     "data": {
      "application/vnd.jupyter.widget-view+json": {
       "model_id": "7bbc1eed8aeb481ea6692f7725311fe2",
       "version_major": 2,
       "version_minor": 0
      },
      "text/plain": [
       "0it [00:00, ?it/s]"
      ]
     },
     "metadata": {},
     "output_type": "display_data"
    },
    {
     "name": "stdout",
     "output_type": "stream",
     "text": [
      "the minimum is:  225.0 ([12.0, 47.0, 63.0, 56.0, 47.0],)\n"
     ]
    },
    {
     "data": {
      "application/vnd.jupyter.widget-view+json": {
       "model_id": "17348c16ce06486381397de5dc399d23",
       "version_major": 2,
       "version_minor": 0
      },
      "text/plain": [
       "0it [00:00, ?it/s]"
      ]
     },
     "metadata": {},
     "output_type": "display_data"
    },
    {
     "name": "stdout",
     "output_type": "stream",
     "text": [
      "the minimum is:  234.0 ([91.0, 61.0, 1.0, 9.0, 72.0],)\n"
     ]
    },
    {
     "data": {
      "application/vnd.jupyter.widget-view+json": {
       "model_id": "700381c3e1a041b89ac79f7cf1bead24",
       "version_major": 2,
       "version_minor": 0
      },
      "text/plain": [
       "0it [00:00, ?it/s]"
      ]
     },
     "metadata": {},
     "output_type": "display_data"
    },
    {
     "name": "stdout",
     "output_type": "stream",
     "text": [
      "the minimum is:  235.0 ([29.0, 75.0, 41.0, 41.0, 49.0],)\n"
     ]
    },
    {
     "data": {
      "application/vnd.jupyter.widget-view+json": {
       "model_id": "6db789519e694bbeb34523e867da899a",
       "version_major": 2,
       "version_minor": 0
      },
      "text/plain": [
       "0it [00:00, ?it/s]"
      ]
     },
     "metadata": {},
     "output_type": "display_data"
    },
    {
     "name": "stdout",
     "output_type": "stream",
     "text": [
      "the minimum is:  257.0 ([76.0, 3.0, 7.0, 85.0, 86.0],)\n"
     ]
    },
    {
     "data": {
      "application/vnd.jupyter.widget-view+json": {
       "model_id": "3531b480c4da4d11822ac9e277870bbd",
       "version_major": 2,
       "version_minor": 0
      },
      "text/plain": [
       "0it [00:00, ?it/s]"
      ]
     },
     "metadata": {},
     "output_type": "display_data"
    },
    {
     "name": "stdout",
     "output_type": "stream",
     "text": [
      "the minimum is:  265.0 ([77.0, 14.0, 47.0, 40.0, 87.0],)\n"
     ]
    },
    {
     "data": {
      "application/vnd.jupyter.widget-view+json": {
       "model_id": "734aaf0b57b64dd5aa5d4b3684569bff",
       "version_major": 2,
       "version_minor": 0
      },
      "text/plain": [
       "0it [00:00, ?it/s]"
      ]
     },
     "metadata": {},
     "output_type": "display_data"
    },
    {
     "name": "stdout",
     "output_type": "stream",
     "text": [
      "the minimum is:  269.0 ([68.0, 5.0, 77.0, 51.0, 68.0],)\n"
     ]
    },
    {
     "data": {
      "application/vnd.jupyter.widget-view+json": {
       "model_id": "1ea0b65aca06427abed47b2dde316550",
       "version_major": 2,
       "version_minor": 0
      },
      "text/plain": [
       "0it [00:00, ?it/s]"
      ]
     },
     "metadata": {},
     "output_type": "display_data"
    },
    {
     "name": "stdout",
     "output_type": "stream",
     "text": [
      "the minimum is:  270.0 ([94.0, 77.0, 40.0, 31.0, 28.0],)\n"
     ]
    },
    {
     "data": {
      "application/vnd.jupyter.widget-view+json": {
       "model_id": "3774569975604e4c886c51f95769a1bf",
       "version_major": 2,
       "version_minor": 0
      },
      "text/plain": [
       "0it [00:00, ?it/s]"
      ]
     },
     "metadata": {},
     "output_type": "display_data"
    },
    {
     "name": "stdout",
     "output_type": "stream",
     "text": [
      "the minimum is:  273.0 ([54.0, 79.0, 16.0, 66.0, 58.0],)\n"
     ]
    },
    {
     "data": {
      "application/vnd.jupyter.widget-view+json": {
       "model_id": "0fa95647a2364aa786820b7de7c6206f",
       "version_major": 2,
       "version_minor": 0
      },
      "text/plain": [
       "0it [00:00, ?it/s]"
      ]
     },
     "metadata": {},
     "output_type": "display_data"
    },
    {
     "name": "stdout",
     "output_type": "stream",
     "text": [
      "the minimum is:  277.0 ([36.0, 70.0, 45.0, 91.0, 35.0],)\n"
     ]
    },
    {
     "data": {
      "application/vnd.jupyter.widget-view+json": {
       "model_id": "ad619582513f48b198a7b6391a0a2cf2",
       "version_major": 2,
       "version_minor": 0
      },
      "text/plain": [
       "0it [00:00, ?it/s]"
      ]
     },
     "metadata": {},
     "output_type": "display_data"
    },
    {
     "name": "stdout",
     "output_type": "stream",
     "text": [
      "the minimum is:  278.0 ([53.0, 99.0, 60.0, 13.0, 53.0],)\n"
     ]
    },
    {
     "data": {
      "application/vnd.jupyter.widget-view+json": {
       "model_id": "99444ccc2dae41b384e589949939834e",
       "version_major": 2,
       "version_minor": 0
      },
      "text/plain": [
       "0it [00:00, ?it/s]"
      ]
     },
     "metadata": {},
     "output_type": "display_data"
    },
    {
     "name": "stdout",
     "output_type": "stream",
     "text": [
      "the minimum is:  289.0 ([83.0, 3.0, 89.0, 58.0, 56.0],)\n"
     ]
    },
    {
     "data": {
      "application/vnd.jupyter.widget-view+json": {
       "model_id": "c8b60a46191342e8b3f4588cf35eee66",
       "version_major": 2,
       "version_minor": 0
      },
      "text/plain": [
       "0it [00:00, ?it/s]"
      ]
     },
     "metadata": {},
     "output_type": "display_data"
    },
    {
     "name": "stdout",
     "output_type": "stream",
     "text": [
      "the minimum is:  305.0 ([87.0, 56.0, 64.0, 85.0, 13.0],)\n"
     ]
    },
    {
     "data": {
      "application/vnd.jupyter.widget-view+json": {
       "model_id": "510badd8b5ec4db2888fdcf3a1eea1ae",
       "version_major": 2,
       "version_minor": 0
      },
      "text/plain": [
       "0it [00:00, ?it/s]"
      ]
     },
     "metadata": {},
     "output_type": "display_data"
    },
    {
     "name": "stdout",
     "output_type": "stream",
     "text": [
      "the minimum is:  338.0 ([71.0, 99.0, 15.0, 68.0, 85.0],)\n"
     ]
    },
    {
     "data": {
      "application/vnd.jupyter.widget-view+json": {
       "model_id": "70c0cd8f42fa4d119b4e583a42445a35",
       "version_major": 2,
       "version_minor": 0
      },
      "text/plain": [
       "0it [00:00, ?it/s]"
      ]
     },
     "metadata": {},
     "output_type": "display_data"
    },
    {
     "name": "stdout",
     "output_type": "stream",
     "text": [
      "the minimum is:  343.0 ([87.0, 86.0, 75.0, 77.0, 18.0],)\n"
     ]
    },
    {
     "data": {
      "application/vnd.jupyter.widget-view+json": {
       "model_id": "1c8f0d8213aa4da29e9425b820780a9a",
       "version_major": 2,
       "version_minor": 0
      },
      "text/plain": [
       "0it [00:00, ?it/s]"
      ]
     },
     "metadata": {},
     "output_type": "display_data"
    },
    {
     "name": "stdout",
     "output_type": "stream",
     "text": [
      "the minimum is:  353.0 ([77.0, 56.0, 89.0, 78.0, 53.0],)\n"
     ]
    }
   ],
   "source": [
    "while len(liste_des_jobs_finale)<20:\n",
    "    le_min = do_the_job_limited(list_des_jobs,1000,1)\n",
    "    liste_des_jobs_finale.append(le_min[0])\n",
    "    list_des_jobs.remove(le_min[0])"
   ]
  },
  {
   "cell_type": "code",
   "execution_count": 26,
   "metadata": {},
   "outputs": [],
   "source": [
    "liste_des_jobs_finale[0] = liste_des_jobs_finale[0][0]"
   ]
  },
  {
   "cell_type": "code",
   "execution_count": 27,
   "metadata": {},
   "outputs": [
    {
     "ename": "TypeError",
     "evalue": "'float' object is not iterable",
     "output_type": "error",
     "traceback": [
      "\u001b[1;31m---------------------------------------------------------------------------\u001b[0m",
      "\u001b[1;31mTypeError\u001b[0m                                 Traceback (most recent call last)",
      "Cell \u001b[1;32mIn[27], line 1\u001b[0m\n\u001b[1;32m----> 1\u001b[0m do_the_job(liste_des_jobs_finale)\n",
      "Cell \u001b[1;32mIn[5], line 6\u001b[0m, in \u001b[0;36mdo_the_job\u001b[1;34m(job)\u001b[0m\n\u001b[0;32m      4\u001b[0m cmp \u001b[39m=\u001b[39m \u001b[39m0\u001b[39m\n\u001b[0;32m      5\u001b[0m \u001b[39m# intilialisation of the thingy (this it just the first one when he starts / finishes)\u001b[39;00m\n\u001b[1;32m----> 6\u001b[0m \u001b[39mfor\u001b[39;00m i \u001b[39min\u001b[39;00m job[\u001b[39m0\u001b[39m]:\n\u001b[0;32m      7\u001b[0m     cmp \u001b[39m+\u001b[39m\u001b[39m=\u001b[39m i\n\u001b[0;32m      8\u001b[0m     start_work_time[\u001b[39m0\u001b[39m]\u001b[39m.\u001b[39mappend(cmp\u001b[39m-\u001b[39mi)\n",
      "\u001b[1;31mTypeError\u001b[0m: 'float' object is not iterable"
     ]
    }
   ],
   "source": [
    "do_the_job(liste_des_jobs_finale)"
   ]
  },
  {
   "attachments": {},
   "cell_type": "markdown",
   "metadata": {},
   "source": [
    "Tailalrd 2"
   ]
  },
  {
   "cell_type": "code",
   "execution_count": 45,
   "metadata": {},
   "outputs": [
    {
     "data": {
      "application/vnd.jupyter.widget-view+json": {
       "model_id": "6cc72f98b6fc48bcaf6baa40f75c69a7",
       "version_major": 2,
       "version_minor": 0
      },
      "text/plain": [
       "  0%|          | 0/6 [00:00<?, ?it/s]"
      ]
     },
     "metadata": {},
     "output_type": "display_data"
    },
    {
     "name": "stdout",
     "output_type": "stream",
     "text": [
      "1389.0\n"
     ]
    }
   ],
   "source": [
    "min_time = 100000\n",
    "job_2 = [[row[i] for row in divided_lists[1]] for i in range(len(divided_lists[0][0]))]\n",
    "for weight_1 in tqdm(wj1):\n",
    "    for weight_2 in wj2:\n",
    "        for weight_3 in wj3:\n",
    "            for weight_4 in wj4:\n",
    "                for weight_5 in wj5:\n",
    "                    Weight = [weight_1,weight_2,weight_3,weight_4,weight_5]\n",
    "                    weighted_job_2 = job_2[:]\n",
    "                    for i in range(len(weighted_job_2)):\n",
    "                        for j in range(len(weighted_job_2[i])):\n",
    "                            weighted_job_2[i][j] *= Weight[j]\n",
    "                    finale_weights = []\n",
    "                    for j in weighted_job_2:\n",
    "                        sum_weight = sum(j)\n",
    "                        finale_weights.append(sum_weight)\n",
    "                    sorted_with_indices = sorted(enumerate(finale_weights), key=lambda x: x[1], reverse=True)\n",
    "                    sorted_list = [x[1] for x in sorted_with_indices]\n",
    "                    sorted_indices = [x[0] for x in sorted_with_indices]\n",
    "                    job_2 = [[row[i] for row in divided_lists[1]] for i in range(len(divided_lists[0][0]))]\n",
    "                    combined = zip(job_2, sorted_indices)\n",
    "                    sorted_combined = sorted(combined, key=lambda x: x[1])\n",
    "\n",
    "                    sorted_list = [x[0] for x in sorted_combined]\n",
    "\n",
    "                    time_of_work = do_the_job(sorted_list)\n",
    "                    min_time = time_of_work if time_of_work<min_time else min_time\n",
    "print(min_time)\n"
   ]
  },
  {
   "cell_type": "code",
   "execution_count": 29,
   "metadata": {},
   "outputs": [
    {
     "data": {
      "text/plain": [
       "[[26.0, 59.0, 78.0, 88.0, 69.0],\n",
       " [38.0, 62.0, 90.0, 54.0, 30.0],\n",
       " [27.0, 44.0, 64.0, 47.0, 61.0],\n",
       " [88.0, 10.0, 49.0, 83.0, 35.0],\n",
       " [95.0, 23.0, 47.0, 84.0, 53.0],\n",
       " [55.0, 64.0, 20.0, 9.0, 98.0],\n",
       " [54.0, 47.0, 61.0, 30.0, 94.0],\n",
       " [63.0, 68.0, 93.0, 11.0, 33.0],\n",
       " [23.0, 54.0, 36.0, 92.0, 77.0],\n",
       " [45.0, 9.0, 47.0, 63.0, 31.0],\n",
       " [86.0, 30.0, 70.0, 62.0, 54.0],\n",
       " [43.0, 31.0, 54.0, 75.0, 71.0],\n",
       " [43.0, 92.0, 87.0, 48.0, 78.0],\n",
       " [40.0, 7.0, 13.0, 23.0, 9.0],\n",
       " [37.0, 14.0, 40.0, 85.0, 79.0],\n",
       " [54.0, 95.0, 34.0, 23.0, 51.0],\n",
       " [35.0, 76.0, 55.0, 4.0, 76.0],\n",
       " [59.0, 82.0, 13.0, 31.0, 56.0],\n",
       " [43.0, 91.0, 11.0, 13.0, 80.0],\n",
       " [50.0, 37.0, 5.0, 98.0, 72.0]]"
      ]
     },
     "execution_count": 29,
     "metadata": {},
     "output_type": "execute_result"
    }
   ],
   "source": [
    "job_2"
   ]
  },
  {
   "cell_type": "code",
   "execution_count": 46,
   "metadata": {},
   "outputs": [
    {
     "name": "stdout",
     "output_type": "stream",
     "text": [
      "1332.0\n"
     ]
    }
   ],
   "source": [
    "min_time = 100000\n",
    "job_2 = [[row[i] for row in divided_lists[6]] for i in range(len(divided_lists[0][0]))]\n",
    "for weight_1 in wj1:\n",
    "    for weight_2 in wj2:\n",
    "        for weight_3 in wj3:\n",
    "            for weight_4 in wj4:\n",
    "                for weight_5 in wj5:\n",
    "                    Weight = [weight_1,weight_2,weight_3,weight_4,weight_5]\n",
    "                    weighted_job_2 = job_2[:]\n",
    "                    for i in range(len(weighted_job_2)):\n",
    "                        for j in range(len(weighted_job_2[i])):\n",
    "                            weighted_job_2[i][j] *= Weight[j]\n",
    "                    finale_weights = []\n",
    "                    for j in weighted_job_2:\n",
    "                        sum_weight = sum(j)\n",
    "                        finale_weights.append(sum_weight)\n",
    "                    sorted_with_indices = sorted(enumerate(finale_weights), key=lambda x: x[1], reverse=True)\n",
    "                    sorted_list = [x[1] for x in sorted_with_indices]\n",
    "                    sorted_indices = [x[0] for x in sorted_with_indices]\n",
    "                    job_2 = [[row[i] for row in divided_lists[6]] for i in range(len(divided_lists[0][0]))]\n",
    "                    combined = zip(job_2, sorted_indices)\n",
    "                    sorted_combined = sorted(combined, key=lambda x: x[1])\n",
    "\n",
    "                    sorted_list = [x[0] for x in sorted_combined]\n",
    "\n",
    "                    time_of_work = do_the_job(sorted_list)\n",
    "                    min_time = time_of_work if time_of_work<min_time else min_time\n",
    "print(min_time)"
   ]
  },
  {
   "attachments": {},
   "cell_type": "markdown",
   "metadata": {},
   "source": [
    "I'll finish implimenting the first method I was working on"
   ]
  },
  {
   "cell_type": "code",
   "execution_count": 30,
   "metadata": {},
   "outputs": [],
   "source": [
    "best_7 = [[27.0, 5.0, 57.0, 49.0, 69.0], [12.0, 47.0, 63.0, 56.0, 47.0], [32.0, 21.0, 26.0, 54.0, 58.0], [29.0, 75.0, 41.0, 41.0, 49.0], [38.0, 60.0, 23.0, 59.0, 41.0], [15.0, 11.0, 49.0, 31.0, 20.0], [14.0, 73.0, 63.0, 39.0, 8.0]]"
   ]
  },
  {
   "cell_type": "code",
   "execution_count": 31,
   "metadata": {},
   "outputs": [],
   "source": [
    "job_1_thingy = job_1[:].copy()"
   ]
  },
  {
   "cell_type": "code",
   "execution_count": 32,
   "metadata": {},
   "outputs": [
    {
     "ename": "ValueError",
     "evalue": "list.remove(x): x not in list",
     "output_type": "error",
     "traceback": [
      "\u001b[1;31m---------------------------------------------------------------------------\u001b[0m",
      "\u001b[1;31mValueError\u001b[0m                                Traceback (most recent call last)",
      "Cell \u001b[1;32mIn[32], line 2\u001b[0m\n\u001b[0;32m      1\u001b[0m \u001b[39mfor\u001b[39;00m i \u001b[39min\u001b[39;00m best_7:\n\u001b[1;32m----> 2\u001b[0m     job_1_thingy\u001b[39m.\u001b[39;49mremove(i)\n",
      "\u001b[1;31mValueError\u001b[0m: list.remove(x): x not in list"
     ]
    }
   ],
   "source": [
    "for i in best_7:\n",
    "    job_1_thingy.remove(i)"
   ]
  },
  {
   "cell_type": "code",
   "execution_count": 33,
   "metadata": {},
   "outputs": [
    {
     "data": {
      "application/vnd.jupyter.widget-view+json": {
       "model_id": "2ae5e86f712346c7ac1a21bccc854632",
       "version_major": 2,
       "version_minor": 0
      },
      "text/plain": [
       "0it [00:00, ?it/s]"
      ]
     },
     "metadata": {},
     "output_type": "display_data"
    },
    {
     "ename": "UnboundLocalError",
     "evalue": "cannot access local variable 'min_job' where it is not associated with a value",
     "output_type": "error",
     "traceback": [
      "\u001b[1;31m---------------------------------------------------------------------------\u001b[0m",
      "\u001b[1;31mUnboundLocalError\u001b[0m                         Traceback (most recent call last)",
      "Cell \u001b[1;32mIn[33], line 1\u001b[0m\n\u001b[1;32m----> 1\u001b[0m do_the_job_limited(job_1_thingy,\u001b[39m10000\u001b[39;49m,\u001b[39m7\u001b[39;49m)\n",
      "Cell \u001b[1;32mIn[13], line 32\u001b[0m, in \u001b[0;36mdo_the_job_limited\u001b[1;34m(list, time_limit, number)\u001b[0m\n\u001b[0;32m     30\u001b[0m     \u001b[39mif\u001b[39;00m minimum \u001b[39m==\u001b[39m end_work_time[\u001b[39mlen\u001b[39m(end_work_time)\u001b[39m-\u001b[39m\u001b[39m1\u001b[39m][\u001b[39mlen\u001b[39m(end_work_time[\u001b[39m0\u001b[39m])\u001b[39m-\u001b[39m\u001b[39m1\u001b[39m]:\n\u001b[0;32m     31\u001b[0m         min_job \u001b[39m=\u001b[39m job\n\u001b[1;32m---> 32\u001b[0m \u001b[39mprint\u001b[39m(\u001b[39m\"\u001b[39m\u001b[39mthe minimum is: \u001b[39m\u001b[39m\"\u001b[39m,minimum,min_job)\n\u001b[0;32m     33\u001b[0m \u001b[39mreturn\u001b[39;00m(min_job)\n",
      "\u001b[1;31mUnboundLocalError\u001b[0m: cannot access local variable 'min_job' where it is not associated with a value"
     ]
    }
   ],
   "source": [
    "do_the_job_limited(job_1_thingy,10000,7)"
   ]
  },
  {
   "cell_type": "code",
   "execution_count": 51,
   "metadata": {},
   "outputs": [
    {
     "data": {
      "application/vnd.jupyter.widget-view+json": {
       "model_id": "6b3df6cc7c1546738285eb8d3a100a77",
       "version_major": 2,
       "version_minor": 0
      },
      "text/plain": [
       "  0%|          | 0/10 [00:00<?, ?it/s]"
      ]
     },
     "metadata": {},
     "output_type": "display_data"
    },
    {
     "name": "stdout",
     "output_type": "stream",
     "text": [
      "1349.0\n",
      "1349.0\n",
      "1240.0\n",
      "1240.0\n",
      "1240.0\n",
      "1240.0\n",
      "1240.0\n",
      "1240.0\n",
      "1240.0\n",
      "1218.0\n"
     ]
    }
   ],
   "source": [
    "min_time = 100000\n",
    "for job_number in tqdm(range(0,10)):\n",
    "    job_2 = [[row[i] for row in divided_lists[job_number]] for i in range(len(divided_lists[0][0]))]\n",
    "    for weight_1 in wj1:\n",
    "        for weight_2 in wj2:\n",
    "            for weight_3 in wj3:\n",
    "                for weight_4 in wj4:\n",
    "                    for weight_5 in wj5:\n",
    "                        Weight = [weight_1,weight_2,weight_3,weight_4,weight_5]\n",
    "                        weighted_job_2 = job_2[:]\n",
    "                        for i in range(len(weighted_job_2)):\n",
    "                            for j in range(len(weighted_job_2[i])):\n",
    "                                weighted_job_2[i][j] *= Weight[j]\n",
    "                        finale_weights = []\n",
    "                        for j in weighted_job_2:\n",
    "                            sum_weight = sum(j)\n",
    "                            finale_weights.append(sum_weight)\n",
    "                        sorted_with_indices = sorted(enumerate(finale_weights), key=lambda x: x[1], reverse=True)\n",
    "                        sorted_list = [x[1] for x in sorted_with_indices]\n",
    "                        sorted_indices = [x[0] for x in sorted_with_indices]\n",
    "                        job_2 = [[row[i] for row in divided_lists[job_number]] for i in range(len(divided_lists[0][0]))]\n",
    "                        combined = zip(job_2, sorted_indices)\n",
    "                        sorted_combined = sorted(combined, key=lambda x: x[1])\n",
    "                        sorted_list = [x[0] for x in sorted_combined]\n",
    "                        time_of_work = do_the_job(sorted_list)\n",
    "                        min_time = time_of_work if time_of_work<min_time else min_time\n",
    "    print(min_time)"
   ]
  },
  {
   "cell_type": "code",
   "execution_count": 53,
   "metadata": {},
   "outputs": [
    {
     "name": "stdout",
     "output_type": "stream",
     "text": [
      "1218.0\n"
     ]
    }
   ],
   "source": [
    "job_2 = [[row[i] for row in divided_lists[0]] for i in range(len(divided_lists[0][0]))]\n",
    "for weight_1 in wj1:\n",
    "    for weight_2 in wj2:\n",
    "        for weight_3 in wj3:\n",
    "            for weight_4 in wj4:\n",
    "                for weight_5 in wj5:\n",
    "                    Weight = [weight_1,weight_2,weight_3,weight_4,weight_5]\n",
    "                    weighted_job_2 = job_2[:]\n",
    "                    for i in range(len(weighted_job_2)):\n",
    "                        for j in range(len(weighted_job_2[i])):\n",
    "                            weighted_job_2[i][j] *= Weight[j]\n",
    "                    finale_weights = []\n",
    "                    for j in weighted_job_2:\n",
    "                        sum_weight = sum(j)\n",
    "                        finale_weights.append(sum_weight)\n",
    "                    sorted_with_indices = sorted(enumerate(finale_weights), key=lambda x: x[1], reverse=True)\n",
    "                    sorted_list = [x[1] for x in sorted_with_indices]\n",
    "                    sorted_indices = [x[0] for x in sorted_with_indices]\n",
    "                    job_2 = [[row[i] for row in divided_lists[0]] for i in range(len(divided_lists[0][0]))]\n",
    "                    combined = zip(job_2, sorted_indices)\n",
    "                    sorted_combined = sorted(combined, key=lambda x: x[1])\n",
    "                    sorted_list = [x[0] for x in sorted_combined]\n",
    "                    time_of_work = do_the_job(sorted_list)\n",
    "                    min_time = time_of_work if time_of_work<min_time else min_time\n",
    "print(min_time)"
   ]
  },
  {
   "cell_type": "code",
   "execution_count": 55,
   "metadata": {},
   "outputs": [
    {
     "name": "stdout",
     "output_type": "stream",
     "text": [
      "[[26.0, 59.0, 78.0, 88.0, 69.0], [38.0, 62.0, 90.0, 54.0, 30.0], [27.0, 44.0, 64.0, 47.0, 61.0], [88.0, 10.0, 49.0, 83.0, 35.0], [95.0, 23.0, 47.0, 84.0, 53.0], [55.0, 64.0, 20.0, 9.0, 98.0], [54.0, 47.0, 61.0, 30.0, 94.0], [63.0, 68.0, 93.0, 11.0, 33.0], [23.0, 54.0, 36.0, 92.0, 77.0], [45.0, 9.0, 47.0, 63.0, 31.0], [86.0, 30.0, 70.0, 62.0, 54.0], [43.0, 31.0, 54.0, 75.0, 71.0], [43.0, 92.0, 87.0, 48.0, 78.0], [40.0, 7.0, 13.0, 23.0, 9.0], [37.0, 14.0, 40.0, 85.0, 79.0], [54.0, 95.0, 34.0, 23.0, 51.0], [35.0, 76.0, 55.0, 4.0, 76.0], [59.0, 82.0, 13.0, 31.0, 56.0], [43.0, 91.0, 11.0, 13.0, 80.0], [50.0, 37.0, 5.0, 98.0, 72.0]]\n",
      "1218.0\n"
     ]
    }
   ],
   "source": [
    "job_2 = [[row[i] for row in divided_lists[1]] for i in range(len(divided_lists[0][0]))]\n",
    "print(job_2)\n",
    "for weight_1 in wj1:\n",
    "    for weight_2 in wj2:\n",
    "        for weight_3 in wj3:\n",
    "            for weight_4 in wj4:\n",
    "                for weight_5 in wj5:\n",
    "                    Weight = [weight_1,weight_2,weight_3,weight_4,weight_5]\n",
    "                    weighted_job_2 = job_2[:]\n",
    "                    for i in range(len(weighted_job_2)):\n",
    "                        for j in range(len(weighted_job_2[i])):\n",
    "                            weighted_job_2[i][j] *= Weight[j]\n",
    "                    finale_weights = []\n",
    "                    for j in weighted_job_2:\n",
    "                        sum_weight = sum(j)\n",
    "                        finale_weights.append(sum_weight)\n",
    "                    sorted_with_indices = sorted(enumerate(finale_weights), key=lambda x: x[1], reverse=True)\n",
    "                    sorted_list = [x[1] for x in sorted_with_indices]\n",
    "                    sorted_indices = [x[0] for x in sorted_with_indices]\n",
    "                    job_2 = [[row[i] for row in divided_lists[1]] for i in range(len(divided_lists[0][0]))]\n",
    "                    combined = zip(job_2, sorted_indices)\n",
    "                    sorted_combined = sorted(combined, key=lambda x: x[1])\n",
    "                    sorted_list = [x[0] for x in sorted_combined]\n",
    "                    time_of_work = do_the_job(sorted_list)\n",
    "                    min_time = time_of_work if time_of_work<min_time else min_time\n",
    "print(min_time)"
   ]
  },
  {
   "cell_type": "code",
   "execution_count": null,
   "metadata": {},
   "outputs": [],
   "source": [
    "job_2 = [[row[i] for row in divided_lists[1]] for i in range(len(divided_lists[0][0]))]\n",
    "print(job_2)\n",
    "for weight_1 in wj1:\n",
    "    for weight_2 in wj2:\n",
    "        for weight_3 in wj3:\n",
    "            for weight_4 in wj4:\n",
    "                for weight_5 in wj5:\n",
    "                    Weight = [weight_1,weight_2,weight_3,weight_4,weight_5]\n",
    "                    weighted_job_2 = job_2[:]\n",
    "                    for i in range(len(weighted_job_2)):\n",
    "                        for j in range(len(weighted_job_2[i])):\n",
    "                            weighted_job_2[i][j] *= Weight[j]\n",
    "                    finale_weights = []\n",
    "                    for j in weighted_job_2:\n",
    "                        sum_weight = sum(j)\n",
    "                        finale_weights.append(sum_weight)\n",
    "                    sorted_with_indices = sorted(enumerate(finale_weights), key=lambda x: x[1], reverse=True)\n",
    "                    sorted_list = [x[1] for x in sorted_with_indices]\n",
    "                    sorted_indices = [x[0] for x in sorted_with_indices]\n",
    "                    job_2 = [[row[i] for row in divided_lists[1]] for i in range(len(divided_lists[0][0]))]\n",
    "                    combined = zip(job_2, sorted_indices)\n",
    "                    sorted_combined = sorted(combined, key=lambda x: x[1])\n",
    "                    sorted_list = [x[0] for x in sorted_combined]\n",
    "                    time_of_work = do_the_job(sorted_list)\n",
    "                    min_time = time_of_work if time_of_work<min_time else min_time\n",
    "print(min_time)"
   ]
  },
  {
   "cell_type": "code",
   "execution_count": 56,
   "metadata": {},
   "outputs": [
    {
     "name": "stdout",
     "output_type": "stream",
     "text": [
      "[[54.0, 79.0, 16.0, 66.0, 58.0], [83.0, 3.0, 89.0, 58.0, 56.0], [15.0, 11.0, 49.0, 31.0, 20.0], [71.0, 99.0, 15.0, 68.0, 85.0], [77.0, 56.0, 89.0, 78.0, 53.0], [36.0, 70.0, 45.0, 91.0, 35.0], [53.0, 99.0, 60.0, 13.0, 53.0], [38.0, 60.0, 23.0, 59.0, 41.0], [27.0, 5.0, 57.0, 49.0, 69.0], [87.0, 56.0, 64.0, 85.0, 13.0], [76.0, 3.0, 7.0, 85.0, 86.0], [91.0, 61.0, 1.0, 9.0, 72.0], [14.0, 73.0, 63.0, 39.0, 8.0], [29.0, 75.0, 41.0, 41.0, 49.0], [12.0, 47.0, 63.0, 56.0, 47.0], [77.0, 14.0, 47.0, 40.0, 87.0], [32.0, 21.0, 26.0, 54.0, 58.0], [87.0, 86.0, 75.0, 77.0, 18.0], [68.0, 5.0, 77.0, 51.0, 68.0], [94.0, 77.0, 40.0, 31.0, 28.0]]\n",
      "1218.0\n"
     ]
    }
   ],
   "source": [
    "job_2 = [[row[i] for row in divided_lists[0]] for i in range(len(divided_lists[0][0]))]\n",
    "print(job_2)\n",
    "for weight_1 in wj1:\n",
    "    for weight_2 in wj2:\n",
    "        for weight_3 in wj3:\n",
    "            for weight_4 in wj4:\n",
    "                for weight_5 in wj5:\n",
    "                    Weight = [weight_1,weight_2,weight_3,weight_4,weight_5]\n",
    "                    weighted_job_2 = job_2[:]\n",
    "                    for i in range(len(weighted_job_2)):\n",
    "                        for j in range(len(weighted_job_2[i])):\n",
    "                            weighted_job_2[i][j] *= Weight[j]\n",
    "                    finale_weights = []\n",
    "                    for j in weighted_job_2:\n",
    "                        sum_weight = sum(j)\n",
    "                        finale_weights.append(sum_weight)\n",
    "                    sorted_with_indices = sorted(enumerate(finale_weights), key=lambda x: x[1], reverse=True)\n",
    "                    sorted_list = [x[1] for x in sorted_with_indices]\n",
    "                    sorted_indices = [x[0] for x in sorted_with_indices]\n",
    "                    job_2 = [[row[i] for row in divided_lists[0]] for i in range(len(divided_lists[0][0]))]\n",
    "                    combined = zip(job_2, sorted_indices)\n",
    "                    sorted_combined = sorted(combined, key=lambda x: x[1])\n",
    "                    sorted_list = [x[0] for x in sorted_combined]\n",
    "                    time_of_work = do_the_job(sorted_list)\n",
    "                    min_time = time_of_work if time_of_work<min_time else min_time\n",
    "print(min_time)"
   ]
  },
  {
   "cell_type": "code",
   "execution_count": 59,
   "metadata": {},
   "outputs": [
    {
     "name": "stdout",
     "output_type": "stream",
     "text": [
      "[[26.0, 59.0, 78.0, 88.0, 69.0], [38.0, 62.0, 90.0, 54.0, 30.0], [27.0, 44.0, 64.0, 47.0, 61.0], [88.0, 10.0, 49.0, 83.0, 35.0], [95.0, 23.0, 47.0, 84.0, 53.0], [55.0, 64.0, 20.0, 9.0, 98.0], [54.0, 47.0, 61.0, 30.0, 94.0], [63.0, 68.0, 93.0, 11.0, 33.0], [23.0, 54.0, 36.0, 92.0, 77.0], [45.0, 9.0, 47.0, 63.0, 31.0], [86.0, 30.0, 70.0, 62.0, 54.0], [43.0, 31.0, 54.0, 75.0, 71.0], [43.0, 92.0, 87.0, 48.0, 78.0], [40.0, 7.0, 13.0, 23.0, 9.0], [37.0, 14.0, 40.0, 85.0, 79.0], [54.0, 95.0, 34.0, 23.0, 51.0], [35.0, 76.0, 55.0, 4.0, 76.0], [59.0, 82.0, 13.0, 31.0, 56.0], [43.0, 91.0, 11.0, 13.0, 80.0], [50.0, 37.0, 5.0, 98.0, 72.0]]\n"
     ]
    },
    {
     "data": {
      "application/vnd.jupyter.widget-view+json": {
       "model_id": "adf9f7d4fec346f097a7a71a274f7d0d",
       "version_major": 2,
       "version_minor": 0
      },
      "text/plain": [
       "  0%|          | 0/6 [00:00<?, ?it/s]"
      ]
     },
     "metadata": {},
     "output_type": "display_data"
    },
    {
     "name": "stdout",
     "output_type": "stream",
     "text": [
      "1349.0\n"
     ]
    }
   ],
   "source": [
    "min_time = 100000\n",
    "job_1 = [[row[i] for row in divided_lists[1]] for i in range(len(divided_lists[0][0]))]\n",
    "print(job_1)\n",
    "for weight_1 in tqdm(wj1):\n",
    "    for weight_2 in wj2:\n",
    "        for weight_3 in wj3:\n",
    "            for weight_4 in wj4:\n",
    "                for weight_5 in wj5:\n",
    "                    Weight = [weight_1,weight_2,weight_3,weight_4,weight_5]\n",
    "                    weighted_job_1 = job_1[:]\n",
    "                    for i in range(len(weighted_job_1)):\n",
    "                        for j in range(len(weighted_job_1[i])):\n",
    "                            weighted_job_1[i][j] *= Weight[j]\n",
    "                    finale_weights = []\n",
    "                    for j in weighted_job_1:\n",
    "                        sum_weight = sum(j)\n",
    "                        finale_weights.append(sum_weight)\n",
    "                    sorted_with_indices = sorted(enumerate(finale_weights), key=lambda x: x[1], reverse=True)\n",
    "                    sorted_list = [x[1] for x in sorted_with_indices]\n",
    "                    sorted_indices = [x[0] for x in sorted_with_indices]\n",
    "                    job_1 = [[row[i] for row in divided_lists[0]] for i in range(len(divided_lists[0][0]))]\n",
    "                    combined = zip(job_1, sorted_indices)\n",
    "                    sorted_combined = sorted(combined, key=lambda x: x[1])\n",
    "\n",
    "                    sorted_list = [x[0] for x in sorted_combined]\n",
    "\n",
    "                    time_of_work = do_the_job(sorted_list)\n",
    "                    min_time = time_of_work if time_of_work<min_time else min_time\n",
    "print(min_time)"
   ]
  },
  {
   "cell_type": "code",
   "execution_count": 60,
   "metadata": {},
   "outputs": [
    {
     "name": "stdout",
     "output_type": "stream",
     "text": [
      "[[77.0, 39.0, 14.0, 11.0, 83.0], [94.0, 31.0, 21.0, 2.0, 13.0], [9.0, 46.0, 15.0, 36.0, 84.0], [57.0, 18.0, 10.0, 30.0, 46.0], [29.0, 93.0, 85.0, 89.0, 20.0], [79.0, 58.0, 46.0, 10.0, 33.0], [55.0, 85.0, 42.0, 88.0, 74.0], [73.0, 58.0, 18.0, 22.0, 42.0], [65.0, 97.0, 36.0, 31.0, 33.0], [86.0, 10.0, 2.0, 9.0, 71.0], [25.0, 79.0, 44.0, 43.0, 32.0], [39.0, 93.0, 89.0, 91.0, 48.0], [76.0, 2.0, 6.0, 26.0, 42.0], [24.0, 87.0, 3.0, 3.0, 99.0], [38.0, 17.0, 1.0, 75.0, 7.0], [5.0, 18.0, 43.0, 99.0, 54.0], [91.0, 10.0, 81.0, 63.0, 8.0], [29.0, 50.0, 57.0, 83.0, 73.0], [22.0, 8.0, 76.0, 70.0, 30.0], [27.0, 26.0, 59.0, 84.0, 75.0]]\n"
     ]
    },
    {
     "data": {
      "application/vnd.jupyter.widget-view+json": {
       "model_id": "f6fc1dc042a84dcab19acd541bb0dc27",
       "version_major": 2,
       "version_minor": 0
      },
      "text/plain": [
       "  0%|          | 0/6 [00:00<?, ?it/s]"
      ]
     },
     "metadata": {},
     "output_type": "display_data"
    },
    {
     "name": "stdout",
     "output_type": "stream",
     "text": [
      "1240.0\n"
     ]
    }
   ],
   "source": [
    "min_time = 100000\n",
    "job_1 = [[row[i] for row in divided_lists[2]] for i in range(len(divided_lists[0][0]))]\n",
    "print(job_1)\n",
    "for weight_1 in tqdm(wj1):\n",
    "    for weight_2 in wj2:\n",
    "        for weight_3 in wj3:\n",
    "            for weight_4 in wj4:\n",
    "                for weight_5 in wj5:\n",
    "                    Weight = [weight_1,weight_2,weight_3,weight_4,weight_5]\n",
    "                    weighted_job_1 = job_1[:]\n",
    "                    for i in range(len(weighted_job_1)):\n",
    "                        for j in range(len(weighted_job_1[i])):\n",
    "                            weighted_job_1[i][j] *= Weight[j]\n",
    "                    finale_weights = []\n",
    "                    for j in weighted_job_1:\n",
    "                        sum_weight = sum(j)\n",
    "                        finale_weights.append(sum_weight)\n",
    "                    sorted_with_indices = sorted(enumerate(finale_weights), key=lambda x: x[1], reverse=True)\n",
    "                    sorted_list = [x[1] for x in sorted_with_indices]\n",
    "                    sorted_indices = [x[0] for x in sorted_with_indices]\n",
    "                    job_1 = [[row[i] for row in divided_lists[2]] for i in range(len(divided_lists[0][0]))]\n",
    "                    combined = zip(job_1, sorted_indices)\n",
    "                    sorted_combined = sorted(combined, key=lambda x: x[1])\n",
    "\n",
    "                    sorted_list = [x[0] for x in sorted_combined]\n",
    "\n",
    "                    time_of_work = do_the_job(sorted_list)\n",
    "                    min_time = time_of_work if time_of_work<min_time else min_time\n",
    "print(min_time)"
   ]
  },
  {
   "cell_type": "code",
   "execution_count": 61,
   "metadata": {},
   "outputs": [
    {
     "name": "stdout",
     "output_type": "stream",
     "text": [
      "[[53.0, 93.0, 90.0, 65.0, 64.0], [19.0, 79.0, 92.0, 97.0, 38.0], [99.0, 88.0, 35.0, 27.0, 44.0], [62.0, 77.0, 13.0, 25.0, 46.0], [88.0, 94.0, 75.0, 61.0, 66.0], [93.0, 39.0, 55.0, 24.0, 31.0], [34.0, 74.0, 80.0, 97.0, 48.0], [72.0, 46.0, 67.0, 61.0, 27.0], [42.0, 17.0, 3.0, 75.0, 82.0], [65.0, 30.0, 93.0, 92.0, 51.0], [39.0, 62.0, 54.0, 73.0, 90.0], [79.0, 77.0, 67.0, 21.0, 63.0], [9.0, 43.0, 25.0, 29.0, 85.0], [26.0, 98.0, 77.0, 3.0, 36.0], [72.0, 48.0, 38.0, 96.0, 69.0], [29.0, 14.0, 98.0, 51.0, 67.0], [36.0, 45.0, 96.0, 26.0, 81.0], [48.0, 25.0, 20.0, 44.0, 18.0], [57.0, 98.0, 15.0, 56.0, 81.0], [95.0, 30.0, 36.0, 31.0, 72.0]]\n"
     ]
    },
    {
     "data": {
      "application/vnd.jupyter.widget-view+json": {
       "model_id": "05e978fa3fee4a4d846bab128616c9b4",
       "version_major": 2,
       "version_minor": 0
      },
      "text/plain": [
       "  0%|          | 0/6 [00:00<?, ?it/s]"
      ]
     },
     "metadata": {},
     "output_type": "display_data"
    },
    {
     "name": "stdout",
     "output_type": "stream",
     "text": [
      "1446.0\n"
     ]
    }
   ],
   "source": [
    "min_time = 100000\n",
    "job_1 = [[row[i] for row in divided_lists[3]] for i in range(len(divided_lists[0][0]))]\n",
    "print(job_1)\n",
    "for weight_1 in tqdm(wj1):\n",
    "    for weight_2 in wj2:\n",
    "        for weight_3 in wj3:\n",
    "            for weight_4 in wj4:\n",
    "                for weight_5 in wj5:\n",
    "                    Weight = [weight_1,weight_2,weight_3,weight_4,weight_5]\n",
    "                    weighted_job_1 = job_1[:]\n",
    "                    for i in range(len(weighted_job_1)):\n",
    "                        for j in range(len(weighted_job_1[i])):\n",
    "                            weighted_job_1[i][j] *= Weight[j]\n",
    "                    finale_weights = []\n",
    "                    for j in weighted_job_1:\n",
    "                        sum_weight = sum(j)\n",
    "                        finale_weights.append(sum_weight)\n",
    "                    sorted_with_indices = sorted(enumerate(finale_weights), key=lambda x: x[1], reverse=True)\n",
    "                    sorted_list = [x[1] for x in sorted_with_indices]\n",
    "                    sorted_indices = [x[0] for x in sorted_with_indices]\n",
    "                    job_1 = [[row[i] for row in divided_lists[3]] for i in range(len(divided_lists[0][0]))]\n",
    "                    combined = zip(job_1, sorted_indices)\n",
    "                    sorted_combined = sorted(combined, key=lambda x: x[1])\n",
    "\n",
    "                    sorted_list = [x[0] for x in sorted_combined]\n",
    "\n",
    "                    time_of_work = do_the_job(sorted_list)\n",
    "                    min_time = time_of_work if time_of_work<min_time else min_time\n",
    "print(min_time)"
   ]
  },
  {
   "cell_type": "code",
   "execution_count": 62,
   "metadata": {},
   "outputs": [
    {
     "name": "stdout",
     "output_type": "stream",
     "text": [
      "[[61.0, 27.0, 42.0, 13.0, 55.0], [86.0, 92.0, 93.0, 47.0, 48.0], [16.0, 8.0, 32.0, 6.0, 56.0], [42.0, 65.0, 30.0, 70.0, 84.0], [14.0, 34.0, 16.0, 19.0, 22.0], [92.0, 6.0, 95.0, 97.0, 51.0], [67.0, 42.0, 58.0, 41.0, 43.0], [77.0, 39.0, 12.0, 1.0, 50.0], [46.0, 2.0, 95.0, 57.0, 62.0], [41.0, 7.0, 21.0, 60.0, 61.0], [78.0, 85.0, 74.0, 62.0, 10.0], [3.0, 32.0, 38.0, 14.0, 87.0], [72.0, 14.0, 4.0, 90.0, 99.0], [95.0, 74.0, 31.0, 76.0, 40.0], [53.0, 59.0, 62.0, 12.0, 91.0], [59.0, 95.0, 39.0, 89.0, 64.0], [34.0, 48.0, 97.0, 37.0, 62.0], [66.0, 37.0, 57.0, 35.0, 53.0], [42.0, 59.0, 9.0, 91.0, 33.0], [63.0, 4.0, 54.0, 69.0, 16.0]]\n"
     ]
    },
    {
     "data": {
      "application/vnd.jupyter.widget-view+json": {
       "model_id": "cc4acd812c884ad7b0629ae633062883",
       "version_major": 2,
       "version_minor": 0
      },
      "text/plain": [
       "  0%|          | 0/6 [00:00<?, ?it/s]"
      ]
     },
     "metadata": {},
     "output_type": "display_data"
    },
    {
     "name": "stdout",
     "output_type": "stream",
     "text": [
      "1372.0\n"
     ]
    }
   ],
   "source": [
    "min_time = 100000\n",
    "job_1 = [[row[i] for row in divided_lists[4]] for i in range(len(divided_lists[0][0]))]\n",
    "print(job_1)\n",
    "for weight_1 in tqdm(wj1):\n",
    "    for weight_2 in wj2:\n",
    "        for weight_3 in wj3:\n",
    "            for weight_4 in wj4:\n",
    "                for weight_5 in wj5:\n",
    "                    Weight = [weight_1,weight_2,weight_3,weight_4,weight_5]\n",
    "                    weighted_job_1 = job_1[:]\n",
    "                    for i in range(len(weighted_job_1)):\n",
    "                        for j in range(len(weighted_job_1[i])):\n",
    "                            weighted_job_1[i][j] *= Weight[j]\n",
    "                    finale_weights = []\n",
    "                    for j in weighted_job_1:\n",
    "                        sum_weight = sum(j)\n",
    "                        finale_weights.append(sum_weight)\n",
    "                    sorted_with_indices = sorted(enumerate(finale_weights), key=lambda x: x[1], reverse=True)\n",
    "                    sorted_list = [x[1] for x in sorted_with_indices]\n",
    "                    sorted_indices = [x[0] for x in sorted_with_indices]\n",
    "                    job_1 = [[row[i] for row in divided_lists[4]] for i in range(len(divided_lists[0][0]))]\n",
    "                    combined = zip(job_1, sorted_indices)\n",
    "                    sorted_combined = sorted(combined, key=lambda x: x[1])\n",
    "\n",
    "                    sorted_list = [x[0] for x in sorted_combined]\n",
    "\n",
    "                    time_of_work = do_the_job(sorted_list)\n",
    "                    min_time = time_of_work if time_of_work<min_time else min_time\n",
    "print(min_time)"
   ]
  },
  {
   "cell_type": "code",
   "execution_count": 63,
   "metadata": {},
   "outputs": [
    {
     "name": "stdout",
     "output_type": "stream",
     "text": [
      "[[71.0, 13.0, 61.0, 21.0, 91.0], [27.0, 11.0, 25.0, 8.0, 13.0], [55.0, 73.0, 52.0, 5.0, 7.0], [90.0, 43.0, 72.0, 8.0, 95.0], [11.0, 27.0, 89.0, 58.0, 20.0], [18.0, 33.0, 75.0, 59.0, 69.0], [42.0, 57.0, 60.0, 85.0, 45.0], [64.0, 42.0, 28.0, 35.0, 44.0], [73.0, 71.0, 94.0, 84.0, 29.0], [95.0, 3.0, 95.0, 97.0, 32.0], [22.0, 11.0, 18.0, 93.0, 94.0], [53.0, 49.0, 73.0, 60.0, 84.0], [32.0, 8.0, 40.0, 99.0, 60.0], [5.0, 3.0, 61.0, 29.0, 49.0], [94.0, 47.0, 68.0, 94.0, 49.0], [12.0, 58.0, 75.0, 41.0, 65.0], [41.0, 23.0, 37.0, 51.0, 85.0], [85.0, 79.0, 13.0, 87.0, 52.0], [75.0, 99.0, 65.0, 97.0, 8.0], [38.0, 23.0, 7.0, 11.0, 58.0]]\n"
     ]
    },
    {
     "data": {
      "application/vnd.jupyter.widget-view+json": {
       "model_id": "18f46c0de3fa4aac8b2c20dee8ab2aa3",
       "version_major": 2,
       "version_minor": 0
      },
      "text/plain": [
       "  0%|          | 0/6 [00:00<?, ?it/s]"
      ]
     },
     "metadata": {},
     "output_type": "display_data"
    },
    {
     "name": "stdout",
     "output_type": "stream",
     "text": [
      "1298.0\n"
     ]
    }
   ],
   "source": [
    "min_time = 100000\n",
    "job_1 = [[row[i] for row in divided_lists[5]] for i in range(len(divided_lists[0][0]))]\n",
    "print(job_1)\n",
    "for weight_1 in tqdm(wj1):\n",
    "    for weight_2 in wj2:\n",
    "        for weight_3 in wj3:\n",
    "            for weight_4 in wj4:\n",
    "                for weight_5 in wj5:\n",
    "                    Weight = [weight_1,weight_2,weight_3,weight_4,weight_5]\n",
    "                    weighted_job_1 = job_1[:]\n",
    "                    for i in range(len(weighted_job_1)):\n",
    "                        for j in range(len(weighted_job_1[i])):\n",
    "                            weighted_job_1[i][j] *= Weight[j]\n",
    "                    finale_weights = []\n",
    "                    for j in weighted_job_1:\n",
    "                        sum_weight = sum(j)\n",
    "                        finale_weights.append(sum_weight)\n",
    "                    sorted_with_indices = sorted(enumerate(finale_weights), key=lambda x: x[1], reverse=True)\n",
    "                    sorted_list = [x[1] for x in sorted_with_indices]\n",
    "                    sorted_indices = [x[0] for x in sorted_with_indices]\n",
    "                    job_1 = [[row[i] for row in divided_lists[5]] for i in range(len(divided_lists[0][0]))]\n",
    "                    combined = zip(job_1, sorted_indices)\n",
    "                    sorted_combined = sorted(combined, key=lambda x: x[1])\n",
    "\n",
    "                    sorted_list = [x[0] for x in sorted_combined]\n",
    "\n",
    "                    time_of_work = do_the_job(sorted_list)\n",
    "                    min_time = time_of_work if time_of_work<min_time else min_time\n",
    "print(min_time)"
   ]
  },
  {
   "cell_type": "code",
   "execution_count": 64,
   "metadata": {},
   "outputs": [
    {
     "name": "stdout",
     "output_type": "stream",
     "text": [
      "[[15.0, 28.0, 77.0, 1.0, 45.0], [64.0, 4.0, 36.0, 59.0, 73.0], [64.0, 43.0, 57.0, 95.0, 59.0], [48.0, 93.0, 15.0, 49.0, 63.0], [9.0, 1.0, 81.0, 90.0, 54.0], [91.0, 81.0, 82.0, 78.0, 98.0], [27.0, 77.0, 98.0, 3.0, 39.0], [34.0, 69.0, 97.0, 69.0, 75.0], [42.0, 52.0, 12.0, 99.0, 33.0], [3.0, 28.0, 35.0, 41.0, 8.0], [11.0, 28.0, 84.0, 73.0, 86.0], [54.0, 77.0, 70.0, 28.0, 41.0], [27.0, 42.0, 27.0, 99.0, 41.0], [30.0, 53.0, 37.0, 13.0, 22.0], [9.0, 46.0, 59.0, 59.0, 43.0], [15.0, 49.0, 42.0, 47.0, 34.0], [88.0, 15.0, 57.0, 8.0, 80.0], [55.0, 43.0, 16.0, 92.0, 16.0], [50.0, 65.0, 11.0, 87.0, 37.0], [57.0, 41.0, 34.0, 62.0, 94.0]]\n"
     ]
    },
    {
     "data": {
      "application/vnd.jupyter.widget-view+json": {
       "model_id": "606efbdfdc3842dfa683260367cbda75",
       "version_major": 2,
       "version_minor": 0
      },
      "text/plain": [
       "  0%|          | 0/6 [00:00<?, ?it/s]"
      ]
     },
     "metadata": {},
     "output_type": "display_data"
    },
    {
     "name": "stdout",
     "output_type": "stream",
     "text": [
      "1332.0\n"
     ]
    }
   ],
   "source": [
    "min_time = 100000\n",
    "job_1 = [[row[i] for row in divided_lists[6]] for i in range(len(divided_lists[0][0]))]\n",
    "print(job_1)\n",
    "for weight_1 in tqdm(wj1):\n",
    "    for weight_2 in wj2:\n",
    "        for weight_3 in wj3:\n",
    "            for weight_4 in wj4:\n",
    "                for weight_5 in wj5:\n",
    "                    Weight = [weight_1,weight_2,weight_3,weight_4,weight_5]\n",
    "                    weighted_job_1 = job_1[:]\n",
    "                    for i in range(len(weighted_job_1)):\n",
    "                        for j in range(len(weighted_job_1[i])):\n",
    "                            weighted_job_1[i][j] *= Weight[j]\n",
    "                    finale_weights = []\n",
    "                    for j in weighted_job_1:\n",
    "                        sum_weight = sum(j)\n",
    "                        finale_weights.append(sum_weight)\n",
    "                    sorted_with_indices = sorted(enumerate(finale_weights), key=lambda x: x[1], reverse=True)\n",
    "                    sorted_list = [x[1] for x in sorted_with_indices]\n",
    "                    sorted_indices = [x[0] for x in sorted_with_indices]\n",
    "                    job_1 = [[row[i] for row in divided_lists[6]] for i in range(len(divided_lists[0][0]))]\n",
    "                    combined = zip(job_1, sorted_indices)\n",
    "                    sorted_combined = sorted(combined, key=lambda x: x[1])\n",
    "\n",
    "                    sorted_list = [x[0] for x in sorted_combined]\n",
    "\n",
    "                    time_of_work = do_the_job(sorted_list)\n",
    "                    min_time = time_of_work if time_of_work<min_time else min_time\n",
    "print(min_time)"
   ]
  },
  {
   "cell_type": "code",
   "execution_count": 65,
   "metadata": {},
   "outputs": [
    {
     "name": "stdout",
     "output_type": "stream",
     "text": [
      "[[34.0, 5.0, 86.0, 28.0, 8.0], [20.0, 48.0, 35.0, 39.0, 91.0], [57.0, 80.0, 5.0, 55.0, 45.0], [47.0, 43.0, 93.0, 21.0, 55.0], [62.0, 34.0, 74.0, 25.0, 75.0], [40.0, 2.0, 12.0, 88.0, 18.0], [74.0, 87.0, 40.0, 59.0, 59.0], [94.0, 68.0, 95.0, 40.0, 86.0], [9.0, 28.0, 80.0, 90.0, 45.0], [62.0, 84.0, 6.0, 18.0, 89.0], [86.0, 30.0, 92.0, 33.0, 11.0], [13.0, 35.0, 14.0, 10.0, 54.0], [78.0, 42.0, 83.0, 59.0, 38.0], [46.0, 39.0, 49.0, 92.0, 41.0], [83.0, 85.0, 36.0, 15.0, 64.0], [52.0, 34.0, 38.0, 77.0, 98.0], [13.0, 36.0, 43.0, 31.0, 83.0], [70.0, 9.0, 89.0, 85.0, 36.0], [40.0, 96.0, 94.0, 85.0, 61.0], [60.0, 84.0, 33.0, 99.0, 19.0]]\n"
     ]
    },
    {
     "data": {
      "application/vnd.jupyter.widget-view+json": {
       "model_id": "05f5f7e6f78442119684e0f839caee85",
       "version_major": 2,
       "version_minor": 0
      },
      "text/plain": [
       "  0%|          | 0/6 [00:00<?, ?it/s]"
      ]
     },
     "metadata": {},
     "output_type": "display_data"
    },
    {
     "name": "stdout",
     "output_type": "stream",
     "text": [
      "1333.0\n"
     ]
    }
   ],
   "source": [
    "min_time = 100000\n",
    "job_1 = [[row[i] for row in divided_lists[7]] for i in range(len(divided_lists[0][0]))]\n",
    "print(job_1)\n",
    "for weight_1 in tqdm(wj1):\n",
    "    for weight_2 in wj2:\n",
    "        for weight_3 in wj3:\n",
    "            for weight_4 in wj4:\n",
    "                for weight_5 in wj5:\n",
    "                    Weight = [weight_1,weight_2,weight_3,weight_4,weight_5]\n",
    "                    weighted_job_1 = job_1[:]\n",
    "                    for i in range(len(weighted_job_1)):\n",
    "                        for j in range(len(weighted_job_1[i])):\n",
    "                            weighted_job_1[i][j] *= Weight[j]\n",
    "                    finale_weights = []\n",
    "                    for j in weighted_job_1:\n",
    "                        sum_weight = sum(j)\n",
    "                        finale_weights.append(sum_weight)\n",
    "                    sorted_with_indices = sorted(enumerate(finale_weights), key=lambda x: x[1], reverse=True)\n",
    "                    sorted_list = [x[1] for x in sorted_with_indices]\n",
    "                    sorted_indices = [x[0] for x in sorted_with_indices]\n",
    "                    job_1 = [[row[i] for row in divided_lists[7]] for i in range(len(divided_lists[0][0]))]\n",
    "                    combined = zip(job_1, sorted_indices)\n",
    "                    sorted_combined = sorted(combined, key=lambda x: x[1])\n",
    "\n",
    "                    sorted_list = [x[0] for x in sorted_combined]\n",
    "\n",
    "                    time_of_work = do_the_job(sorted_list)\n",
    "                    min_time = time_of_work if time_of_work<min_time else min_time\n",
    "print(min_time)"
   ]
  },
  {
   "cell_type": "code",
   "execution_count": 67,
   "metadata": {},
   "outputs": [
    {
     "name": "stdout",
     "output_type": "stream",
     "text": [
      "[[37.0, 59.0, 65.0, 70.0, 94.0], [36.0, 16.0, 94.0, 3.0, 98.0], [1.0, 90.0, 96.0, 43.0, 63.0], [4.0, 3.0, 47.0, 14.0, 83.0], [64.0, 76.0, 35.0, 26.0, 19.0], [74.0, 74.0, 34.0, 83.0, 79.0], [32.0, 22.0, 84.0, 26.0, 54.0], [67.0, 30.0, 3.0, 65.0, 78.0], [73.0, 89.0, 60.0, 47.0, 29.0], [7.0, 61.0, 34.0, 94.0, 8.0], [78.0, 39.0, 70.0, 75.0, 38.0], [64.0, 15.0, 57.0, 30.0, 97.0], [98.0, 69.0, 8.0, 1.0, 61.0], [60.0, 57.0, 74.0, 71.0, 10.0], [89.0, 9.0, 13.0, 46.0, 37.0], [49.0, 13.0, 37.0, 87.0, 16.0], [2.0, 71.0, 87.0, 78.0, 78.0], [79.0, 2.0, 71.0, 76.0, 96.0], [79.0, 34.0, 89.0, 75.0, 9.0], [53.0, 49.0, 57.0, 55.0, 91.0]]\n"
     ]
    },
    {
     "data": {
      "application/vnd.jupyter.widget-view+json": {
       "model_id": "d183c74c002b430f8cdad87e10c6a439",
       "version_major": 2,
       "version_minor": 0
      },
      "text/plain": [
       "  0%|          | 0/6 [00:00<?, ?it/s]"
      ]
     },
     "metadata": {},
     "output_type": "display_data"
    },
    {
     "name": "stdout",
     "output_type": "stream",
     "text": [
      "1354.0\n"
     ]
    }
   ],
   "source": [
    "min_time = 100000\n",
    "job_1 = [[row[i] for row in divided_lists[8]] for i in range(len(divided_lists[0][0]))]\n",
    "print(job_1)\n",
    "for weight_1 in tqdm(wj1):\n",
    "    for weight_2 in wj2:\n",
    "        for weight_3 in wj3:\n",
    "            for weight_4 in wj4:\n",
    "                for weight_5 in wj5:\n",
    "                    Weight = [weight_1,weight_2,weight_3,weight_4,weight_5]\n",
    "                    weighted_job_1 = job_1[:]\n",
    "                    for i in range(len(weighted_job_1)):\n",
    "                        for j in range(len(weighted_job_1[i])):\n",
    "                            weighted_job_1[i][j] *= Weight[j]\n",
    "                    finale_weights = []\n",
    "                    for j in weighted_job_1:\n",
    "                        sum_weight = sum(j)\n",
    "                        finale_weights.append(sum_weight)\n",
    "                    sorted_with_indices = sorted(enumerate(finale_weights), key=lambda x: x[1], reverse=True)\n",
    "                    sorted_list = [x[1] for x in sorted_with_indices]\n",
    "                    sorted_indices = [x[0] for x in sorted_with_indices]\n",
    "                    job_1 = [[row[i] for row in divided_lists[8]] for i in range(len(divided_lists[0][0]))]\n",
    "                    combined = zip(job_1, sorted_indices)\n",
    "                    sorted_combined = sorted(combined, key=lambda x: x[1])\n",
    "\n",
    "                    sorted_list = [x[0] for x in sorted_combined]\n",
    "\n",
    "                    time_of_work = do_the_job(sorted_list)\n",
    "                    min_time = time_of_work if time_of_work<min_time else min_time\n",
    "print(min_time)"
   ]
  },
  {
   "cell_type": "code",
   "execution_count": 68,
   "metadata": {},
   "outputs": [
    {
     "name": "stdout",
     "output_type": "stream",
     "text": [
      "[[27.0, 79.0, 22.0, 93.0, 38.0], [92.0, 23.0, 93.0, 22.0, 84.0], [75.0, 66.0, 62.0, 64.0, 62.0], [94.0, 5.0, 53.0, 81.0, 10.0], [18.0, 15.0, 30.0, 94.0, 11.0], [41.0, 51.0, 34.0, 97.0, 93.0], [37.0, 2.0, 27.0, 54.0, 57.0], [58.0, 81.0, 30.0, 82.0, 81.0], [56.0, 12.0, 54.0, 11.0, 10.0], [20.0, 40.0, 77.0, 91.0, 40.0], [2.0, 59.0, 24.0, 23.0, 62.0], [39.0, 32.0, 47.0, 32.0, 49.0], [91.0, 16.0, 39.0, 26.0, 90.0], [81.0, 87.0, 66.0, 22.0, 34.0], [33.0, 78.0, 41.0, 12.0, 11.0], [14.0, 41.0, 46.0, 23.0, 81.0], [88.0, 43.0, 24.0, 34.0, 51.0], [22.0, 94.0, 23.0, 87.0, 21.0], [36.0, 1.0, 68.0, 59.0, 39.0], [65.0, 93.0, 50.0, 2.0, 27.0]]\n"
     ]
    },
    {
     "data": {
      "application/vnd.jupyter.widget-view+json": {
       "model_id": "b204faa5d5ce4edbb5ae65764d04ac6e",
       "version_major": 2,
       "version_minor": 0
      },
      "text/plain": [
       "  0%|          | 0/6 [00:00<?, ?it/s]"
      ]
     },
     "metadata": {},
     "output_type": "display_data"
    },
    {
     "name": "stdout",
     "output_type": "stream",
     "text": [
      "1218.0\n"
     ]
    }
   ],
   "source": [
    "min_time = 100000\n",
    "job_1 = [[row[i] for row in divided_lists[9]] for i in range(len(divided_lists[0][0]))]\n",
    "print(job_1)\n",
    "for weight_1 in tqdm(wj1):\n",
    "    for weight_2 in wj2:\n",
    "        for weight_3 in wj3:\n",
    "            for weight_4 in wj4:\n",
    "                for weight_5 in wj5:\n",
    "                    Weight = [weight_1,weight_2,weight_3,weight_4,weight_5]\n",
    "                    weighted_job_1 = job_1[:]\n",
    "                    for i in range(len(weighted_job_1)):\n",
    "                        for j in range(len(weighted_job_1[i])):\n",
    "                            weighted_job_1[i][j] *= Weight[j]\n",
    "                    finale_weights = []\n",
    "                    for j in weighted_job_1:\n",
    "                        sum_weight = sum(j)\n",
    "                        finale_weights.append(sum_weight)\n",
    "                    sorted_with_indices = sorted(enumerate(finale_weights), key=lambda x: x[1], reverse=True)\n",
    "                    sorted_list = [x[1] for x in sorted_with_indices]\n",
    "                    sorted_indices = [x[0] for x in sorted_with_indices]\n",
    "                    job_1 = [[row[i] for row in divided_lists[9]] for i in range(len(divided_lists[0][0]))]\n",
    "                    combined = zip(job_1, sorted_indices)\n",
    "                    sorted_combined = sorted(combined, key=lambda x: x[1])\n",
    "\n",
    "                    sorted_list = [x[0] for x in sorted_combined]\n",
    "\n",
    "                    time_of_work = do_the_job(sorted_list)\n",
    "                    min_time = time_of_work if time_of_work<min_time else min_time\n",
    "print(min_time)"
   ]
  }
 ],
 "metadata": {
  "kernelspec": {
   "display_name": "Python 3",
   "language": "python",
   "name": "python3"
  },
  "language_info": {
   "codemirror_mode": {
    "name": "ipython",
    "version": 3
   },
   "file_extension": ".py",
   "mimetype": "text/x-python",
   "name": "python",
   "nbconvert_exporter": "python",
   "pygments_lexer": "ipython3",
   "version": "3.11.1"
  },
  "orig_nbformat": 4
 },
 "nbformat": 4,
 "nbformat_minor": 2
}
