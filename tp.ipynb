{
 "cells": [
  {
   "cell_type": "code",
   "execution_count": 1,
   "metadata": {},
   "outputs": [],
   "source": [
    "%load_ext autoreload\n",
    "%autoreload 2\n",
    "import pyscheduling.FS.FmCmax as fs"
   ]
  },
  {
   "cell_type": "code",
   "execution_count": 2,
   "metadata": {},
   "outputs": [],
   "source": [
    "instance = fs.FmCmax_Instance.generate_random(5,2)\n",
    "instance.to_txt(\"deleteMe.txt\")"
   ]
  },
  {
   "cell_type": "code",
   "execution_count": 3,
   "metadata": {},
   "outputs": [
    {
     "name": "stdout",
     "output_type": "stream",
     "text": [
      "Search stopped with status : FEASIBLE\n",
      " Solution is : \n",
      " Objective : 346\n",
      "Jobs sequence : 2\t3\t1\t4\t0\n",
      "Machine_ID | Job_schedule (job_id , start_time , completion_time) | Completion_time\n",
      "(2, 0, 49) : (3, 49, 99) : (1, 99, 154) : (4, 154, 225) : (0, 225, 297) | 297\n",
      "(2, 49, 113) : (3, 113, 157) : (1, 157, 207) : (4, 225, 283) : (0, 297, 346) | 346 \n",
      "Runtime is : 6.0399994254112244e-05s \n",
      "time to best is : -1s \n",
      "\n"
     ]
    }
   ],
   "source": [
    "solution = fs.Heuristics.slope(instance)\n",
    "print(solution)"
   ]
  },
  {
   "cell_type": "code",
   "execution_count": 11,
   "metadata": {},
   "outputs": [
    {
     "ename": "ModuleNotFoundError",
     "evalue": "No module named 'pyscheduling.solvers'",
     "output_type": "error",
     "traceback": [
      "\u001b[1;31m---------------------------------------------------------------------------\u001b[0m",
      "\u001b[1;31mModuleNotFoundError\u001b[0m                       Traceback (most recent call last)",
      "Cell \u001b[1;32mIn[11], line 1\u001b[0m\n\u001b[1;32m----> 1\u001b[0m \u001b[39mfrom\u001b[39;00m \u001b[39mpyscheduling\u001b[39;00m\u001b[39m.\u001b[39;00m\u001b[39msolvers\u001b[39;00m \u001b[39mimport\u001b[39;00m BranchAndBoundSolver\n\u001b[0;32m      2\u001b[0m \u001b[39mfrom\u001b[39;00m \u001b[39mpyscheduling\u001b[39;00m\u001b[39m.\u001b[39;00m\u001b[39mmodel\u001b[39;00m \u001b[39mimport\u001b[39;00m FlowShopModel\n\u001b[0;32m      4\u001b[0m \u001b[39m# Define the flow shop problem parameters\u001b[39;00m\n",
      "\u001b[1;31mModuleNotFoundError\u001b[0m: No module named 'pyscheduling.solvers'"
     ]
    }
   ],
   "source": [
    "num_machines = 5\n",
    "processing_times = [[10, 6, 8, 7 , 3],\n",
    "                    [3 , 4, 7, 8 , 2],\n",
    "                    [5 , 8, 6, 4 , 4],\n",
    "                    [4 , 3, 6, 8 , 5],\n",
    "                    [5 , 4, 7, 10, 2],\n",
    "                    [9 , 6, 7, 3 , 5],\n",
    "                    [8 , 5, 6, 4 , 7],\n",
    "                    [6 , 7, 3, 8 , 4],\n",
    "                    [3 , 4, 7, 9 , 2],\n",
    "                    [5 , 8, 6, 3 , 4],\n",
    "                    [4 , 3, 6, 7 , 5],\n",
    "                    [5 , 4, 7, 10, 2],\n",
    "                    [9 , 6, 7, 3 , 5],\n",
    "                    [8 , 5, 6, 4 , 7],\n",
    "                    [6 , 7, 3, 8 , 4],\n",
    "                    [3 , 4, 7, 9 , 2],\n",
    "                    [5 , 8, 6, 3 , 4],\n",
    "                    [4 , 3, 6, 7 , 5],\n",
    "                    [5 , 4, 7, 10, 2],\n",
    "                    [9 , 6, 7, 3 , 5]]\n",
    "\n",
    "# Construct the flow shop model\n",
    "model = FlowShopModel(num_jobs, num_machines, processing_times)\n",
    "\n",
    "# Construct the branch and bound solver\n",
    "solver = BranchAndBoundSolver(model)\n",
    "\n",
    "# Solve the problem using branch and bound\n",
    "status, schedule, cost, node_count = solver.solve()\n",
    "\n",
    "# Print the solution\n",
    "if status == 'optimal':\n",
    "    print('Optimal schedule found:')\n",
    "    for job, tasks in schedule.items():\n",
    "        print('Job', job, ':', tasks)\n",
    "    print('Optimal cost:', cost)\n",
    "    print('Number of nodes explored:', node_count)\n",
    "else:\n",
    "    print('No optimal solution found.')\n"
   ]
  },
  {
   "cell_type": "code",
   "execution_count": 12,
   "metadata": {},
   "outputs": [
    {
     "name": "stdout",
     "output_type": "stream",
     "text": [
      "No optimal solution found. Status: -1\n"
     ]
    },
    {
     "name": "stderr",
     "output_type": "stream",
     "text": [
      "C:\\Users\\Xodios\\AppData\\Local\\Temp\\ipykernel_33928\\1099773976.py:32: DeprecationWarning: 'indexs' is deprecated; use 'indices'.\n",
      "  x = LpVariable.dicts(name=\"x\", indexs=tasks, lowBound=0, upBound=None, cat=LpInteger)\n"
     ]
    }
   ],
   "source": [
    "import pulp \n",
    "\n",
    "# Define the flow shop problem parameters\n",
    "num_jobs = 20\n",
    "num_machines = 5\n",
    "processing_times = [[10, 7, 6, 6, 7],\n",
    "                    [9, 7, 8, 5, 7],\n",
    "                    [8, 7, 6, 6, 7],\n",
    "                    [9, 7, 8, 5, 7],\n",
    "                    [10, 7, 6, 6, 7],\n",
    "                    [9, 7, 8, 5, 7],\n",
    "                    [8, 7, 6, 6, 7],\n",
    "                    [9, 7, 8, 5, 7],\n",
    "                    [10, 7, 6, 6, 7],\n",
    "                    [9, 7, 8, 5, 7],\n",
    "                    [8, 7, 6, 6, 7],\n",
    "                    [9, 7, 8, 5, 7],\n",
    "                    [10, 7, 6, 6, 7],\n",
    "                    [9, 7, 8, 5, 7],\n",
    "                    [8, 7, 6, 6, 7],\n",
    "                    [9, 7, 8, 5, 7],\n",
    "                    [10, 7, 6, 6, 7],\n",
    "                    [9, 7, 8, 5, 7],\n",
    "                    [8, 7, 6, 6, 7],\n",
    "                    [9, 7, 8, 5, 7]]\n",
    "\n",
    "# Define the PuLP model\n",
    "model = LpProblem(name=\"flow_shop_problem\", sense=LpMinimize)\n",
    "\n",
    "# Define the decision variables\n",
    "tasks = [(i, j) for i in range(num_jobs) for j in range(num_machines)]\n",
    "x = LpVariable.dicts(name=\"x\", indexs=tasks, lowBound=0, upBound=None, cat=LpInteger)\n",
    "\n",
    "# Define the objective function\n",
    "model += lpSum(x[(i, j)] for i in range(num_jobs) for j in range(num_machines))\n",
    "\n",
    "# Define the constraints\n",
    "for i in range(num_jobs):\n",
    "    for j in range(num_machines):\n",
    "        # Each job must start processing after its previous task is finished\n",
    "        if j == 0:\n",
    "            model += x[(i, j)] >= processing_times[i][j]\n",
    "        else:\n",
    "            model += x[(i, j)] >= x[(i, j-1)] + processing_times[i][j]\n",
    "        \n",
    "        # Each machine can process only one task at a time\n",
    "        for k in range(num_jobs):\n",
    "            if k != i:\n",
    "                model += x[(i, j)] >= x[(k, j)] + processing_times[k][j]\n",
    "\n",
    "# Solve the problem using branch and bound\n",
    "model.solve(PULP_CBC_CMD(msg=1))\n",
    "\n",
    "# Print the solution\n",
    "if model.status == LpStatusOptimal:\n",
    "    print('Optimal schedule found:')\n",
    "    for i in range(num_jobs):\n",
    "        tasks = []\n",
    "        for j in range(num_machines):\n",
    "            tasks.append((x[(i, j)].name, x[(i, j)].value()))\n",
    "        tasks.sort(key=lambda x: x[1])\n",
    "        print(f'Job {i}: {\" -> \".join([t[0] for t in tasks])}')\n",
    "else:\n",
    "    print(f\"No optimal solution found. Status: {model.status}\")\n",
    "              \n",
    "\n"
   ]
  },
  {
   "cell_type": "code",
   "execution_count": null,
   "metadata": {},
   "outputs": [],
   "source": [
    "import pulp\n",
    "\n",
    "# Define the flow shop problem parameters\n",
    "num_jobs = 20\n",
    "num_machines = 5\n",
    "processing_times = [[4, 5, 6, 4, 5],\n",
    "                    [3, 4, 3, 4, 3],\n",
    "                    [2, 2, 2, 2, 2],\n",
    "                    [5, 5, 6, 5, 6],\n",
    "                    [3, 3, 3, 3, 3],\n",
    "                    [4, 5, 6, 5, 6],\n",
    "                    [2, 2, 2, 2, 2],\n",
    "                    [3, 3, 3, 3, 3],\n",
    "                    [4, 5, 6, 5, 6],\n",
    "                    [3, 4, 3, 4, 3],\n",
    "                    [2, 2, 2, 2, 2],\n",
    "                    [5, 5, 6, 5, 6],\n",
    "                    [4, 5, 6, 4, 5],\n",
    "                    [3, 4, 3, 4, 3],\n",
    "                    [2, 2, 2, 2, 2],\n",
    "                    [5, 5, 6, 5, 6],\n",
    "                    [3, 3, 3, 3, 3],\n",
    "                    [4, 5, 6, 5, 6],\n",
    "                    [2, 2, 2, 2, 2],\n",
    "                    [3, 3, 3, 3, 3]]\n",
    "\n",
    "# Create a binary variable for each job and machine combination\n",
    "x = pulp.LpVariable.dicts('x', ((i, j) for i in range(num_jobs) for j in range(num_machines)), lowBound=0, upBound=1, cat=pulp.LpInteger)\n",
    "\n",
    "# Create the problem variable\n",
    "prob = pulp.LpProblem(\"Flow Shop Scheduling Problem\", pulp.LpMinimize)\n",
    "\n",
    "# Define the objective function\n",
    "prob += pulp.lpSum(x[(i,j)] * processing_times[i][j] for i in range(num_jobs) for j in range(num_machines))\n",
    "\n",
    "# Define the constraints\n",
    "# Each job can only be scheduled once\n",
    "for i in range(num_jobs):\n",
    "    prob += pulp.lpSum(x[(i,j)] for j in range(num_machines)) == 1\n",
    "\n",
    "# Each machine can only process one job at a time\n",
    "for j in range(num_machines):\n",
    "    prob += pulp.lpSum(x[(i,j)] for i in range(num_jobs)) == 1\n",
    "\n",
    "# Create a list of tuples for the permutations of the jobs\n",
    "perm_list = [(i,j) for i in range(num_jobs) for j in range(i+1, num_jobs)]\n",
    "\n",
    "# Add the permutation constraints to the problem\n",
    "for perm in perm_list:\n",
    "    i = perm[0]\n",
    "    j = perm[1]\n",
    "    for k in range(num_machines):\n",
    "        prob += (pulp.lpSum(x[(i,k)] * processing_times[i][k] for k in range(k+1)) +\n",
    "                 pulp.lpSum(x[(j,k\n"
   ]
  },
  {
   "attachments": {},
   "cell_type": "markdown",
   "metadata": {},
   "source": [
    "# Starting the implimentation"
   ]
  },
  {
   "attachments": {},
   "cell_type": "markdown",
   "metadata": {},
   "source": [
    "Let's cut it down to pieces \n",
    "I have many jobs \n",
    "what's the hard way of doing it and how much time would it take to calculate?\n",
    "20!"
   ]
  },
  {
   "cell_type": "code",
   "execution_count": 13,
   "metadata": {},
   "outputs": [],
   "source": [
    "num_jobs = 20\n",
    "num_machines = 5\n",
    "processing_times = [[4, 5, 6, 4, 5],\n",
    "                    [3, 4, 3, 4, 3],\n",
    "                    [2, 2, 2, 2, 2],\n",
    "                    [5, 5, 6, 5, 6],\n",
    "                    [3, 3, 3, 3, 3],\n",
    "                    [4, 5, 6, 5, 6],\n",
    "                    [2, 2, 2, 2, 2],\n",
    "                    [3, 3, 3, 3, 3],\n",
    "                    [4, 5, 6, 5, 6],\n",
    "                    [3, 4, 3, 4, 3],\n",
    "                    [2, 2, 2, 2, 2],\n",
    "                    [5, 5, 6, 5, 6],\n",
    "                    [4, 5, 6, 4, 5],\n",
    "                    [3, 4, 3, 4, 3],\n",
    "                    [2, 2, 2, 2, 2],\n",
    "                    [5, 5, 6, 5, 6],\n",
    "                    [3, 3, 3, 3, 3],\n",
    "                    [4, 5, 6, 5, 6],\n",
    "                    [2, 2, 2, 2, 2],\n",
    "                    [3, 3, 3, 3, 3]]\n"
   ]
  }
 ],
 "metadata": {
  "kernelspec": {
   "display_name": "Python 3",
   "language": "python",
   "name": "python3"
  },
  "language_info": {
   "codemirror_mode": {
    "name": "ipython",
    "version": 3
   },
   "file_extension": ".py",
   "mimetype": "text/x-python",
   "name": "python",
   "nbconvert_exporter": "python",
   "pygments_lexer": "ipython3",
   "version": "3.11.1"
  },
  "orig_nbformat": 4,
  "vscode": {
   "interpreter": {
    "hash": "9c9e3963723c8f92737e409561f90b77851da50b8525d226799b7c6eba7d414f"
   }
  }
 },
 "nbformat": 4,
 "nbformat_minor": 2
}
